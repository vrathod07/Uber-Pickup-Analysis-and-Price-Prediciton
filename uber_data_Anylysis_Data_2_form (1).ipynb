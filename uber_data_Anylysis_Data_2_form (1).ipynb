{
  "cells": [
    {
      "cell_type": "code",
      "execution_count": null,
      "id": "64411719-5d2a-4dff-9411-36906be8f0e0",
      "metadata": {
        "id": "64411719-5d2a-4dff-9411-36906be8f0e0"
      },
      "outputs": [],
      "source": [
        "#Data Processing\n",
        "import pandas as pd\n",
        "import numpy as np\n",
        "\n",
        "#Data Visulaisation\n",
        "import matplotlib.pyplot as plt\n",
        "%matplotlib inline\n",
        "import seaborn as sns\n",
        "import plotly.express as px\n",
        "from scipy import stats\n",
        "\n",
        "import os\n",
        "import datetime"
      ]
    },
    {
      "cell_type": "code",
      "execution_count": null,
      "id": "a046f463-2edf-485a-ad05-8ec55d4a7df0",
      "metadata": {
        "colab": {
          "base_uri": "https://localhost:8080/",
          "height": 632
        },
        "id": "a046f463-2edf-485a-ad05-8ec55d4a7df0",
        "outputId": "c1b31c50-e295-4304-fbf5-f9ad99811743"
      },
      "outputs": [
        {
          "output_type": "execute_result",
          "data": {
            "text/plain": [
              "     City Product Type Trip or Order Status                   Request Time  \\\n",
              "549   458         POOL            COMPLETED  2016-06-22 11:07:02 +0000 UTC   \n",
              "550   458        uberX            COMPLETED  2016-04-07 00:30:46 +0000 UTC   \n",
              "551   458        uberX            COMPLETED  2016-04-06 21:16:52 +0000 UTC   \n",
              "552   458        uberX             CANCELED  2016-04-06 21:12:03 +0000 UTC   \n",
              "553   458        uberX             CANCELED  2015-12-17 23:52:50 +0000 UTC   \n",
              "\n",
              "                   Begin Trip Time  Begin Trip Lat  Begin Trip Lng  \\\n",
              "549  2016-06-22 11:14:17 +0000 UTC      -23.616073      -46.665949   \n",
              "550  2016-04-07 00:35:23 +0000 UTC      -23.569478      -46.672408   \n",
              "551  2016-04-06 21:20:44 +0000 UTC      -23.602608      -46.645084   \n",
              "552  1970-01-01 00:00:00 +0000 UTC      -23.601718      -46.646871   \n",
              "553  2015-12-18 00:01:01 +0000 UTC      -23.607114      -46.566483   \n",
              "\n",
              "                      Dropoff Time  Dropoff Lat  Dropoff Lng  \\\n",
              "549  2016-06-22 11:24:28 +0000 UTC   -23.602760   -46.644897   \n",
              "550  2016-04-07 00:50:14 +0000 UTC   -23.602737   -46.645352   \n",
              "551  2016-04-06 21:41:30 +0000 UTC   -23.569549   -46.672412   \n",
              "552  1970-01-01 00:00:00 +0000 UTC   -23.600862   -46.644494   \n",
              "553  1970-01-01 00:00:00 +0000 UTC   -23.611577   -46.570618   \n",
              "\n",
              "     Distance (miles)  Fare Amount Fare Currency  \n",
              "549              2.20         7.84           BRL  \n",
              "550              4.08        15.06           BRL  \n",
              "551              3.45        15.16           BRL  \n",
              "552              0.00         0.00           BRL  \n",
              "553              0.00         7.00           BRL  "
            ],
            "text/html": [
              "\n",
              "  <div id=\"df-d15c164a-8f2d-4bdb-81c6-8f0949e73b1a\">\n",
              "    <div class=\"colab-df-container\">\n",
              "      <div>\n",
              "<style scoped>\n",
              "    .dataframe tbody tr th:only-of-type {\n",
              "        vertical-align: middle;\n",
              "    }\n",
              "\n",
              "    .dataframe tbody tr th {\n",
              "        vertical-align: top;\n",
              "    }\n",
              "\n",
              "    .dataframe thead th {\n",
              "        text-align: right;\n",
              "    }\n",
              "</style>\n",
              "<table border=\"1\" class=\"dataframe\">\n",
              "  <thead>\n",
              "    <tr style=\"text-align: right;\">\n",
              "      <th></th>\n",
              "      <th>City</th>\n",
              "      <th>Product Type</th>\n",
              "      <th>Trip or Order Status</th>\n",
              "      <th>Request Time</th>\n",
              "      <th>Begin Trip Time</th>\n",
              "      <th>Begin Trip Lat</th>\n",
              "      <th>Begin Trip Lng</th>\n",
              "      <th>Dropoff Time</th>\n",
              "      <th>Dropoff Lat</th>\n",
              "      <th>Dropoff Lng</th>\n",
              "      <th>Distance (miles)</th>\n",
              "      <th>Fare Amount</th>\n",
              "      <th>Fare Currency</th>\n",
              "    </tr>\n",
              "  </thead>\n",
              "  <tbody>\n",
              "    <tr>\n",
              "      <th>549</th>\n",
              "      <td>458</td>\n",
              "      <td>POOL</td>\n",
              "      <td>COMPLETED</td>\n",
              "      <td>2016-06-22 11:07:02 +0000 UTC</td>\n",
              "      <td>2016-06-22 11:14:17 +0000 UTC</td>\n",
              "      <td>-23.616073</td>\n",
              "      <td>-46.665949</td>\n",
              "      <td>2016-06-22 11:24:28 +0000 UTC</td>\n",
              "      <td>-23.602760</td>\n",
              "      <td>-46.644897</td>\n",
              "      <td>2.20</td>\n",
              "      <td>7.84</td>\n",
              "      <td>BRL</td>\n",
              "    </tr>\n",
              "    <tr>\n",
              "      <th>550</th>\n",
              "      <td>458</td>\n",
              "      <td>uberX</td>\n",
              "      <td>COMPLETED</td>\n",
              "      <td>2016-04-07 00:30:46 +0000 UTC</td>\n",
              "      <td>2016-04-07 00:35:23 +0000 UTC</td>\n",
              "      <td>-23.569478</td>\n",
              "      <td>-46.672408</td>\n",
              "      <td>2016-04-07 00:50:14 +0000 UTC</td>\n",
              "      <td>-23.602737</td>\n",
              "      <td>-46.645352</td>\n",
              "      <td>4.08</td>\n",
              "      <td>15.06</td>\n",
              "      <td>BRL</td>\n",
              "    </tr>\n",
              "    <tr>\n",
              "      <th>551</th>\n",
              "      <td>458</td>\n",
              "      <td>uberX</td>\n",
              "      <td>COMPLETED</td>\n",
              "      <td>2016-04-06 21:16:52 +0000 UTC</td>\n",
              "      <td>2016-04-06 21:20:44 +0000 UTC</td>\n",
              "      <td>-23.602608</td>\n",
              "      <td>-46.645084</td>\n",
              "      <td>2016-04-06 21:41:30 +0000 UTC</td>\n",
              "      <td>-23.569549</td>\n",
              "      <td>-46.672412</td>\n",
              "      <td>3.45</td>\n",
              "      <td>15.16</td>\n",
              "      <td>BRL</td>\n",
              "    </tr>\n",
              "    <tr>\n",
              "      <th>552</th>\n",
              "      <td>458</td>\n",
              "      <td>uberX</td>\n",
              "      <td>CANCELED</td>\n",
              "      <td>2016-04-06 21:12:03 +0000 UTC</td>\n",
              "      <td>1970-01-01 00:00:00 +0000 UTC</td>\n",
              "      <td>-23.601718</td>\n",
              "      <td>-46.646871</td>\n",
              "      <td>1970-01-01 00:00:00 +0000 UTC</td>\n",
              "      <td>-23.600862</td>\n",
              "      <td>-46.644494</td>\n",
              "      <td>0.00</td>\n",
              "      <td>0.00</td>\n",
              "      <td>BRL</td>\n",
              "    </tr>\n",
              "    <tr>\n",
              "      <th>553</th>\n",
              "      <td>458</td>\n",
              "      <td>uberX</td>\n",
              "      <td>CANCELED</td>\n",
              "      <td>2015-12-17 23:52:50 +0000 UTC</td>\n",
              "      <td>2015-12-18 00:01:01 +0000 UTC</td>\n",
              "      <td>-23.607114</td>\n",
              "      <td>-46.566483</td>\n",
              "      <td>1970-01-01 00:00:00 +0000 UTC</td>\n",
              "      <td>-23.611577</td>\n",
              "      <td>-46.570618</td>\n",
              "      <td>0.00</td>\n",
              "      <td>7.00</td>\n",
              "      <td>BRL</td>\n",
              "    </tr>\n",
              "  </tbody>\n",
              "</table>\n",
              "</div>\n",
              "      <button class=\"colab-df-convert\" onclick=\"convertToInteractive('df-d15c164a-8f2d-4bdb-81c6-8f0949e73b1a')\"\n",
              "              title=\"Convert this dataframe to an interactive table.\"\n",
              "              style=\"display:none;\">\n",
              "        \n",
              "  <svg xmlns=\"http://www.w3.org/2000/svg\" height=\"24px\"viewBox=\"0 0 24 24\"\n",
              "       width=\"24px\">\n",
              "    <path d=\"M0 0h24v24H0V0z\" fill=\"none\"/>\n",
              "    <path d=\"M18.56 5.44l.94 2.06.94-2.06 2.06-.94-2.06-.94-.94-2.06-.94 2.06-2.06.94zm-11 1L8.5 8.5l.94-2.06 2.06-.94-2.06-.94L8.5 2.5l-.94 2.06-2.06.94zm10 10l.94 2.06.94-2.06 2.06-.94-2.06-.94-.94-2.06-.94 2.06-2.06.94z\"/><path d=\"M17.41 7.96l-1.37-1.37c-.4-.4-.92-.59-1.43-.59-.52 0-1.04.2-1.43.59L10.3 9.45l-7.72 7.72c-.78.78-.78 2.05 0 2.83L4 21.41c.39.39.9.59 1.41.59.51 0 1.02-.2 1.41-.59l7.78-7.78 2.81-2.81c.8-.78.8-2.07 0-2.86zM5.41 20L4 18.59l7.72-7.72 1.47 1.35L5.41 20z\"/>\n",
              "  </svg>\n",
              "      </button>\n",
              "      \n",
              "  <style>\n",
              "    .colab-df-container {\n",
              "      display:flex;\n",
              "      flex-wrap:wrap;\n",
              "      gap: 12px;\n",
              "    }\n",
              "\n",
              "    .colab-df-convert {\n",
              "      background-color: #E8F0FE;\n",
              "      border: none;\n",
              "      border-radius: 50%;\n",
              "      cursor: pointer;\n",
              "      display: none;\n",
              "      fill: #1967D2;\n",
              "      height: 32px;\n",
              "      padding: 0 0 0 0;\n",
              "      width: 32px;\n",
              "    }\n",
              "\n",
              "    .colab-df-convert:hover {\n",
              "      background-color: #E2EBFA;\n",
              "      box-shadow: 0px 1px 2px rgba(60, 64, 67, 0.3), 0px 1px 3px 1px rgba(60, 64, 67, 0.15);\n",
              "      fill: #174EA6;\n",
              "    }\n",
              "\n",
              "    [theme=dark] .colab-df-convert {\n",
              "      background-color: #3B4455;\n",
              "      fill: #D2E3FC;\n",
              "    }\n",
              "\n",
              "    [theme=dark] .colab-df-convert:hover {\n",
              "      background-color: #434B5C;\n",
              "      box-shadow: 0px 1px 3px 1px rgba(0, 0, 0, 0.15);\n",
              "      filter: drop-shadow(0px 1px 2px rgba(0, 0, 0, 0.3));\n",
              "      fill: #FFFFFF;\n",
              "    }\n",
              "  </style>\n",
              "\n",
              "      <script>\n",
              "        const buttonEl =\n",
              "          document.querySelector('#df-d15c164a-8f2d-4bdb-81c6-8f0949e73b1a button.colab-df-convert');\n",
              "        buttonEl.style.display =\n",
              "          google.colab.kernel.accessAllowed ? 'block' : 'none';\n",
              "\n",
              "        async function convertToInteractive(key) {\n",
              "          const element = document.querySelector('#df-d15c164a-8f2d-4bdb-81c6-8f0949e73b1a');\n",
              "          const dataTable =\n",
              "            await google.colab.kernel.invokeFunction('convertToInteractive',\n",
              "                                                     [key], {});\n",
              "          if (!dataTable) return;\n",
              "\n",
              "          const docLinkHtml = 'Like what you see? Visit the ' +\n",
              "            '<a target=\"_blank\" href=https://colab.research.google.com/notebooks/data_table.ipynb>data table notebook</a>'\n",
              "            + ' to learn more about interactive tables.';\n",
              "          element.innerHTML = '';\n",
              "          dataTable['output_type'] = 'display_data';\n",
              "          await google.colab.output.renderOutput(dataTable, element);\n",
              "          const docLink = document.createElement('div');\n",
              "          docLink.innerHTML = docLinkHtml;\n",
              "          element.appendChild(docLink);\n",
              "        }\n",
              "      </script>\n",
              "    </div>\n",
              "  </div>\n",
              "  "
            ]
          },
          "metadata": {},
          "execution_count": 121
        }
      ],
      "source": [
        "df = pd.read_csv(\"trips_data.csv\")\n",
        "df.tail()"
      ]
    },
    {
      "cell_type": "code",
      "execution_count": null,
      "id": "42e13861-d792-489b-8fa4-ecaa4a5f95f0",
      "metadata": {
        "id": "42e13861-d792-489b-8fa4-ecaa4a5f95f0",
        "outputId": "2b5ebc44-510d-4d71-caec-1fe25c1ff67f",
        "colab": {
          "base_uri": "https://localhost:8080/"
        }
      },
      "outputs": [
        {
          "output_type": "execute_result",
          "data": {
            "text/plain": [
              "City                      int64\n",
              "Product Type             object\n",
              "Trip or Order Status     object\n",
              "Request Time             object\n",
              "Begin Trip Time          object\n",
              "Begin Trip Lat          float64\n",
              "Begin Trip Lng          float64\n",
              "Dropoff Time             object\n",
              "Dropoff Lat             float64\n",
              "Dropoff Lng             float64\n",
              "Distance (miles)        float64\n",
              "Fare Amount             float64\n",
              "Fare Currency            object\n",
              "dtype: object"
            ]
          },
          "metadata": {},
          "execution_count": 122
        }
      ],
      "source": [
        "df.dtypes"
      ]
    },
    {
      "cell_type": "code",
      "execution_count": null,
      "id": "47f3134c-289b-407d-9e2d-5b8208f051bd",
      "metadata": {
        "colab": {
          "base_uri": "https://localhost:8080/"
        },
        "id": "47f3134c-289b-407d-9e2d-5b8208f051bd",
        "outputId": "6a37fbdf-d8a4-4650-faa5-caae27b57a08"
      },
      "outputs": [
        {
          "output_type": "execute_result",
          "data": {
            "text/plain": [
              "(554, 13)"
            ]
          },
          "metadata": {},
          "execution_count": 123
        }
      ],
      "source": [
        "df.shape"
      ]
    },
    {
      "cell_type": "code",
      "source": [
        "df.drop(\"Fare Currency\",axis=1,inplace=True)"
      ],
      "metadata": {
        "id": "s1szN7DEhv5O"
      },
      "id": "s1szN7DEhv5O",
      "execution_count": null,
      "outputs": []
    },
    {
      "cell_type": "code",
      "source": [
        "df.columns"
      ],
      "metadata": {
        "id": "h6rLAsadiBZX",
        "outputId": "0bf92ed9-a188-4cbe-a1d6-543f5fdcbb08",
        "colab": {
          "base_uri": "https://localhost:8080/"
        }
      },
      "id": "h6rLAsadiBZX",
      "execution_count": null,
      "outputs": [
        {
          "output_type": "execute_result",
          "data": {
            "text/plain": [
              "Index(['City', 'Product Type', 'Trip or Order Status', 'Request Time',\n",
              "       'Begin Trip Time', 'Begin Trip Lat', 'Begin Trip Lng', 'Dropoff Time',\n",
              "       'Dropoff Lat', 'Dropoff Lng', 'Distance (miles)', 'Fare Amount'],\n",
              "      dtype='object')"
            ]
          },
          "metadata": {},
          "execution_count": 125
        }
      ]
    },
    {
      "cell_type": "code",
      "source": [
        "df[\"Fare Amount\"].describe()"
      ],
      "metadata": {
        "colab": {
          "base_uri": "https://localhost:8080/"
        },
        "id": "pj16awjniE_e",
        "outputId": "3adef28d-d362-49e8-baa1-d1220b408331"
      },
      "id": "pj16awjniE_e",
      "execution_count": null,
      "outputs": [
        {
          "output_type": "execute_result",
          "data": {
            "text/plain": [
              "count    554.000000\n",
              "mean      16.280361\n",
              "std       12.445731\n",
              "min        0.000000\n",
              "25%        7.872500\n",
              "50%       15.100000\n",
              "75%       24.682500\n",
              "max       95.400000\n",
              "Name: Fare Amount, dtype: float64"
            ]
          },
          "metadata": {},
          "execution_count": 126
        }
      ]
    },
    {
      "cell_type": "code",
      "source": [
        "df.isnull().sum()"
      ],
      "metadata": {
        "colab": {
          "base_uri": "https://localhost:8080/"
        },
        "id": "7edgiqWUiOL8",
        "outputId": "afe84aa7-2c78-4191-d70f-c8626ebd48c7"
      },
      "id": "7edgiqWUiOL8",
      "execution_count": null,
      "outputs": [
        {
          "output_type": "execute_result",
          "data": {
            "text/plain": [
              "City                     0\n",
              "Product Type             3\n",
              "Trip or Order Status     0\n",
              "Request Time             0\n",
              "Begin Trip Time          0\n",
              "Begin Trip Lat          29\n",
              "Begin Trip Lng          29\n",
              "Dropoff Time             0\n",
              "Dropoff Lat             29\n",
              "Dropoff Lng             29\n",
              "Distance (miles)         0\n",
              "Fare Amount              0\n",
              "dtype: int64"
            ]
          },
          "metadata": {},
          "execution_count": 127
        }
      ]
    },
    {
      "cell_type": "code",
      "source": [
        "df[df['Product Type'] == False] == True"
      ],
      "metadata": {
        "colab": {
          "base_uri": "https://localhost:8080/",
          "height": 111
        },
        "id": "dbx3HA2YHjAs",
        "outputId": "0fcc8f33-6e21-4245-9e08-7a291810b623"
      },
      "id": "dbx3HA2YHjAs",
      "execution_count": null,
      "outputs": [
        {
          "output_type": "execute_result",
          "data": {
            "text/plain": [
              "Empty DataFrame\n",
              "Columns: [City, Product Type, Trip or Order Status, Request Time, Begin Trip Time, Begin Trip Lat, Begin Trip Lng, Dropoff Time, Dropoff Lat, Dropoff Lng, Distance (miles), Fare Amount]\n",
              "Index: []"
            ],
            "text/html": [
              "\n",
              "  <div id=\"df-37657181-3043-445a-a9a6-2bbd8340e5dc\">\n",
              "    <div class=\"colab-df-container\">\n",
              "      <div>\n",
              "<style scoped>\n",
              "    .dataframe tbody tr th:only-of-type {\n",
              "        vertical-align: middle;\n",
              "    }\n",
              "\n",
              "    .dataframe tbody tr th {\n",
              "        vertical-align: top;\n",
              "    }\n",
              "\n",
              "    .dataframe thead th {\n",
              "        text-align: right;\n",
              "    }\n",
              "</style>\n",
              "<table border=\"1\" class=\"dataframe\">\n",
              "  <thead>\n",
              "    <tr style=\"text-align: right;\">\n",
              "      <th></th>\n",
              "      <th>City</th>\n",
              "      <th>Product Type</th>\n",
              "      <th>Trip or Order Status</th>\n",
              "      <th>Request Time</th>\n",
              "      <th>Begin Trip Time</th>\n",
              "      <th>Begin Trip Lat</th>\n",
              "      <th>Begin Trip Lng</th>\n",
              "      <th>Dropoff Time</th>\n",
              "      <th>Dropoff Lat</th>\n",
              "      <th>Dropoff Lng</th>\n",
              "      <th>Distance (miles)</th>\n",
              "      <th>Fare Amount</th>\n",
              "    </tr>\n",
              "  </thead>\n",
              "  <tbody>\n",
              "  </tbody>\n",
              "</table>\n",
              "</div>\n",
              "      <button class=\"colab-df-convert\" onclick=\"convertToInteractive('df-37657181-3043-445a-a9a6-2bbd8340e5dc')\"\n",
              "              title=\"Convert this dataframe to an interactive table.\"\n",
              "              style=\"display:none;\">\n",
              "        \n",
              "  <svg xmlns=\"http://www.w3.org/2000/svg\" height=\"24px\"viewBox=\"0 0 24 24\"\n",
              "       width=\"24px\">\n",
              "    <path d=\"M0 0h24v24H0V0z\" fill=\"none\"/>\n",
              "    <path d=\"M18.56 5.44l.94 2.06.94-2.06 2.06-.94-2.06-.94-.94-2.06-.94 2.06-2.06.94zm-11 1L8.5 8.5l.94-2.06 2.06-.94-2.06-.94L8.5 2.5l-.94 2.06-2.06.94zm10 10l.94 2.06.94-2.06 2.06-.94-2.06-.94-.94-2.06-.94 2.06-2.06.94z\"/><path d=\"M17.41 7.96l-1.37-1.37c-.4-.4-.92-.59-1.43-.59-.52 0-1.04.2-1.43.59L10.3 9.45l-7.72 7.72c-.78.78-.78 2.05 0 2.83L4 21.41c.39.39.9.59 1.41.59.51 0 1.02-.2 1.41-.59l7.78-7.78 2.81-2.81c.8-.78.8-2.07 0-2.86zM5.41 20L4 18.59l7.72-7.72 1.47 1.35L5.41 20z\"/>\n",
              "  </svg>\n",
              "      </button>\n",
              "      \n",
              "  <style>\n",
              "    .colab-df-container {\n",
              "      display:flex;\n",
              "      flex-wrap:wrap;\n",
              "      gap: 12px;\n",
              "    }\n",
              "\n",
              "    .colab-df-convert {\n",
              "      background-color: #E8F0FE;\n",
              "      border: none;\n",
              "      border-radius: 50%;\n",
              "      cursor: pointer;\n",
              "      display: none;\n",
              "      fill: #1967D2;\n",
              "      height: 32px;\n",
              "      padding: 0 0 0 0;\n",
              "      width: 32px;\n",
              "    }\n",
              "\n",
              "    .colab-df-convert:hover {\n",
              "      background-color: #E2EBFA;\n",
              "      box-shadow: 0px 1px 2px rgba(60, 64, 67, 0.3), 0px 1px 3px 1px rgba(60, 64, 67, 0.15);\n",
              "      fill: #174EA6;\n",
              "    }\n",
              "\n",
              "    [theme=dark] .colab-df-convert {\n",
              "      background-color: #3B4455;\n",
              "      fill: #D2E3FC;\n",
              "    }\n",
              "\n",
              "    [theme=dark] .colab-df-convert:hover {\n",
              "      background-color: #434B5C;\n",
              "      box-shadow: 0px 1px 3px 1px rgba(0, 0, 0, 0.15);\n",
              "      filter: drop-shadow(0px 1px 2px rgba(0, 0, 0, 0.3));\n",
              "      fill: #FFFFFF;\n",
              "    }\n",
              "  </style>\n",
              "\n",
              "      <script>\n",
              "        const buttonEl =\n",
              "          document.querySelector('#df-37657181-3043-445a-a9a6-2bbd8340e5dc button.colab-df-convert');\n",
              "        buttonEl.style.display =\n",
              "          google.colab.kernel.accessAllowed ? 'block' : 'none';\n",
              "\n",
              "        async function convertToInteractive(key) {\n",
              "          const element = document.querySelector('#df-37657181-3043-445a-a9a6-2bbd8340e5dc');\n",
              "          const dataTable =\n",
              "            await google.colab.kernel.invokeFunction('convertToInteractive',\n",
              "                                                     [key], {});\n",
              "          if (!dataTable) return;\n",
              "\n",
              "          const docLinkHtml = 'Like what you see? Visit the ' +\n",
              "            '<a target=\"_blank\" href=https://colab.research.google.com/notebooks/data_table.ipynb>data table notebook</a>'\n",
              "            + ' to learn more about interactive tables.';\n",
              "          element.innerHTML = '';\n",
              "          dataTable['output_type'] = 'display_data';\n",
              "          await google.colab.output.renderOutput(dataTable, element);\n",
              "          const docLink = document.createElement('div');\n",
              "          docLink.innerHTML = docLinkHtml;\n",
              "          element.appendChild(docLink);\n",
              "        }\n",
              "      </script>\n",
              "    </div>\n",
              "  </div>\n",
              "  "
            ]
          },
          "metadata": {},
          "execution_count": 128
        }
      ]
    },
    {
      "cell_type": "code",
      "source": [
        "df.drop([0,6,173],axis =0,inplace = True)"
      ],
      "metadata": {
        "id": "dObTRRloH18j"
      },
      "id": "dObTRRloH18j",
      "execution_count": null,
      "outputs": []
    },
    {
      "cell_type": "code",
      "execution_count": null,
      "id": "840edeb5-432f-4a2b-a6e5-5e947ce05779",
      "metadata": {
        "colab": {
          "base_uri": "https://localhost:8080/",
          "height": 441
        },
        "id": "840edeb5-432f-4a2b-a6e5-5e947ce05779",
        "outputId": "d1b9a105-5a45-4b29-cd3d-a7f1987cce3b"
      },
      "outputs": [
        {
          "output_type": "execute_result",
          "data": {
            "text/plain": [
              "   City Product Type Trip or Order Status                   Request Time  \\\n",
              "1   458          VIP            COMPLETED  2021-01-13 20:21:05 +0000 UTC   \n",
              "2   458          VIP            COMPLETED  2021-01-03 00:23:22 +0000 UTC   \n",
              "3   458          VIP            COMPLETED  2020-12-11 23:16:33 +0000 UTC   \n",
              "4   458          VIP            COMPLETED  2020-12-11 00:35:46 +0000 UTC   \n",
              "5   458          VIP            COMPLETED  2020-12-10 11:42:15 +0000 UTC   \n",
              "\n",
              "                 Begin Trip Time  Begin Trip Lat  Begin Trip Lng  \\\n",
              "1  2021-01-13 20:27:29 +0000 UTC      -23.559298      -46.666454   \n",
              "2  2021-01-03 00:33:00 +0000 UTC      -23.626593      -46.659410   \n",
              "3  2020-12-11 23:27:32 +0000 UTC      -23.559410      -46.666435   \n",
              "4  2020-12-11 00:46:46 +0000 UTC      -23.584846      -46.663590   \n",
              "5  2020-12-10 11:46:20 +0000 UTC      -23.559372      -46.666473   \n",
              "\n",
              "                    Dropoff Time  Dropoff Lat  Dropoff Lng  Distance (miles)  \\\n",
              "1  2021-01-13 20:54:50 +0000 UTC   -23.599585   -46.715717              5.31   \n",
              "2  2021-01-03 00:50:56 +0000 UTC   -23.559273   -46.666595              5.90   \n",
              "3  2020-12-12 00:32:47 +0000 UTC   -23.425755   -46.481190             19.74   \n",
              "4  2020-12-11 00:57:57 +0000 UTC   -23.559261   -46.666510              2.54   \n",
              "5  2020-12-10 12:06:15 +0000 UTC   -23.624500   -46.701077              6.17   \n",
              "\n",
              "   Fare Amount  \n",
              "1        20.86  \n",
              "2        34.23  \n",
              "3        58.77  \n",
              "4        12.63  \n",
              "5        21.25  "
            ],
            "text/html": [
              "\n",
              "  <div id=\"df-26784205-32f1-4ff6-ae39-821f99defeb1\">\n",
              "    <div class=\"colab-df-container\">\n",
              "      <div>\n",
              "<style scoped>\n",
              "    .dataframe tbody tr th:only-of-type {\n",
              "        vertical-align: middle;\n",
              "    }\n",
              "\n",
              "    .dataframe tbody tr th {\n",
              "        vertical-align: top;\n",
              "    }\n",
              "\n",
              "    .dataframe thead th {\n",
              "        text-align: right;\n",
              "    }\n",
              "</style>\n",
              "<table border=\"1\" class=\"dataframe\">\n",
              "  <thead>\n",
              "    <tr style=\"text-align: right;\">\n",
              "      <th></th>\n",
              "      <th>City</th>\n",
              "      <th>Product Type</th>\n",
              "      <th>Trip or Order Status</th>\n",
              "      <th>Request Time</th>\n",
              "      <th>Begin Trip Time</th>\n",
              "      <th>Begin Trip Lat</th>\n",
              "      <th>Begin Trip Lng</th>\n",
              "      <th>Dropoff Time</th>\n",
              "      <th>Dropoff Lat</th>\n",
              "      <th>Dropoff Lng</th>\n",
              "      <th>Distance (miles)</th>\n",
              "      <th>Fare Amount</th>\n",
              "    </tr>\n",
              "  </thead>\n",
              "  <tbody>\n",
              "    <tr>\n",
              "      <th>1</th>\n",
              "      <td>458</td>\n",
              "      <td>VIP</td>\n",
              "      <td>COMPLETED</td>\n",
              "      <td>2021-01-13 20:21:05 +0000 UTC</td>\n",
              "      <td>2021-01-13 20:27:29 +0000 UTC</td>\n",
              "      <td>-23.559298</td>\n",
              "      <td>-46.666454</td>\n",
              "      <td>2021-01-13 20:54:50 +0000 UTC</td>\n",
              "      <td>-23.599585</td>\n",
              "      <td>-46.715717</td>\n",
              "      <td>5.31</td>\n",
              "      <td>20.86</td>\n",
              "    </tr>\n",
              "    <tr>\n",
              "      <th>2</th>\n",
              "      <td>458</td>\n",
              "      <td>VIP</td>\n",
              "      <td>COMPLETED</td>\n",
              "      <td>2021-01-03 00:23:22 +0000 UTC</td>\n",
              "      <td>2021-01-03 00:33:00 +0000 UTC</td>\n",
              "      <td>-23.626593</td>\n",
              "      <td>-46.659410</td>\n",
              "      <td>2021-01-03 00:50:56 +0000 UTC</td>\n",
              "      <td>-23.559273</td>\n",
              "      <td>-46.666595</td>\n",
              "      <td>5.90</td>\n",
              "      <td>34.23</td>\n",
              "    </tr>\n",
              "    <tr>\n",
              "      <th>3</th>\n",
              "      <td>458</td>\n",
              "      <td>VIP</td>\n",
              "      <td>COMPLETED</td>\n",
              "      <td>2020-12-11 23:16:33 +0000 UTC</td>\n",
              "      <td>2020-12-11 23:27:32 +0000 UTC</td>\n",
              "      <td>-23.559410</td>\n",
              "      <td>-46.666435</td>\n",
              "      <td>2020-12-12 00:32:47 +0000 UTC</td>\n",
              "      <td>-23.425755</td>\n",
              "      <td>-46.481190</td>\n",
              "      <td>19.74</td>\n",
              "      <td>58.77</td>\n",
              "    </tr>\n",
              "    <tr>\n",
              "      <th>4</th>\n",
              "      <td>458</td>\n",
              "      <td>VIP</td>\n",
              "      <td>COMPLETED</td>\n",
              "      <td>2020-12-11 00:35:46 +0000 UTC</td>\n",
              "      <td>2020-12-11 00:46:46 +0000 UTC</td>\n",
              "      <td>-23.584846</td>\n",
              "      <td>-46.663590</td>\n",
              "      <td>2020-12-11 00:57:57 +0000 UTC</td>\n",
              "      <td>-23.559261</td>\n",
              "      <td>-46.666510</td>\n",
              "      <td>2.54</td>\n",
              "      <td>12.63</td>\n",
              "    </tr>\n",
              "    <tr>\n",
              "      <th>5</th>\n",
              "      <td>458</td>\n",
              "      <td>VIP</td>\n",
              "      <td>COMPLETED</td>\n",
              "      <td>2020-12-10 11:42:15 +0000 UTC</td>\n",
              "      <td>2020-12-10 11:46:20 +0000 UTC</td>\n",
              "      <td>-23.559372</td>\n",
              "      <td>-46.666473</td>\n",
              "      <td>2020-12-10 12:06:15 +0000 UTC</td>\n",
              "      <td>-23.624500</td>\n",
              "      <td>-46.701077</td>\n",
              "      <td>6.17</td>\n",
              "      <td>21.25</td>\n",
              "    </tr>\n",
              "  </tbody>\n",
              "</table>\n",
              "</div>\n",
              "      <button class=\"colab-df-convert\" onclick=\"convertToInteractive('df-26784205-32f1-4ff6-ae39-821f99defeb1')\"\n",
              "              title=\"Convert this dataframe to an interactive table.\"\n",
              "              style=\"display:none;\">\n",
              "        \n",
              "  <svg xmlns=\"http://www.w3.org/2000/svg\" height=\"24px\"viewBox=\"0 0 24 24\"\n",
              "       width=\"24px\">\n",
              "    <path d=\"M0 0h24v24H0V0z\" fill=\"none\"/>\n",
              "    <path d=\"M18.56 5.44l.94 2.06.94-2.06 2.06-.94-2.06-.94-.94-2.06-.94 2.06-2.06.94zm-11 1L8.5 8.5l.94-2.06 2.06-.94-2.06-.94L8.5 2.5l-.94 2.06-2.06.94zm10 10l.94 2.06.94-2.06 2.06-.94-2.06-.94-.94-2.06-.94 2.06-2.06.94z\"/><path d=\"M17.41 7.96l-1.37-1.37c-.4-.4-.92-.59-1.43-.59-.52 0-1.04.2-1.43.59L10.3 9.45l-7.72 7.72c-.78.78-.78 2.05 0 2.83L4 21.41c.39.39.9.59 1.41.59.51 0 1.02-.2 1.41-.59l7.78-7.78 2.81-2.81c.8-.78.8-2.07 0-2.86zM5.41 20L4 18.59l7.72-7.72 1.47 1.35L5.41 20z\"/>\n",
              "  </svg>\n",
              "      </button>\n",
              "      \n",
              "  <style>\n",
              "    .colab-df-container {\n",
              "      display:flex;\n",
              "      flex-wrap:wrap;\n",
              "      gap: 12px;\n",
              "    }\n",
              "\n",
              "    .colab-df-convert {\n",
              "      background-color: #E8F0FE;\n",
              "      border: none;\n",
              "      border-radius: 50%;\n",
              "      cursor: pointer;\n",
              "      display: none;\n",
              "      fill: #1967D2;\n",
              "      height: 32px;\n",
              "      padding: 0 0 0 0;\n",
              "      width: 32px;\n",
              "    }\n",
              "\n",
              "    .colab-df-convert:hover {\n",
              "      background-color: #E2EBFA;\n",
              "      box-shadow: 0px 1px 2px rgba(60, 64, 67, 0.3), 0px 1px 3px 1px rgba(60, 64, 67, 0.15);\n",
              "      fill: #174EA6;\n",
              "    }\n",
              "\n",
              "    [theme=dark] .colab-df-convert {\n",
              "      background-color: #3B4455;\n",
              "      fill: #D2E3FC;\n",
              "    }\n",
              "\n",
              "    [theme=dark] .colab-df-convert:hover {\n",
              "      background-color: #434B5C;\n",
              "      box-shadow: 0px 1px 3px 1px rgba(0, 0, 0, 0.15);\n",
              "      filter: drop-shadow(0px 1px 2px rgba(0, 0, 0, 0.3));\n",
              "      fill: #FFFFFF;\n",
              "    }\n",
              "  </style>\n",
              "\n",
              "      <script>\n",
              "        const buttonEl =\n",
              "          document.querySelector('#df-26784205-32f1-4ff6-ae39-821f99defeb1 button.colab-df-convert');\n",
              "        buttonEl.style.display =\n",
              "          google.colab.kernel.accessAllowed ? 'block' : 'none';\n",
              "\n",
              "        async function convertToInteractive(key) {\n",
              "          const element = document.querySelector('#df-26784205-32f1-4ff6-ae39-821f99defeb1');\n",
              "          const dataTable =\n",
              "            await google.colab.kernel.invokeFunction('convertToInteractive',\n",
              "                                                     [key], {});\n",
              "          if (!dataTable) return;\n",
              "\n",
              "          const docLinkHtml = 'Like what you see? Visit the ' +\n",
              "            '<a target=\"_blank\" href=https://colab.research.google.com/notebooks/data_table.ipynb>data table notebook</a>'\n",
              "            + ' to learn more about interactive tables.';\n",
              "          element.innerHTML = '';\n",
              "          dataTable['output_type'] = 'display_data';\n",
              "          await google.colab.output.renderOutput(dataTable, element);\n",
              "          const docLink = document.createElement('div');\n",
              "          docLink.innerHTML = docLinkHtml;\n",
              "          element.appendChild(docLink);\n",
              "        }\n",
              "      </script>\n",
              "    </div>\n",
              "  </div>\n",
              "  "
            ]
          },
          "metadata": {},
          "execution_count": 130
        }
      ],
      "source": [
        "df.head()"
      ]
    },
    {
      "cell_type": "code",
      "execution_count": null,
      "id": "b486f62e-b34e-4655-9138-d0233cedb50f",
      "metadata": {
        "colab": {
          "base_uri": "https://localhost:8080/",
          "height": 441
        },
        "id": "b486f62e-b34e-4655-9138-d0233cedb50f",
        "outputId": "c6209a41-ad6f-4e8d-ff68-cb56bfb36445"
      },
      "outputs": [
        {
          "output_type": "execute_result",
          "data": {
            "text/plain": [
              "     City Product Type Trip or Order Status                   Request Time  \\\n",
              "549   458         POOL            COMPLETED  2016-06-22 11:07:02 +0000 UTC   \n",
              "550   458        uberX            COMPLETED  2016-04-07 00:30:46 +0000 UTC   \n",
              "551   458        uberX            COMPLETED  2016-04-06 21:16:52 +0000 UTC   \n",
              "552   458        uberX             CANCELED  2016-04-06 21:12:03 +0000 UTC   \n",
              "553   458        uberX             CANCELED  2015-12-17 23:52:50 +0000 UTC   \n",
              "\n",
              "                   Begin Trip Time  Begin Trip Lat  Begin Trip Lng  \\\n",
              "549  2016-06-22 11:14:17 +0000 UTC      -23.616073      -46.665949   \n",
              "550  2016-04-07 00:35:23 +0000 UTC      -23.569478      -46.672408   \n",
              "551  2016-04-06 21:20:44 +0000 UTC      -23.602608      -46.645084   \n",
              "552  1970-01-01 00:00:00 +0000 UTC      -23.601718      -46.646871   \n",
              "553  2015-12-18 00:01:01 +0000 UTC      -23.607114      -46.566483   \n",
              "\n",
              "                      Dropoff Time  Dropoff Lat  Dropoff Lng  \\\n",
              "549  2016-06-22 11:24:28 +0000 UTC   -23.602760   -46.644897   \n",
              "550  2016-04-07 00:50:14 +0000 UTC   -23.602737   -46.645352   \n",
              "551  2016-04-06 21:41:30 +0000 UTC   -23.569549   -46.672412   \n",
              "552  1970-01-01 00:00:00 +0000 UTC   -23.600862   -46.644494   \n",
              "553  1970-01-01 00:00:00 +0000 UTC   -23.611577   -46.570618   \n",
              "\n",
              "     Distance (miles)  Fare Amount  \n",
              "549              2.20         7.84  \n",
              "550              4.08        15.06  \n",
              "551              3.45        15.16  \n",
              "552              0.00         0.00  \n",
              "553              0.00         7.00  "
            ],
            "text/html": [
              "\n",
              "  <div id=\"df-2d95c6e1-ae5e-4b11-9096-580dc1d7db44\">\n",
              "    <div class=\"colab-df-container\">\n",
              "      <div>\n",
              "<style scoped>\n",
              "    .dataframe tbody tr th:only-of-type {\n",
              "        vertical-align: middle;\n",
              "    }\n",
              "\n",
              "    .dataframe tbody tr th {\n",
              "        vertical-align: top;\n",
              "    }\n",
              "\n",
              "    .dataframe thead th {\n",
              "        text-align: right;\n",
              "    }\n",
              "</style>\n",
              "<table border=\"1\" class=\"dataframe\">\n",
              "  <thead>\n",
              "    <tr style=\"text-align: right;\">\n",
              "      <th></th>\n",
              "      <th>City</th>\n",
              "      <th>Product Type</th>\n",
              "      <th>Trip or Order Status</th>\n",
              "      <th>Request Time</th>\n",
              "      <th>Begin Trip Time</th>\n",
              "      <th>Begin Trip Lat</th>\n",
              "      <th>Begin Trip Lng</th>\n",
              "      <th>Dropoff Time</th>\n",
              "      <th>Dropoff Lat</th>\n",
              "      <th>Dropoff Lng</th>\n",
              "      <th>Distance (miles)</th>\n",
              "      <th>Fare Amount</th>\n",
              "    </tr>\n",
              "  </thead>\n",
              "  <tbody>\n",
              "    <tr>\n",
              "      <th>549</th>\n",
              "      <td>458</td>\n",
              "      <td>POOL</td>\n",
              "      <td>COMPLETED</td>\n",
              "      <td>2016-06-22 11:07:02 +0000 UTC</td>\n",
              "      <td>2016-06-22 11:14:17 +0000 UTC</td>\n",
              "      <td>-23.616073</td>\n",
              "      <td>-46.665949</td>\n",
              "      <td>2016-06-22 11:24:28 +0000 UTC</td>\n",
              "      <td>-23.602760</td>\n",
              "      <td>-46.644897</td>\n",
              "      <td>2.20</td>\n",
              "      <td>7.84</td>\n",
              "    </tr>\n",
              "    <tr>\n",
              "      <th>550</th>\n",
              "      <td>458</td>\n",
              "      <td>uberX</td>\n",
              "      <td>COMPLETED</td>\n",
              "      <td>2016-04-07 00:30:46 +0000 UTC</td>\n",
              "      <td>2016-04-07 00:35:23 +0000 UTC</td>\n",
              "      <td>-23.569478</td>\n",
              "      <td>-46.672408</td>\n",
              "      <td>2016-04-07 00:50:14 +0000 UTC</td>\n",
              "      <td>-23.602737</td>\n",
              "      <td>-46.645352</td>\n",
              "      <td>4.08</td>\n",
              "      <td>15.06</td>\n",
              "    </tr>\n",
              "    <tr>\n",
              "      <th>551</th>\n",
              "      <td>458</td>\n",
              "      <td>uberX</td>\n",
              "      <td>COMPLETED</td>\n",
              "      <td>2016-04-06 21:16:52 +0000 UTC</td>\n",
              "      <td>2016-04-06 21:20:44 +0000 UTC</td>\n",
              "      <td>-23.602608</td>\n",
              "      <td>-46.645084</td>\n",
              "      <td>2016-04-06 21:41:30 +0000 UTC</td>\n",
              "      <td>-23.569549</td>\n",
              "      <td>-46.672412</td>\n",
              "      <td>3.45</td>\n",
              "      <td>15.16</td>\n",
              "    </tr>\n",
              "    <tr>\n",
              "      <th>552</th>\n",
              "      <td>458</td>\n",
              "      <td>uberX</td>\n",
              "      <td>CANCELED</td>\n",
              "      <td>2016-04-06 21:12:03 +0000 UTC</td>\n",
              "      <td>1970-01-01 00:00:00 +0000 UTC</td>\n",
              "      <td>-23.601718</td>\n",
              "      <td>-46.646871</td>\n",
              "      <td>1970-01-01 00:00:00 +0000 UTC</td>\n",
              "      <td>-23.600862</td>\n",
              "      <td>-46.644494</td>\n",
              "      <td>0.00</td>\n",
              "      <td>0.00</td>\n",
              "    </tr>\n",
              "    <tr>\n",
              "      <th>553</th>\n",
              "      <td>458</td>\n",
              "      <td>uberX</td>\n",
              "      <td>CANCELED</td>\n",
              "      <td>2015-12-17 23:52:50 +0000 UTC</td>\n",
              "      <td>2015-12-18 00:01:01 +0000 UTC</td>\n",
              "      <td>-23.607114</td>\n",
              "      <td>-46.566483</td>\n",
              "      <td>1970-01-01 00:00:00 +0000 UTC</td>\n",
              "      <td>-23.611577</td>\n",
              "      <td>-46.570618</td>\n",
              "      <td>0.00</td>\n",
              "      <td>7.00</td>\n",
              "    </tr>\n",
              "  </tbody>\n",
              "</table>\n",
              "</div>\n",
              "      <button class=\"colab-df-convert\" onclick=\"convertToInteractive('df-2d95c6e1-ae5e-4b11-9096-580dc1d7db44')\"\n",
              "              title=\"Convert this dataframe to an interactive table.\"\n",
              "              style=\"display:none;\">\n",
              "        \n",
              "  <svg xmlns=\"http://www.w3.org/2000/svg\" height=\"24px\"viewBox=\"0 0 24 24\"\n",
              "       width=\"24px\">\n",
              "    <path d=\"M0 0h24v24H0V0z\" fill=\"none\"/>\n",
              "    <path d=\"M18.56 5.44l.94 2.06.94-2.06 2.06-.94-2.06-.94-.94-2.06-.94 2.06-2.06.94zm-11 1L8.5 8.5l.94-2.06 2.06-.94-2.06-.94L8.5 2.5l-.94 2.06-2.06.94zm10 10l.94 2.06.94-2.06 2.06-.94-2.06-.94-.94-2.06-.94 2.06-2.06.94z\"/><path d=\"M17.41 7.96l-1.37-1.37c-.4-.4-.92-.59-1.43-.59-.52 0-1.04.2-1.43.59L10.3 9.45l-7.72 7.72c-.78.78-.78 2.05 0 2.83L4 21.41c.39.39.9.59 1.41.59.51 0 1.02-.2 1.41-.59l7.78-7.78 2.81-2.81c.8-.78.8-2.07 0-2.86zM5.41 20L4 18.59l7.72-7.72 1.47 1.35L5.41 20z\"/>\n",
              "  </svg>\n",
              "      </button>\n",
              "      \n",
              "  <style>\n",
              "    .colab-df-container {\n",
              "      display:flex;\n",
              "      flex-wrap:wrap;\n",
              "      gap: 12px;\n",
              "    }\n",
              "\n",
              "    .colab-df-convert {\n",
              "      background-color: #E8F0FE;\n",
              "      border: none;\n",
              "      border-radius: 50%;\n",
              "      cursor: pointer;\n",
              "      display: none;\n",
              "      fill: #1967D2;\n",
              "      height: 32px;\n",
              "      padding: 0 0 0 0;\n",
              "      width: 32px;\n",
              "    }\n",
              "\n",
              "    .colab-df-convert:hover {\n",
              "      background-color: #E2EBFA;\n",
              "      box-shadow: 0px 1px 2px rgba(60, 64, 67, 0.3), 0px 1px 3px 1px rgba(60, 64, 67, 0.15);\n",
              "      fill: #174EA6;\n",
              "    }\n",
              "\n",
              "    [theme=dark] .colab-df-convert {\n",
              "      background-color: #3B4455;\n",
              "      fill: #D2E3FC;\n",
              "    }\n",
              "\n",
              "    [theme=dark] .colab-df-convert:hover {\n",
              "      background-color: #434B5C;\n",
              "      box-shadow: 0px 1px 3px 1px rgba(0, 0, 0, 0.15);\n",
              "      filter: drop-shadow(0px 1px 2px rgba(0, 0, 0, 0.3));\n",
              "      fill: #FFFFFF;\n",
              "    }\n",
              "  </style>\n",
              "\n",
              "      <script>\n",
              "        const buttonEl =\n",
              "          document.querySelector('#df-2d95c6e1-ae5e-4b11-9096-580dc1d7db44 button.colab-df-convert');\n",
              "        buttonEl.style.display =\n",
              "          google.colab.kernel.accessAllowed ? 'block' : 'none';\n",
              "\n",
              "        async function convertToInteractive(key) {\n",
              "          const element = document.querySelector('#df-2d95c6e1-ae5e-4b11-9096-580dc1d7db44');\n",
              "          const dataTable =\n",
              "            await google.colab.kernel.invokeFunction('convertToInteractive',\n",
              "                                                     [key], {});\n",
              "          if (!dataTable) return;\n",
              "\n",
              "          const docLinkHtml = 'Like what you see? Visit the ' +\n",
              "            '<a target=\"_blank\" href=https://colab.research.google.com/notebooks/data_table.ipynb>data table notebook</a>'\n",
              "            + ' to learn more about interactive tables.';\n",
              "          element.innerHTML = '';\n",
              "          dataTable['output_type'] = 'display_data';\n",
              "          await google.colab.output.renderOutput(dataTable, element);\n",
              "          const docLink = document.createElement('div');\n",
              "          docLink.innerHTML = docLinkHtml;\n",
              "          element.appendChild(docLink);\n",
              "        }\n",
              "      </script>\n",
              "    </div>\n",
              "  </div>\n",
              "  "
            ]
          },
          "metadata": {},
          "execution_count": 131
        }
      ],
      "source": [
        "df.tail()"
      ]
    },
    {
      "cell_type": "code",
      "execution_count": null,
      "id": "5d18a459-3d4e-4e52-9d52-ed25d632c511",
      "metadata": {
        "id": "5d18a459-3d4e-4e52-9d52-ed25d632c511"
      },
      "outputs": [],
      "source": [
        "#plot showing which product type use how many time"
      ]
    },
    {
      "cell_type": "code",
      "execution_count": null,
      "id": "9b7cd2a0-7331-40e4-a8f5-0dd0b91087f7",
      "metadata": {
        "colab": {
          "base_uri": "https://localhost:8080/",
          "height": 708
        },
        "id": "9b7cd2a0-7331-40e4-a8f5-0dd0b91087f7",
        "outputId": "22e8b387-0ed1-4108-df49-e541ed5617e7"
      },
      "outputs": [
        {
          "output_type": "execute_result",
          "data": {
            "text/plain": [
              "Text(0.5, 1.0, 'Number of Trips per Type')"
            ]
          },
          "metadata": {},
          "execution_count": 133
        },
        {
          "output_type": "display_data",
          "data": {
            "text/plain": [
              "<Figure size 1440x720 with 1 Axes>"
            ],
            "image/png": "[encoded data removed]"
          },
          "metadata": {
            "needs_background": "light"
          }
        }
      ],
      "source": [
        "count = df['Product Type'].value_counts()\n",
        "x = count.plot(kind='bar',figsize=(20,10), color=\"Orange\")\n",
        "plt.xlabel('Product Type', color=\"Blue\")\n",
        "plt.ylabel('No of Trips', color=\"Green\")\n",
        "plt.title('Number of Trips per Type')"
      ]
    },
    {
      "cell_type": "code",
      "execution_count": null,
      "id": "201baa9a-2901-4ecc-85ab-2a6a1326394d",
      "metadata": {
        "colab": {
          "base_uri": "https://localhost:8080/",
          "height": 441
        },
        "id": "201baa9a-2901-4ecc-85ab-2a6a1326394d",
        "outputId": "a09b00f7-e36e-4e52-db29-c66e75d02342"
      },
      "outputs": [
        {
          "output_type": "execute_result",
          "data": {
            "text/plain": [
              "   City Product Type Trip or Order Status                   Request Time  \\\n",
              "1   458          VIP            COMPLETED  2021-01-13 20:21:05 +0000 UTC   \n",
              "2   458          VIP            COMPLETED  2021-01-03 00:23:22 +0000 UTC   \n",
              "3   458          VIP            COMPLETED  2020-12-11 23:16:33 +0000 UTC   \n",
              "4   458          VIP            COMPLETED  2020-12-11 00:35:46 +0000 UTC   \n",
              "5   458          VIP            COMPLETED  2020-12-10 11:42:15 +0000 UTC   \n",
              "\n",
              "                 Begin Trip Time  Begin Trip Lat  Begin Trip Lng  \\\n",
              "1  2021-01-13 20:27:29 +0000 UTC      -23.559298      -46.666454   \n",
              "2  2021-01-03 00:33:00 +0000 UTC      -23.626593      -46.659410   \n",
              "3  2020-12-11 23:27:32 +0000 UTC      -23.559410      -46.666435   \n",
              "4  2020-12-11 00:46:46 +0000 UTC      -23.584846      -46.663590   \n",
              "5  2020-12-10 11:46:20 +0000 UTC      -23.559372      -46.666473   \n",
              "\n",
              "                    Dropoff Time  Dropoff Lat  Dropoff Lng  Distance (miles)  \\\n",
              "1  2021-01-13 20:54:50 +0000 UTC   -23.599585   -46.715717              5.31   \n",
              "2  2021-01-03 00:50:56 +0000 UTC   -23.559273   -46.666595              5.90   \n",
              "3  2020-12-12 00:32:47 +0000 UTC   -23.425755   -46.481190             19.74   \n",
              "4  2020-12-11 00:57:57 +0000 UTC   -23.559261   -46.666510              2.54   \n",
              "5  2020-12-10 12:06:15 +0000 UTC   -23.624500   -46.701077              6.17   \n",
              "\n",
              "   Fare Amount  \n",
              "1        20.86  \n",
              "2        34.23  \n",
              "3        58.77  \n",
              "4        12.63  \n",
              "5        21.25  "
            ],
            "text/html": [
              "\n",
              "  <div id=\"df-3bbec9db-8af3-48d0-bfcf-f40cac95e5b8\">\n",
              "    <div class=\"colab-df-container\">\n",
              "      <div>\n",
              "<style scoped>\n",
              "    .dataframe tbody tr th:only-of-type {\n",
              "        vertical-align: middle;\n",
              "    }\n",
              "\n",
              "    .dataframe tbody tr th {\n",
              "        vertical-align: top;\n",
              "    }\n",
              "\n",
              "    .dataframe thead th {\n",
              "        text-align: right;\n",
              "    }\n",
              "</style>\n",
              "<table border=\"1\" class=\"dataframe\">\n",
              "  <thead>\n",
              "    <tr style=\"text-align: right;\">\n",
              "      <th></th>\n",
              "      <th>City</th>\n",
              "      <th>Product Type</th>\n",
              "      <th>Trip or Order Status</th>\n",
              "      <th>Request Time</th>\n",
              "      <th>Begin Trip Time</th>\n",
              "      <th>Begin Trip Lat</th>\n",
              "      <th>Begin Trip Lng</th>\n",
              "      <th>Dropoff Time</th>\n",
              "      <th>Dropoff Lat</th>\n",
              "      <th>Dropoff Lng</th>\n",
              "      <th>Distance (miles)</th>\n",
              "      <th>Fare Amount</th>\n",
              "    </tr>\n",
              "  </thead>\n",
              "  <tbody>\n",
              "    <tr>\n",
              "      <th>1</th>\n",
              "      <td>458</td>\n",
              "      <td>VIP</td>\n",
              "      <td>COMPLETED</td>\n",
              "      <td>2021-01-13 20:21:05 +0000 UTC</td>\n",
              "      <td>2021-01-13 20:27:29 +0000 UTC</td>\n",
              "      <td>-23.559298</td>\n",
              "      <td>-46.666454</td>\n",
              "      <td>2021-01-13 20:54:50 +0000 UTC</td>\n",
              "      <td>-23.599585</td>\n",
              "      <td>-46.715717</td>\n",
              "      <td>5.31</td>\n",
              "      <td>20.86</td>\n",
              "    </tr>\n",
              "    <tr>\n",
              "      <th>2</th>\n",
              "      <td>458</td>\n",
              "      <td>VIP</td>\n",
              "      <td>COMPLETED</td>\n",
              "      <td>2021-01-03 00:23:22 +0000 UTC</td>\n",
              "      <td>2021-01-03 00:33:00 +0000 UTC</td>\n",
              "      <td>-23.626593</td>\n",
              "      <td>-46.659410</td>\n",
              "      <td>2021-01-03 00:50:56 +0000 UTC</td>\n",
              "      <td>-23.559273</td>\n",
              "      <td>-46.666595</td>\n",
              "      <td>5.90</td>\n",
              "      <td>34.23</td>\n",
              "    </tr>\n",
              "    <tr>\n",
              "      <th>3</th>\n",
              "      <td>458</td>\n",
              "      <td>VIP</td>\n",
              "      <td>COMPLETED</td>\n",
              "      <td>2020-12-11 23:16:33 +0000 UTC</td>\n",
              "      <td>2020-12-11 23:27:32 +0000 UTC</td>\n",
              "      <td>-23.559410</td>\n",
              "      <td>-46.666435</td>\n",
              "      <td>2020-12-12 00:32:47 +0000 UTC</td>\n",
              "      <td>-23.425755</td>\n",
              "      <td>-46.481190</td>\n",
              "      <td>19.74</td>\n",
              "      <td>58.77</td>\n",
              "    </tr>\n",
              "    <tr>\n",
              "      <th>4</th>\n",
              "      <td>458</td>\n",
              "      <td>VIP</td>\n",
              "      <td>COMPLETED</td>\n",
              "      <td>2020-12-11 00:35:46 +0000 UTC</td>\n",
              "      <td>2020-12-11 00:46:46 +0000 UTC</td>\n",
              "      <td>-23.584846</td>\n",
              "      <td>-46.663590</td>\n",
              "      <td>2020-12-11 00:57:57 +0000 UTC</td>\n",
              "      <td>-23.559261</td>\n",
              "      <td>-46.666510</td>\n",
              "      <td>2.54</td>\n",
              "      <td>12.63</td>\n",
              "    </tr>\n",
              "    <tr>\n",
              "      <th>5</th>\n",
              "      <td>458</td>\n",
              "      <td>VIP</td>\n",
              "      <td>COMPLETED</td>\n",
              "      <td>2020-12-10 11:42:15 +0000 UTC</td>\n",
              "      <td>2020-12-10 11:46:20 +0000 UTC</td>\n",
              "      <td>-23.559372</td>\n",
              "      <td>-46.666473</td>\n",
              "      <td>2020-12-10 12:06:15 +0000 UTC</td>\n",
              "      <td>-23.624500</td>\n",
              "      <td>-46.701077</td>\n",
              "      <td>6.17</td>\n",
              "      <td>21.25</td>\n",
              "    </tr>\n",
              "  </tbody>\n",
              "</table>\n",
              "</div>\n",
              "      <button class=\"colab-df-convert\" onclick=\"convertToInteractive('df-3bbec9db-8af3-48d0-bfcf-f40cac95e5b8')\"\n",
              "              title=\"Convert this dataframe to an interactive table.\"\n",
              "              style=\"display:none;\">\n",
              "        \n",
              "  <svg xmlns=\"http://www.w3.org/2000/svg\" height=\"24px\"viewBox=\"0 0 24 24\"\n",
              "       width=\"24px\">\n",
              "    <path d=\"M0 0h24v24H0V0z\" fill=\"none\"/>\n",
              "    <path d=\"M18.56 5.44l.94 2.06.94-2.06 2.06-.94-2.06-.94-.94-2.06-.94 2.06-2.06.94zm-11 1L8.5 8.5l.94-2.06 2.06-.94-2.06-.94L8.5 2.5l-.94 2.06-2.06.94zm10 10l.94 2.06.94-2.06 2.06-.94-2.06-.94-.94-2.06-.94 2.06-2.06.94z\"/><path d=\"M17.41 7.96l-1.37-1.37c-.4-.4-.92-.59-1.43-.59-.52 0-1.04.2-1.43.59L10.3 9.45l-7.72 7.72c-.78.78-.78 2.05 0 2.83L4 21.41c.39.39.9.59 1.41.59.51 0 1.02-.2 1.41-.59l7.78-7.78 2.81-2.81c.8-.78.8-2.07 0-2.86zM5.41 20L4 18.59l7.72-7.72 1.47 1.35L5.41 20z\"/>\n",
              "  </svg>\n",
              "      </button>\n",
              "      \n",
              "  <style>\n",
              "    .colab-df-container {\n",
              "      display:flex;\n",
              "      flex-wrap:wrap;\n",
              "      gap: 12px;\n",
              "    }\n",
              "\n",
              "    .colab-df-convert {\n",
              "      background-color: #E8F0FE;\n",
              "      border: none;\n",
              "      border-radius: 50%;\n",
              "      cursor: pointer;\n",
              "      display: none;\n",
              "      fill: #1967D2;\n",
              "      height: 32px;\n",
              "      padding: 0 0 0 0;\n",
              "      width: 32px;\n",
              "    }\n",
              "\n",
              "    .colab-df-convert:hover {\n",
              "      background-color: #E2EBFA;\n",
              "      box-shadow: 0px 1px 2px rgba(60, 64, 67, 0.3), 0px 1px 3px 1px rgba(60, 64, 67, 0.15);\n",
              "      fill: #174EA6;\n",
              "    }\n",
              "\n",
              "    [theme=dark] .colab-df-convert {\n",
              "      background-color: #3B4455;\n",
              "      fill: #D2E3FC;\n",
              "    }\n",
              "\n",
              "    [theme=dark] .colab-df-convert:hover {\n",
              "      background-color: #434B5C;\n",
              "      box-shadow: 0px 1px 3px 1px rgba(0, 0, 0, 0.15);\n",
              "      filter: drop-shadow(0px 1px 2px rgba(0, 0, 0, 0.3));\n",
              "      fill: #FFFFFF;\n",
              "    }\n",
              "  </style>\n",
              "\n",
              "      <script>\n",
              "        const buttonEl =\n",
              "          document.querySelector('#df-3bbec9db-8af3-48d0-bfcf-f40cac95e5b8 button.colab-df-convert');\n",
              "        buttonEl.style.display =\n",
              "          google.colab.kernel.accessAllowed ? 'block' : 'none';\n",
              "\n",
              "        async function convertToInteractive(key) {\n",
              "          const element = document.querySelector('#df-3bbec9db-8af3-48d0-bfcf-f40cac95e5b8');\n",
              "          const dataTable =\n",
              "            await google.colab.kernel.invokeFunction('convertToInteractive',\n",
              "                                                     [key], {});\n",
              "          if (!dataTable) return;\n",
              "\n",
              "          const docLinkHtml = 'Like what you see? Visit the ' +\n",
              "            '<a target=\"_blank\" href=https://colab.research.google.com/notebooks/data_table.ipynb>data table notebook</a>'\n",
              "            + ' to learn more about interactive tables.';\n",
              "          element.innerHTML = '';\n",
              "          dataTable['output_type'] = 'display_data';\n",
              "          await google.colab.output.renderOutput(dataTable, element);\n",
              "          const docLink = document.createElement('div');\n",
              "          docLink.innerHTML = docLinkHtml;\n",
              "          element.appendChild(docLink);\n",
              "        }\n",
              "      </script>\n",
              "    </div>\n",
              "  </div>\n",
              "  "
            ]
          },
          "metadata": {},
          "execution_count": 134
        }
      ],
      "source": [
        "\n",
        "df.head()"
      ]
    },
    {
      "cell_type": "code",
      "execution_count": null,
      "id": "5f0da422-d6ba-41e6-98b0-89284489b395",
      "metadata": {
        "id": "5f0da422-d6ba-41e6-98b0-89284489b395"
      },
      "outputs": [],
      "source": [
        "# total fair per month"
      ]
    },
    {
      "cell_type": "code",
      "execution_count": null,
      "id": "9d062403-24a4-4830-ae52-0924fd637a4b",
      "metadata": {
        "colab": {
          "base_uri": "https://localhost:8080/",
          "height": 1000
        },
        "id": "9d062403-24a4-4830-ae52-0924fd637a4b",
        "outputId": "99169e24-9747-4d1d-8d83-5809f1ca583f"
      },
      "outputs": [
        {
          "output_type": "execute_result",
          "data": {
            "text/plain": [
              "     City Product Type Trip or Order Status                   Request Time  \\\n",
              "1     458          VIP            COMPLETED  2021-01-13 20:21:05 +0000 UTC   \n",
              "2     458          VIP            COMPLETED  2021-01-03 00:23:22 +0000 UTC   \n",
              "3     458          VIP            COMPLETED  2020-12-11 23:16:33 +0000 UTC   \n",
              "4     458          VIP            COMPLETED  2020-12-11 00:35:46 +0000 UTC   \n",
              "5     458          VIP            COMPLETED  2020-12-10 11:42:15 +0000 UTC   \n",
              "..    ...          ...                  ...                            ...   \n",
              "549   458         POOL            COMPLETED  2016-06-22 11:07:02 +0000 UTC   \n",
              "550   458        uberX            COMPLETED  2016-04-07 00:30:46 +0000 UTC   \n",
              "551   458        uberX            COMPLETED  2016-04-06 21:16:52 +0000 UTC   \n",
              "552   458        uberX             CANCELED  2016-04-06 21:12:03 +0000 UTC   \n",
              "553   458        uberX             CANCELED  2015-12-17 23:52:50 +0000 UTC   \n",
              "\n",
              "                   Begin Trip Time  Begin Trip Lat  Begin Trip Lng  \\\n",
              "1    2021-01-13 20:27:29 +0000 UTC      -23.559298      -46.666454   \n",
              "2    2021-01-03 00:33:00 +0000 UTC      -23.626593      -46.659410   \n",
              "3    2020-12-11 23:27:32 +0000 UTC      -23.559410      -46.666435   \n",
              "4    2020-12-11 00:46:46 +0000 UTC      -23.584846      -46.663590   \n",
              "5    2020-12-10 11:46:20 +0000 UTC      -23.559372      -46.666473   \n",
              "..                             ...             ...             ...   \n",
              "549  2016-06-22 11:14:17 +0000 UTC      -23.616073      -46.665949   \n",
              "550  2016-04-07 00:35:23 +0000 UTC      -23.569478      -46.672408   \n",
              "551  2016-04-06 21:20:44 +0000 UTC      -23.602608      -46.645084   \n",
              "552  1970-01-01 00:00:00 +0000 UTC      -23.601718      -46.646871   \n",
              "553  2015-12-18 00:01:01 +0000 UTC      -23.607114      -46.566483   \n",
              "\n",
              "                      Dropoff Time  Dropoff Lat  Dropoff Lng  \\\n",
              "1    2021-01-13 20:54:50 +0000 UTC   -23.599585   -46.715717   \n",
              "2    2021-01-03 00:50:56 +0000 UTC   -23.559273   -46.666595   \n",
              "3    2020-12-12 00:32:47 +0000 UTC   -23.425755   -46.481190   \n",
              "4    2020-12-11 00:57:57 +0000 UTC   -23.559261   -46.666510   \n",
              "5    2020-12-10 12:06:15 +0000 UTC   -23.624500   -46.701077   \n",
              "..                             ...          ...          ...   \n",
              "549  2016-06-22 11:24:28 +0000 UTC   -23.602760   -46.644897   \n",
              "550  2016-04-07 00:50:14 +0000 UTC   -23.602737   -46.645352   \n",
              "551  2016-04-06 21:41:30 +0000 UTC   -23.569549   -46.672412   \n",
              "552  1970-01-01 00:00:00 +0000 UTC   -23.600862   -46.644494   \n",
              "553  1970-01-01 00:00:00 +0000 UTC   -23.611577   -46.570618   \n",
              "\n",
              "     Distance (miles)  Fare Amount        Date      Time           Date_Time  \\\n",
              "1                5.31        20.86  2021-01-13  20:27:29 2021-01-13 20:27:29   \n",
              "2                5.90        34.23  2021-01-03  00:33:00 2021-01-03 00:33:00   \n",
              "3               19.74        58.77  2020-12-11  23:27:32 2020-12-11 23:27:32   \n",
              "4                2.54        12.63  2020-12-11  00:46:46 2020-12-11 00:46:46   \n",
              "5                6.17        21.25  2020-12-10  11:46:20 2020-12-10 11:46:20   \n",
              "..                ...          ...         ...       ...                 ...   \n",
              "549              2.20         7.84  2016-06-22  11:14:17 2016-06-22 11:14:17   \n",
              "550              4.08        15.06  2016-04-07  00:35:23 2016-04-07 00:35:23   \n",
              "551              3.45        15.16  2016-04-06  21:20:44 2016-04-06 21:20:44   \n",
              "552              0.00         0.00  1970-01-01  00:00:00 1970-01-01 00:00:00   \n",
              "553              0.00         7.00  2015-12-18  00:01:01 2015-12-18 00:01:01   \n",
              "\n",
              "     month  \n",
              "1        1  \n",
              "2        1  \n",
              "3       12  \n",
              "4       12  \n",
              "5       12  \n",
              "..     ...  \n",
              "549      6  \n",
              "550      4  \n",
              "551      4  \n",
              "552      1  \n",
              "553     12  \n",
              "\n",
              "[551 rows x 16 columns]"
            ],
            "text/html": [
              "\n",
              "  <div id=\"df-cd63b37b-90b4-42e0-b7bd-638da9737258\">\n",
              "    <div class=\"colab-df-container\">\n",
              "      <div>\n",
              "<style scoped>\n",
              "    .dataframe tbody tr th:only-of-type {\n",
              "        vertical-align: middle;\n",
              "    }\n",
              "\n",
              "    .dataframe tbody tr th {\n",
              "        vertical-align: top;\n",
              "    }\n",
              "\n",
              "    .dataframe thead th {\n",
              "        text-align: right;\n",
              "    }\n",
              "</style>\n",
              "<table border=\"1\" class=\"dataframe\">\n",
              "  <thead>\n",
              "    <tr style=\"text-align: right;\">\n",
              "      <th></th>\n",
              "      <th>City</th>\n",
              "      <th>Product Type</th>\n",
              "      <th>Trip or Order Status</th>\n",
              "      <th>Request Time</th>\n",
              "      <th>Begin Trip Time</th>\n",
              "      <th>Begin Trip Lat</th>\n",
              "      <th>Begin Trip Lng</th>\n",
              "      <th>Dropoff Time</th>\n",
              "      <th>Dropoff Lat</th>\n",
              "      <th>Dropoff Lng</th>\n",
              "      <th>Distance (miles)</th>\n",
              "      <th>Fare Amount</th>\n",
              "      <th>Date</th>\n",
              "      <th>Time</th>\n",
              "      <th>Date_Time</th>\n",
              "      <th>month</th>\n",
              "    </tr>\n",
              "  </thead>\n",
              "  <tbody>\n",
              "    <tr>\n",
              "      <th>1</th>\n",
              "      <td>458</td>\n",
              "      <td>VIP</td>\n",
              "      <td>COMPLETED</td>\n",
              "      <td>2021-01-13 20:21:05 +0000 UTC</td>\n",
              "      <td>2021-01-13 20:27:29 +0000 UTC</td>\n",
              "      <td>-23.559298</td>\n",
              "      <td>-46.666454</td>\n",
              "      <td>2021-01-13 20:54:50 +0000 UTC</td>\n",
              "      <td>-23.599585</td>\n",
              "      <td>-46.715717</td>\n",
              "      <td>5.31</td>\n",
              "      <td>20.86</td>\n",
              "      <td>2021-01-13</td>\n",
              "      <td>20:27:29</td>\n",
              "      <td>2021-01-13 20:27:29</td>\n",
              "      <td>1</td>\n",
              "    </tr>\n",
              "    <tr>\n",
              "      <th>2</th>\n",
              "      <td>458</td>\n",
              "      <td>VIP</td>\n",
              "      <td>COMPLETED</td>\n",
              "      <td>2021-01-03 00:23:22 +0000 UTC</td>\n",
              "      <td>2021-01-03 00:33:00 +0000 UTC</td>\n",
              "      <td>-23.626593</td>\n",
              "      <td>-46.659410</td>\n",
              "      <td>2021-01-03 00:50:56 +0000 UTC</td>\n",
              "      <td>-23.559273</td>\n",
              "      <td>-46.666595</td>\n",
              "      <td>5.90</td>\n",
              "      <td>34.23</td>\n",
              "      <td>2021-01-03</td>\n",
              "      <td>00:33:00</td>\n",
              "      <td>2021-01-03 00:33:00</td>\n",
              "      <td>1</td>\n",
              "    </tr>\n",
              "    <tr>\n",
              "      <th>3</th>\n",
              "      <td>458</td>\n",
              "      <td>VIP</td>\n",
              "      <td>COMPLETED</td>\n",
              "      <td>2020-12-11 23:16:33 +0000 UTC</td>\n",
              "      <td>2020-12-11 23:27:32 +0000 UTC</td>\n",
              "      <td>-23.559410</td>\n",
              "      <td>-46.666435</td>\n",
              "      <td>2020-12-12 00:32:47 +0000 UTC</td>\n",
              "      <td>-23.425755</td>\n",
              "      <td>-46.481190</td>\n",
              "      <td>19.74</td>\n",
              "      <td>58.77</td>\n",
              "      <td>2020-12-11</td>\n",
              "      <td>23:27:32</td>\n",
              "      <td>2020-12-11 23:27:32</td>\n",
              "      <td>12</td>\n",
              "    </tr>\n",
              "    <tr>\n",
              "      <th>4</th>\n",
              "      <td>458</td>\n",
              "      <td>VIP</td>\n",
              "      <td>COMPLETED</td>\n",
              "      <td>2020-12-11 00:35:46 +0000 UTC</td>\n",
              "      <td>2020-12-11 00:46:46 +0000 UTC</td>\n",
              "      <td>-23.584846</td>\n",
              "      <td>-46.663590</td>\n",
              "      <td>2020-12-11 00:57:57 +0000 UTC</td>\n",
              "      <td>-23.559261</td>\n",
              "      <td>-46.666510</td>\n",
              "      <td>2.54</td>\n",
              "      <td>12.63</td>\n",
              "      <td>2020-12-11</td>\n",
              "      <td>00:46:46</td>\n",
              "      <td>2020-12-11 00:46:46</td>\n",
              "      <td>12</td>\n",
              "    </tr>\n",
              "    <tr>\n",
              "      <th>5</th>\n",
              "      <td>458</td>\n",
              "      <td>VIP</td>\n",
              "      <td>COMPLETED</td>\n",
              "      <td>2020-12-10 11:42:15 +0000 UTC</td>\n",
              "      <td>2020-12-10 11:46:20 +0000 UTC</td>\n",
              "      <td>-23.559372</td>\n",
              "      <td>-46.666473</td>\n",
              "      <td>2020-12-10 12:06:15 +0000 UTC</td>\n",
              "      <td>-23.624500</td>\n",
              "      <td>-46.701077</td>\n",
              "      <td>6.17</td>\n",
              "      <td>21.25</td>\n",
              "      <td>2020-12-10</td>\n",
              "      <td>11:46:20</td>\n",
              "      <td>2020-12-10 11:46:20</td>\n",
              "      <td>12</td>\n",
              "    </tr>\n",
              "    <tr>\n",
              "      <th>...</th>\n",
              "      <td>...</td>\n",
              "      <td>...</td>\n",
              "      <td>...</td>\n",
              "      <td>...</td>\n",
              "      <td>...</td>\n",
              "      <td>...</td>\n",
              "      <td>...</td>\n",
              "      <td>...</td>\n",
              "      <td>...</td>\n",
              "      <td>...</td>\n",
              "      <td>...</td>\n",
              "      <td>...</td>\n",
              "      <td>...</td>\n",
              "      <td>...</td>\n",
              "      <td>...</td>\n",
              "      <td>...</td>\n",
              "    </tr>\n",
              "    <tr>\n",
              "      <th>549</th>\n",
              "      <td>458</td>\n",
              "      <td>POOL</td>\n",
              "      <td>COMPLETED</td>\n",
              "      <td>2016-06-22 11:07:02 +0000 UTC</td>\n",
              "      <td>2016-06-22 11:14:17 +0000 UTC</td>\n",
              "      <td>-23.616073</td>\n",
              "      <td>-46.665949</td>\n",
              "      <td>2016-06-22 11:24:28 +0000 UTC</td>\n",
              "      <td>-23.602760</td>\n",
              "      <td>-46.644897</td>\n",
              "      <td>2.20</td>\n",
              "      <td>7.84</td>\n",
              "      <td>2016-06-22</td>\n",
              "      <td>11:14:17</td>\n",
              "      <td>2016-06-22 11:14:17</td>\n",
              "      <td>6</td>\n",
              "    </tr>\n",
              "    <tr>\n",
              "      <th>550</th>\n",
              "      <td>458</td>\n",
              "      <td>uberX</td>\n",
              "      <td>COMPLETED</td>\n",
              "      <td>2016-04-07 00:30:46 +0000 UTC</td>\n",
              "      <td>2016-04-07 00:35:23 +0000 UTC</td>\n",
              "      <td>-23.569478</td>\n",
              "      <td>-46.672408</td>\n",
              "      <td>2016-04-07 00:50:14 +0000 UTC</td>\n",
              "      <td>-23.602737</td>\n",
              "      <td>-46.645352</td>\n",
              "      <td>4.08</td>\n",
              "      <td>15.06</td>\n",
              "      <td>2016-04-07</td>\n",
              "      <td>00:35:23</td>\n",
              "      <td>2016-04-07 00:35:23</td>\n",
              "      <td>4</td>\n",
              "    </tr>\n",
              "    <tr>\n",
              "      <th>551</th>\n",
              "      <td>458</td>\n",
              "      <td>uberX</td>\n",
              "      <td>COMPLETED</td>\n",
              "      <td>2016-04-06 21:16:52 +0000 UTC</td>\n",
              "      <td>2016-04-06 21:20:44 +0000 UTC</td>\n",
              "      <td>-23.602608</td>\n",
              "      <td>-46.645084</td>\n",
              "      <td>2016-04-06 21:41:30 +0000 UTC</td>\n",
              "      <td>-23.569549</td>\n",
              "      <td>-46.672412</td>\n",
              "      <td>3.45</td>\n",
              "      <td>15.16</td>\n",
              "      <td>2016-04-06</td>\n",
              "      <td>21:20:44</td>\n",
              "      <td>2016-04-06 21:20:44</td>\n",
              "      <td>4</td>\n",
              "    </tr>\n",
              "    <tr>\n",
              "      <th>552</th>\n",
              "      <td>458</td>\n",
              "      <td>uberX</td>\n",
              "      <td>CANCELED</td>\n",
              "      <td>2016-04-06 21:12:03 +0000 UTC</td>\n",
              "      <td>1970-01-01 00:00:00 +0000 UTC</td>\n",
              "      <td>-23.601718</td>\n",
              "      <td>-46.646871</td>\n",
              "      <td>1970-01-01 00:00:00 +0000 UTC</td>\n",
              "      <td>-23.600862</td>\n",
              "      <td>-46.644494</td>\n",
              "      <td>0.00</td>\n",
              "      <td>0.00</td>\n",
              "      <td>1970-01-01</td>\n",
              "      <td>00:00:00</td>\n",
              "      <td>1970-01-01 00:00:00</td>\n",
              "      <td>1</td>\n",
              "    </tr>\n",
              "    <tr>\n",
              "      <th>553</th>\n",
              "      <td>458</td>\n",
              "      <td>uberX</td>\n",
              "      <td>CANCELED</td>\n",
              "      <td>2015-12-17 23:52:50 +0000 UTC</td>\n",
              "      <td>2015-12-18 00:01:01 +0000 UTC</td>\n",
              "      <td>-23.607114</td>\n",
              "      <td>-46.566483</td>\n",
              "      <td>1970-01-01 00:00:00 +0000 UTC</td>\n",
              "      <td>-23.611577</td>\n",
              "      <td>-46.570618</td>\n",
              "      <td>0.00</td>\n",
              "      <td>7.00</td>\n",
              "      <td>2015-12-18</td>\n",
              "      <td>00:01:01</td>\n",
              "      <td>2015-12-18 00:01:01</td>\n",
              "      <td>12</td>\n",
              "    </tr>\n",
              "  </tbody>\n",
              "</table>\n",
              "<p>551 rows × 16 columns</p>\n",
              "</div>\n",
              "      <button class=\"colab-df-convert\" onclick=\"convertToInteractive('df-cd63b37b-90b4-42e0-b7bd-638da9737258')\"\n",
              "              title=\"Convert this dataframe to an interactive table.\"\n",
              "              style=\"display:none;\">\n",
              "        \n",
              "  <svg xmlns=\"http://www.w3.org/2000/svg\" height=\"24px\"viewBox=\"0 0 24 24\"\n",
              "       width=\"24px\">\n",
              "    <path d=\"M0 0h24v24H0V0z\" fill=\"none\"/>\n",
              "    <path d=\"M18.56 5.44l.94 2.06.94-2.06 2.06-.94-2.06-.94-.94-2.06-.94 2.06-2.06.94zm-11 1L8.5 8.5l.94-2.06 2.06-.94-2.06-.94L8.5 2.5l-.94 2.06-2.06.94zm10 10l.94 2.06.94-2.06 2.06-.94-2.06-.94-.94-2.06-.94 2.06-2.06.94z\"/><path d=\"M17.41 7.96l-1.37-1.37c-.4-.4-.92-.59-1.43-.59-.52 0-1.04.2-1.43.59L10.3 9.45l-7.72 7.72c-.78.78-.78 2.05 0 2.83L4 21.41c.39.39.9.59 1.41.59.51 0 1.02-.2 1.41-.59l7.78-7.78 2.81-2.81c.8-.78.8-2.07 0-2.86zM5.41 20L4 18.59l7.72-7.72 1.47 1.35L5.41 20z\"/>\n",
              "  </svg>\n",
              "      </button>\n",
              "      \n",
              "  <style>\n",
              "    .colab-df-container {\n",
              "      display:flex;\n",
              "      flex-wrap:wrap;\n",
              "      gap: 12px;\n",
              "    }\n",
              "\n",
              "    .colab-df-convert {\n",
              "      background-color: #E8F0FE;\n",
              "      border: none;\n",
              "      border-radius: 50%;\n",
              "      cursor: pointer;\n",
              "      display: none;\n",
              "      fill: #1967D2;\n",
              "      height: 32px;\n",
              "      padding: 0 0 0 0;\n",
              "      width: 32px;\n",
              "    }\n",
              "\n",
              "    .colab-df-convert:hover {\n",
              "      background-color: #E2EBFA;\n",
              "      box-shadow: 0px 1px 2px rgba(60, 64, 67, 0.3), 0px 1px 3px 1px rgba(60, 64, 67, 0.15);\n",
              "      fill: #174EA6;\n",
              "    }\n",
              "\n",
              "    [theme=dark] .colab-df-convert {\n",
              "      background-color: #3B4455;\n",
              "      fill: #D2E3FC;\n",
              "    }\n",
              "\n",
              "    [theme=dark] .colab-df-convert:hover {\n",
              "      background-color: #434B5C;\n",
              "      box-shadow: 0px 1px 3px 1px rgba(0, 0, 0, 0.15);\n",
              "      filter: drop-shadow(0px 1px 2px rgba(0, 0, 0, 0.3));\n",
              "      fill: #FFFFFF;\n",
              "    }\n",
              "  </style>\n",
              "\n",
              "      <script>\n",
              "        const buttonEl =\n",
              "          document.querySelector('#df-cd63b37b-90b4-42e0-b7bd-638da9737258 button.colab-df-convert');\n",
              "        buttonEl.style.display =\n",
              "          google.colab.kernel.accessAllowed ? 'block' : 'none';\n",
              "\n",
              "        async function convertToInteractive(key) {\n",
              "          const element = document.querySelector('#df-cd63b37b-90b4-42e0-b7bd-638da9737258');\n",
              "          const dataTable =\n",
              "            await google.colab.kernel.invokeFunction('convertToInteractive',\n",
              "                                                     [key], {});\n",
              "          if (!dataTable) return;\n",
              "\n",
              "          const docLinkHtml = 'Like what you see? Visit the ' +\n",
              "            '<a target=\"_blank\" href=https://colab.research.google.com/notebooks/data_table.ipynb>data table notebook</a>'\n",
              "            + ' to learn more about interactive tables.';\n",
              "          element.innerHTML = '';\n",
              "          dataTable['output_type'] = 'display_data';\n",
              "          await google.colab.output.renderOutput(dataTable, element);\n",
              "          const docLink = document.createElement('div');\n",
              "          docLink.innerHTML = docLinkHtml;\n",
              "          element.appendChild(docLink);\n",
              "        }\n",
              "      </script>\n",
              "    </div>\n",
              "  </div>\n",
              "  "
            ]
          },
          "metadata": {},
          "execution_count": 136
        }
      ],
      "source": [
        "df['Date'] = df['Begin Trip Time'].str.split(' ').str[0]\n",
        "df['Time'] = df['Begin Trip Time'].str.split(' ').str[1]\n",
        "\n",
        "df['Date_Time'] = df['Date'] +\" \"+  df['Time']\n",
        "df['Date_Time']\n",
        "\n",
        "\n",
        "df['Date_Time'] = pd.to_datetime(df['Date_Time']) \n",
        "\n",
        "df['month']=df['Date_Time'].dt.month\n",
        "df['month']\n",
        "df"
      ]
    },
    {
      "cell_type": "code",
      "execution_count": null,
      "id": "bb02616f-c105-4158-9787-649e745b3cdf",
      "metadata": {
        "colab": {
          "base_uri": "https://localhost:8080/",
          "height": 542
        },
        "id": "bb02616f-c105-4158-9787-649e745b3cdf",
        "outputId": "c27fc66c-2bb6-4d0e-e6fd-b885c94fae29"
      },
      "outputs": [
        {
          "output_type": "display_data",
          "data": {
            "text/html": [
              "<html>\n",
              "<head><meta charset=\"utf-8\" /></head>\n",
              "<body>\n",
              "    <div>            <script src=\"https://cdnjs.cloudflare.com/ajax/libs/mathjax/2.7.5/MathJax.js?config=TeX-AMS-MML_SVG\"></script><script type=\"text/javascript\">if (window.MathJax) {MathJax.Hub.Config({SVG: {font: \"STIX-Web\"}});}</script>                <script type=\"text/javascript\">window.PlotlyConfig = {MathJaxConfig: 'local'};</script>\n",
              "        <script src=\"https://cdn.plot.ly/plotly-2.8.3.min.js\"></script>                <div id=\"858d83e5-c3e3-41fa-9b9e-9e0c2ffa1329\" class=\"plotly-graph-div\" style=\"height:525px; width:100%;\"></div>            <script type=\"text/javascript\">                                    window.PLOTLYENV=window.PLOTLYENV || {};                                    if (document.getElementById(\"858d83e5-c3e3-41fa-9b9e-9e0c2ffa1329\")) {                    Plotly.newPlot(                        \"858d83e5-c3e3-41fa-9b9e-9e0c2ffa1329\",                        [{\"alignmentgroup\":\"True\",\"hovertemplate\":\"Distance(miles)=%{x}<br>Fare Amount=%{y}<extra></extra>\",\"legendgroup\":\"\",\"marker\":{\"color\":\"#636efa\",\"pattern\":{\"shape\":\"\"}},\"name\":\"\",\"offsetgroup\":\"\",\"orientation\":\"v\",\"showlegend\":false,\"textposition\":\"auto\",\"x\":[5.31,5.9,19.74,2.54,6.17,6.71,0.0,1.83,0.0,0.0,1.2,0.83,1.42,0.79,0.92,0.0,1.45,6.17,0.0,5.96,5.6,5.98,6.05,5.59,6.01,6.46,0.0,0.0,0.0,7.68,0.0,0.0,6.78,5.99,5.57,6.44,7.62,0.0,5.8,5.98,0.0,5.58,6.03,0.0,4.41,6.92,0.0,5.58,6.09,0.0,6.62,7.42,0.02,6.01,1.43,0.0,0.0,6.02,0.0,6.21,6.03,6.02,5.99,0.0,5.56,6.02,5.04,2.02,5.96,6.02,6.15,7.49,5.97,3.17,0.89,5.9,1.62,5.91,6.27,0.55,6.08,0.0,0.0,5.95,0.0,3.54,0.0,5.98,4.59,1.91,0.0,1.51,1.57,10.08,9.1,1.53,13.23,4.26,0.0,0.0,1.99,2.03,0.88,1.47,0.0,0.0,4.72,3.38,3.16,0.0,0.58,0.77,1.81,3.16,3.94,12.12,4.72,1.19,2.14,5.61,5.66,5.8,5.54,4.76,1.28,1.54,5.73,5.81,8.1,0.29,5.53,5.73,5.63,0.0,5.57,5.42,1.4,1.31,1.23,6.19,5.67,4.97,2.08,5.77,1.12,5.49,2.49,1.24,1.59,4.26,5.58,1.1,0.78,5.58,5.64,5.61,5.64,4.47,0.0,4.48,5.57,7.86,3.49,1.48,4.22,4.31,4.73,0.64,4.7,1.91,5.31,1.78,1.45,5.34,5.31,0.58,5.44,3.08,2.35,5.15,4.45,4.51,12.17,4.28,3.1,3.25,3.42,3.98,3.46,1.82,9.16,3.27,5.48,1.82,5.74,1.27,3.92,0.0,0.97,7.13,3.36,11.63,5.91,0.97,2.46,0.93,6.05,3.0,0.51,9.9,1.81,0.0,0.0,0.48,0.76,5.26,0.0,9.99,2.37,4.32,12.99,0.0,0.0,0.0,0.0,12.02,5.23,0.59,12.17,11.29,10.18,5.92,0.0,16.15,5.91,0.94,5.85,0.77,8.45,0.0,6.48,11.94,0.0,0.0,1.15,7.39,2.65,0.0,0.0,0.0,0.0,7.84,9.17,3.17,3.25,5.63,6.16,2.53,2.89,3.12,5.25,0.83,12.01,5.92,11.74,0.0,5.64,11.8,0.0,17.98,0.0,1.71,0.85,5.37,11.94,11.82,0.0,1.28,0.0,10.6,0.0,15.52,6.79,0.0,5.32,0.0,0.0,5.38,0.0,10.36,10.68,5.16,0.0,0.0,3.38,1.23,1.19,6.3,9.29,8.63,3.45,1.17,0.15,6.39,1.23,6.96,6.02,0.77,1.21,1.22,0.17,6.12,0.0,1.21,1.23,1.18,0.0,11.06,0.0,9.73,14.21,0.0,1.2,12.34,7.06,7.63,7.53,1.28,1.25,1.19,16.91,5.6,1.29,1.24,1.18,10.0,0.0,0.0,9.5,1.22,1.22,1.2,1.25,1.33,1.31,11.43,13.82,1.23,1.28,1.1,1.2,1.58,10.48,15.68,1.29,1.24,1.56,0.0,0.0,0.0,2.56,0.0,1.27,5.18,5.76,0.0,0.0,1.72,4.59,12.65,1.71,13.84,12.37,0.0,1.74,11.81,0.0,1.28,1.25,2.54,3.15,7.1,1.19,9.59,6.56,9.53,2.09,6.41,6.37,0.0,2.07,1.26,0.0,1.65,0.0,1.21,1.2,1.3,1.31,1.2,13.02,1.32,4.09,4.29,0.55,1.23,1.22,1.24,0.0,1.31,0.0,1.25,1.22,1.23,0.0,3.69,0.0,3.52,2.04,0.0,2.53,11.42,1.19,9.57,10.12,1.15,1.19,1.19,4.03,1.22,1.18,5.8,1.24,1.17,1.23,1.22,1.21,1.24,0.0,0.0,1.18,1.22,12.73,1.21,13.97,1.23,12.09,1.22,10.37,1.04,0.0,1.19,11.79,2.83,8.43,6.42,12.69,1.1,2.73,9.32,2.19,15.52,10.92,1.13,10.76,1.26,1.33,5.49,1.33,1.21,9.59,0.0,3.22,6.09,5.85,6.31,5.81,5.87,6.38,6.33,5.77,5.92,6.24,6.21,6.29,6.2,6.74,5.96,5.85,5.95,5.81,5.93,0.0,6.13,5.93,0.0,4.28,4.48,6.06,6.01,5.89,5.9,6.3,7.71,6.95,7.0,8.08,6.19,0.0,7.36,0.0,0.0,7.81,4.7,2.14,6.27,0.0,6.72,5.03,2.75,7.76,6.32,6.67,0.0,0.0,4.97,7.07,6.35,6.41,0.0,8.81,6.56,0.0,5.85,0.0,5.8,5.9,4.35,2.97,6.27,2.04,1.68,5.99,5.51,6.24,3.28,2.2,4.08,3.45,0.0,0.0],\"xaxis\":\"x\",\"y\":[20.86,34.23,58.77,12.63,21.25,33.22,0.0,11.52,0.0,0.0,7.49,7.4,7.4,7.31,6.42,0.0,6.76,22.46,0.0,21.35,20.38,23.41,22.08,20.34,21.92,24.54,0.0,0.0,0.0,33.74,0.0,0.0,19.5,34.01,20.65,29.82,31.63,0.0,18.43,19.8,0.0,27.57,24.07,0.0,26.99,41.13,0.0,27.3,39.97,0.0,30.31,30.28,0.0,24.65,8.23,0.0,0.0,21.51,0.0,21.48,22.58,22.56,20.09,0.0,20.07,21.48,22.62,9.1,20.29,20.91,25.38,26.85,20.8,12.86,9.85,24.69,8.22,21.45,26.62,35.89,21.7,0.0,0.0,27.16,0.0,0.0,0.0,31.76,15.71,17.03,0.0,8.98,31.99,34.88,37.93,33.89,51.01,17.43,0.0,0.0,13.18,14.51,0.0,7.41,0.0,0.0,18.99,14.08,46.0,0.0,6.44,7.62,7.31,51.99,16.82,33.22,18.63,7.89,8.26,19.99,19.42,19.64,19.04,18.0,7.72,7.71,19.58,19.34,15.74,6.94,19.64,19.83,19.49,0.0,19.78,19.49,7.1,7.29,8.52,25.1,18.9,16.68,10.87,20.22,6.94,19.22,16.48,7.02,7.28,13.75,19.45,6.59,7.07,21.43,20.05,19.87,20.73,25.19,0.0,13.64,16.44,21.57,14.12,7.03,13.43,15.39,20.39,7.69,20.13,10.0,20.33,7.57,6.6,13.54,13.63,36.9,15.14,12.49,10.12,18.96,18.69,95.4,37.04,21.26,12.51,26.52,20.18,15.71,13.59,10.37,25.66,15.78,28.64,7.98,19.75,9.38,17.99,0.0,7.87,23.1,13.8,38.51,11.6,7.6,11.34,7.63,20.53,43.1,7.85,44.68,62.9,0.0,0.0,7.83,7.89,21.43,0.0,34.69,12.1,18.89,20.84,0.0,0.0,0.0,0.0,37.97,21.61,7.85,35.41,32.08,27.04,25.3,4.0,35.73,22.97,7.96,23.28,6.1,33.36,0.0,25.41,33.7,0.0,0.0,6.8,28.06,12.9,0.0,0.0,0.0,0.0,33.26,29.65,14.41,16.0,22.63,23.17,25.44,13.56,14.4,23.89,7.85,37.21,24.03,34.84,4.0,23.76,42.27,0.0,38.47,0.0,9.04,7.96,20.83,34.99,37.59,0.0,18.06,0.0,32.69,0.0,30.32,26.07,0.0,23.72,0.0,0.0,21.88,7.0,20.47,32.84,21.56,0.0,0.0,12.69,7.95,7.95,25.76,26.2,41.37,10.88,7.18,11.27,21.15,7.96,32.18,25.45,7.88,11.31,7.96,11.47,26.22,0.0,7.94,7.96,7.94,0.0,43.64,0.0,28.62,34.73,0.0,7.94,38.45,37.51,24.05,29.83,7.94,7.96,7.95,35.79,27.29,7.95,7.95,7.94,20.16,0.0,4.0,28.55,8.14,7.99,7.96,7.96,7.95,7.95,34.29,32.03,7.95,7.14,6.52,7.94,7.95,34.78,28.79,8.07,7.95,7.96,4.0,0.0,0.0,11.31,0.0,7.97,21.75,24.13,0.0,0.0,8.83,24.42,37.24,8.89,34.59,31.54,0.0,8.68,28.1,0.0,7.95,7.95,7.97,17.7,36.94,7.95,32.09,25.03,26.4,11.3,22.48,16.98,0.0,11.67,8.87,0.0,8.36,0.0,11.07,8.7,7.94,10.04,8.78,32.69,7.95,13.75,22.59,9.75,7.95,7.96,7.95,7.0,8.19,0.0,6.93,7.96,8.82,0.0,27.28,0.0,16.05,13.81,0.0,9.57,34.06,7.94,47.58,30.34,7.95,8.92,7.96,14.55,7.95,7.95,25.35,7.95,7.95,7.95,7.95,7.94,7.95,0.0,0.0,7.95,7.94,32.51,7.95,31.2,7.95,33.95,7.94,30.61,8.67,0.0,7.94,43.72,18.19,24.29,21.51,29.02,7.95,15.44,32.54,10.26,32.63,30.68,7.94,31.47,8.37,7.95,24.28,7.94,7.95,26.26,0.0,14.38,17.58,24.86,24.53,25.52,24.83,24.78,25.17,24.01,24.03,25.02,25.67,24.24,25.21,24.89,25.99,23.93,25.69,25.25,25.19,0.0,25.62,25.13,0.0,23.41,23.4,22.97,24.01,28.84,23.57,23.95,24.28,17.14,23.79,25.47,24.39,0.0,27.75,0.0,0.0,27.3,19.38,13.76,24.08,0.0,22.94,11.57,10.51,24.23,24.8,25.39,0.0,0.0,23.33,23.26,23.31,23.86,0.0,36.85,29.44,0.0,24.66,0.0,29.83,29.43,20.13,9.91,24.75,9.02,8.4,27.89,21.13,23.38,14.02,7.84,15.06,15.16,0.0,7.0],\"yaxis\":\"y\",\"type\":\"bar\"}],                        {\"template\":{\"data\":{\"bar\":[{\"error_x\":{\"color\":\"#2a3f5f\"},\"error_y\":{\"color\":\"#2a3f5f\"},\"marker\":{\"line\":{\"color\":\"#E5ECF6\",\"width\":0.5},\"pattern\":{\"fillmode\":\"overlay\",\"size\":10,\"solidity\":0.2}},\"type\":\"bar\"}],\"barpolar\":[{\"marker\":{\"line\":{\"color\":\"#E5ECF6\",\"width\":0.5},\"pattern\":{\"fillmode\":\"overlay\",\"size\":10,\"solidity\":0.2}},\"type\":\"barpolar\"}],\"carpet\":[{\"aaxis\":{\"endlinecolor\":\"#2a3f5f\",\"gridcolor\":\"white\",\"linecolor\":\"white\",\"minorgridcolor\":\"white\",\"startlinecolor\":\"#2a3f5f\"},\"baxis\":{\"endlinecolor\":\"#2a3f5f\",\"gridcolor\":\"white\",\"linecolor\":\"white\",\"minorgridcolor\":\"white\",\"startlinecolor\":\"#2a3f5f\"},\"type\":\"carpet\"}],\"choropleth\":[{\"colorbar\":{\"outlinewidth\":0,\"ticks\":\"\"},\"type\":\"choropleth\"}],\"contour\":[{\"colorbar\":{\"outlinewidth\":0,\"ticks\":\"\"},\"colorscale\":[[0.0,\"#0d0887\"],[0.1111111111111111,\"#46039f\"],[0.2222222222222222,\"#7201a8\"],[0.3333333333333333,\"#9c179e\"],[0.4444444444444444,\"#bd3786\"],[0.5555555555555556,\"#d8576b\"],[0.6666666666666666,\"#ed7953\"],[0.7777777777777778,\"#fb9f3a\"],[0.8888888888888888,\"#fdca26\"],[1.0,\"#f0f921\"]],\"type\":\"contour\"}],\"contourcarpet\":[{\"colorbar\":{\"outlinewidth\":0,\"ticks\":\"\"},\"type\":\"contourcarpet\"}],\"heatmap\":[{\"colorbar\":{\"outlinewidth\":0,\"ticks\":\"\"},\"colorscale\":[[0.0,\"#0d0887\"],[0.1111111111111111,\"#46039f\"],[0.2222222222222222,\"#7201a8\"],[0.3333333333333333,\"#9c179e\"],[0.4444444444444444,\"#bd3786\"],[0.5555555555555556,\"#d8576b\"],[0.6666666666666666,\"#ed7953\"],[0.7777777777777778,\"#fb9f3a\"],[0.8888888888888888,\"#fdca26\"],[1.0,\"#f0f921\"]],\"type\":\"heatmap\"}],\"heatmapgl\":[{\"colorbar\":{\"outlinewidth\":0,\"ticks\":\"\"},\"colorscale\":[[0.0,\"#0d0887\"],[0.1111111111111111,\"#46039f\"],[0.2222222222222222,\"#7201a8\"],[0.3333333333333333,\"#9c179e\"],[0.4444444444444444,\"#bd3786\"],[0.5555555555555556,\"#d8576b\"],[0.6666666666666666,\"#ed7953\"],[0.7777777777777778,\"#fb9f3a\"],[0.8888888888888888,\"#fdca26\"],[1.0,\"#f0f921\"]],\"type\":\"heatmapgl\"}],\"histogram\":[{\"marker\":{\"pattern\":{\"fillmode\":\"overlay\",\"size\":10,\"solidity\":0.2}},\"type\":\"histogram\"}],\"histogram2d\":[{\"colorbar\":{\"outlinewidth\":0,\"ticks\":\"\"},\"colorscale\":[[0.0,\"#0d0887\"],[0.1111111111111111,\"#46039f\"],[0.2222222222222222,\"#7201a8\"],[0.3333333333333333,\"#9c179e\"],[0.4444444444444444,\"#bd3786\"],[0.5555555555555556,\"#d8576b\"],[0.6666666666666666,\"#ed7953\"],[0.7777777777777778,\"#fb9f3a\"],[0.8888888888888888,\"#fdca26\"],[1.0,\"#f0f921\"]],\"type\":\"histogram2d\"}],\"histogram2dcontour\":[{\"colorbar\":{\"outlinewidth\":0,\"ticks\":\"\"},\"colorscale\":[[0.0,\"#0d0887\"],[0.1111111111111111,\"#46039f\"],[0.2222222222222222,\"#7201a8\"],[0.3333333333333333,\"#9c179e\"],[0.4444444444444444,\"#bd3786\"],[0.5555555555555556,\"#d8576b\"],[0.6666666666666666,\"#ed7953\"],[0.7777777777777778,\"#fb9f3a\"],[0.8888888888888888,\"#fdca26\"],[1.0,\"#f0f921\"]],\"type\":\"histogram2dcontour\"}],\"mesh3d\":[{\"colorbar\":{\"outlinewidth\":0,\"ticks\":\"\"},\"type\":\"mesh3d\"}],\"parcoords\":[{\"line\":{\"colorbar\":{\"outlinewidth\":0,\"ticks\":\"\"}},\"type\":\"parcoords\"}],\"pie\":[{\"automargin\":true,\"type\":\"pie\"}],\"scatter\":[{\"marker\":{\"colorbar\":{\"outlinewidth\":0,\"ticks\":\"\"}},\"type\":\"scatter\"}],\"scatter3d\":[{\"line\":{\"colorbar\":{\"outlinewidth\":0,\"ticks\":\"\"}},\"marker\":{\"colorbar\":{\"outlinewidth\":0,\"ticks\":\"\"}},\"type\":\"scatter3d\"}],\"scattercarpet\":[{\"marker\":{\"colorbar\":{\"outlinewidth\":0,\"ticks\":\"\"}},\"type\":\"scattercarpet\"}],\"scattergeo\":[{\"marker\":{\"colorbar\":{\"outlinewidth\":0,\"ticks\":\"\"}},\"type\":\"scattergeo\"}],\"scattergl\":[{\"marker\":{\"colorbar\":{\"outlinewidth\":0,\"ticks\":\"\"}},\"type\":\"scattergl\"}],\"scattermapbox\":[{\"marker\":{\"colorbar\":{\"outlinewidth\":0,\"ticks\":\"\"}},\"type\":\"scattermapbox\"}],\"scatterpolar\":[{\"marker\":{\"colorbar\":{\"outlinewidth\":0,\"ticks\":\"\"}},\"type\":\"scatterpolar\"}],\"scatterpolargl\":[{\"marker\":{\"colorbar\":{\"outlinewidth\":0,\"ticks\":\"\"}},\"type\":\"scatterpolargl\"}],\"scatterternary\":[{\"marker\":{\"colorbar\":{\"outlinewidth\":0,\"ticks\":\"\"}},\"type\":\"scatterternary\"}],\"surface\":[{\"colorbar\":{\"outlinewidth\":0,\"ticks\":\"\"},\"colorscale\":[[0.0,\"#0d0887\"],[0.1111111111111111,\"#46039f\"],[0.2222222222222222,\"#7201a8\"],[0.3333333333333333,\"#9c179e\"],[0.4444444444444444,\"#bd3786\"],[0.5555555555555556,\"#d8576b\"],[0.6666666666666666,\"#ed7953\"],[0.7777777777777778,\"#fb9f3a\"],[0.8888888888888888,\"#fdca26\"],[1.0,\"#f0f921\"]],\"type\":\"surface\"}],\"table\":[{\"cells\":{\"fill\":{\"color\":\"#EBF0F8\"},\"line\":{\"color\":\"white\"}},\"header\":{\"fill\":{\"color\":\"#C8D4E3\"},\"line\":{\"color\":\"white\"}},\"type\":\"table\"}]},\"layout\":{\"annotationdefaults\":{\"arrowcolor\":\"#2a3f5f\",\"arrowhead\":0,\"arrowwidth\":1},\"autotypenumbers\":\"strict\",\"coloraxis\":{\"colorbar\":{\"outlinewidth\":0,\"ticks\":\"\"}},\"colorscale\":{\"diverging\":[[0,\"#8e0152\"],[0.1,\"#c51b7d\"],[0.2,\"#de77ae\"],[0.3,\"#f1b6da\"],[0.4,\"#fde0ef\"],[0.5,\"#f7f7f7\"],[0.6,\"#e6f5d0\"],[0.7,\"#b8e186\"],[0.8,\"#7fbc41\"],[0.9,\"#4d9221\"],[1,\"#276419\"]],\"sequential\":[[0.0,\"#0d0887\"],[0.1111111111111111,\"#46039f\"],[0.2222222222222222,\"#7201a8\"],[0.3333333333333333,\"#9c179e\"],[0.4444444444444444,\"#bd3786\"],[0.5555555555555556,\"#d8576b\"],[0.6666666666666666,\"#ed7953\"],[0.7777777777777778,\"#fb9f3a\"],[0.8888888888888888,\"#fdca26\"],[1.0,\"#f0f921\"]],\"sequentialminus\":[[0.0,\"#0d0887\"],[0.1111111111111111,\"#46039f\"],[0.2222222222222222,\"#7201a8\"],[0.3333333333333333,\"#9c179e\"],[0.4444444444444444,\"#bd3786\"],[0.5555555555555556,\"#d8576b\"],[0.6666666666666666,\"#ed7953\"],[0.7777777777777778,\"#fb9f3a\"],[0.8888888888888888,\"#fdca26\"],[1.0,\"#f0f921\"]]},\"colorway\":[\"#636efa\",\"#EF553B\",\"#00cc96\",\"#ab63fa\",\"#FFA15A\",\"#19d3f3\",\"#FF6692\",\"#B6E880\",\"#FF97FF\",\"#FECB52\"],\"font\":{\"color\":\"#2a3f5f\"},\"geo\":{\"bgcolor\":\"white\",\"lakecolor\":\"white\",\"landcolor\":\"#E5ECF6\",\"showlakes\":true,\"showland\":true,\"subunitcolor\":\"white\"},\"hoverlabel\":{\"align\":\"left\"},\"hovermode\":\"closest\",\"mapbox\":{\"style\":\"light\"},\"paper_bgcolor\":\"white\",\"plot_bgcolor\":\"#E5ECF6\",\"polar\":{\"angularaxis\":{\"gridcolor\":\"white\",\"linecolor\":\"white\",\"ticks\":\"\"},\"bgcolor\":\"#E5ECF6\",\"radialaxis\":{\"gridcolor\":\"white\",\"linecolor\":\"white\",\"ticks\":\"\"}},\"scene\":{\"xaxis\":{\"backgroundcolor\":\"#E5ECF6\",\"gridcolor\":\"white\",\"gridwidth\":2,\"linecolor\":\"white\",\"showbackground\":true,\"ticks\":\"\",\"zerolinecolor\":\"white\"},\"yaxis\":{\"backgroundcolor\":\"#E5ECF6\",\"gridcolor\":\"white\",\"gridwidth\":2,\"linecolor\":\"white\",\"showbackground\":true,\"ticks\":\"\",\"zerolinecolor\":\"white\"},\"zaxis\":{\"backgroundcolor\":\"#E5ECF6\",\"gridcolor\":\"white\",\"gridwidth\":2,\"linecolor\":\"white\",\"showbackground\":true,\"ticks\":\"\",\"zerolinecolor\":\"white\"}},\"shapedefaults\":{\"line\":{\"color\":\"#2a3f5f\"}},\"ternary\":{\"aaxis\":{\"gridcolor\":\"white\",\"linecolor\":\"white\",\"ticks\":\"\"},\"baxis\":{\"gridcolor\":\"white\",\"linecolor\":\"white\",\"ticks\":\"\"},\"bgcolor\":\"#E5ECF6\",\"caxis\":{\"gridcolor\":\"white\",\"linecolor\":\"white\",\"ticks\":\"\"}},\"title\":{\"x\":0.05},\"xaxis\":{\"automargin\":true,\"gridcolor\":\"white\",\"linecolor\":\"white\",\"ticks\":\"\",\"title\":{\"standoff\":15},\"zerolinecolor\":\"white\",\"zerolinewidth\":2},\"yaxis\":{\"automargin\":true,\"gridcolor\":\"white\",\"linecolor\":\"white\",\"ticks\":\"\",\"title\":{\"standoff\":15},\"zerolinecolor\":\"white\",\"zerolinewidth\":2}}},\"xaxis\":{\"anchor\":\"y\",\"domain\":[0.0,1.0],\"title\":{\"text\":\"Distance(miles)\"}},\"yaxis\":{\"anchor\":\"x\",\"domain\":[0.0,1.0],\"title\":{\"text\":\"Fare Amount\"}},\"legend\":{\"tracegroupgap\":0},\"margin\":{\"t\":60},\"barmode\":\"relative\"},                        {\"responsive\": true}                    ).then(function(){\n",
              "                            \n",
              "var gd = document.getElementById('858d83e5-c3e3-41fa-9b9e-9e0c2ffa1329');\n",
              "var x = new MutationObserver(function (mutations, observer) {{\n",
              "        var display = window.getComputedStyle(gd).display;\n",
              "        if (!display || display === 'none') {{\n",
              "            console.log([gd, 'removed!']);\n",
              "            Plotly.purge(gd);\n",
              "            observer.disconnect();\n",
              "        }}\n",
              "}});\n",
              "\n",
              "// Listen for the removal of the full notebook cells\n",
              "var notebookContainer = gd.closest('#notebook-container');\n",
              "if (notebookContainer) {{\n",
              "    x.observe(notebookContainer, {childList: true});\n",
              "}}\n",
              "\n",
              "// Listen for the clearing of the current output cell\n",
              "var outputEl = gd.closest('.output');\n",
              "if (outputEl) {{\n",
              "    x.observe(outputEl, {childList: true});\n",
              "}}\n",
              "\n",
              "                        })                };                            </script>        </div>\n",
              "</body>\n",
              "</html>"
            ]
          },
          "metadata": {}
        }
      ],
      "source": [
        "fig=px.bar(x=df['Distance (miles)'],y=df['Fare Amount'],\n",
        "      labels={'x':'Distance(miles)','y':'Fare Amount'},)\n",
        "fig.show()"
      ]
    },
    {
      "cell_type": "code",
      "execution_count": null,
      "id": "c8ef7f7a-1778-4164-ac6f-f9f0aea30248",
      "metadata": {
        "id": "c8ef7f7a-1778-4164-ac6f-f9f0aea30248"
      },
      "outputs": [],
      "source": [
        "\n",
        "#Month vs total no of trips"
      ]
    },
    {
      "cell_type": "code",
      "execution_count": null,
      "id": "f1f66067-e86e-4e2f-b765-891f1a9c36a9",
      "metadata": {
        "colab": {
          "base_uri": "https://localhost:8080/",
          "height": 613
        },
        "id": "f1f66067-e86e-4e2f-b765-891f1a9c36a9",
        "outputId": "70f96611-ab6f-499e-f3e0-c29ab4956c27"
      },
      "outputs": [
        {
          "output_type": "execute_result",
          "data": {
            "text/plain": [
              "Text(0.5, 1.0, 'Number Trips per month')"
            ]
          },
          "metadata": {},
          "execution_count": 139
        },
        {
          "output_type": "display_data",
          "data": {
            "text/plain": [
              "<Figure size 1440x720 with 1 Axes>"
            ],
            "image/png": "[encoded data removed]"
          },
          "metadata": {
            "needs_background": "light"
          }
        }
      ],
      "source": [
        "\n",
        "count = df['month'].value_counts()\n",
        "x = count.plot(kind='bar',figsize=(20,10), color=\"Red\")\n",
        "plt.xlabel('Month', color=\"Blue\")\n",
        "plt.ylabel('No of Trips', color=\"Green\")\n",
        "plt.title(\"Number Trips per month\")"
      ]
    },
    {
      "cell_type": "code",
      "execution_count": null,
      "id": "fb2751d6-6436-43c7-a6db-7b7845b2c401",
      "metadata": {
        "colab": {
          "base_uri": "https://localhost:8080/",
          "height": 693
        },
        "id": "fb2751d6-6436-43c7-a6db-7b7845b2c401",
        "outputId": "944e0663-d358-48c5-ce25-fc5358f34de1"
      },
      "outputs": [
        {
          "output_type": "execute_result",
          "data": {
            "text/plain": [
              "Text(0.5, 1.0, 'No of trips with status')"
            ]
          },
          "metadata": {},
          "execution_count": 140
        },
        {
          "output_type": "display_data",
          "data": {
            "text/plain": [
              "<Figure size 1440x720 with 1 Axes>"
            ],
            "image/png": "[encoded data removed]"
          },
          "metadata": {
            "needs_background": "light"
          }
        }
      ],
      "source": [
        "\n",
        "#request status with no of trips\n",
        "count = df['Trip or Order Status'].value_counts()\n",
        "x = count.plot(kind='bar',figsize=(20,10), color=\"Blue\")\n",
        "plt.xlabel('Trip Status', color=\"Blue\")\n",
        "plt.ylabel('No of Trips', color=\"Green\")\n",
        "plt.title('No of trips with status')"
      ]
    },
    {
      "cell_type": "code",
      "execution_count": null,
      "id": "61e5208d-eacd-43ac-878a-a4390dfd82b4",
      "metadata": {
        "id": "61e5208d-eacd-43ac-878a-a4390dfd82b4",
        "colab": {
          "base_uri": "https://localhost:8080/"
        },
        "outputId": "e48d49a2-a98a-4990-be18-da644e4b69ca"
      },
      "outputs": [
        {
          "output_type": "execute_result",
          "data": {
            "text/plain": [
              "Index(['City', 'Product Type', 'Trip or Order Status', 'Request Time',\n",
              "       'Begin Trip Time', 'Begin Trip Lat', 'Begin Trip Lng', 'Dropoff Time',\n",
              "       'Dropoff Lat', 'Dropoff Lng', 'Distance (miles)', 'Fare Amount', 'Date',\n",
              "       'Time', 'Date_Time', 'month'],\n",
              "      dtype='object')"
            ]
          },
          "metadata": {},
          "execution_count": 141
        }
      ],
      "source": [
        "\n",
        "df.columns"
      ]
    },
    {
      "cell_type": "code",
      "source": [
        "sns.boxplot(x=\"month\",y=\"Fare Amount\",data=df)"
      ],
      "metadata": {
        "colab": {
          "base_uri": "https://localhost:8080/",
          "height": 301
        },
        "id": "GNAOCjlhihWF",
        "outputId": "1083e2e7-d50c-4469-ff70-3284eafb3494"
      },
      "id": "GNAOCjlhihWF",
      "execution_count": null,
      "outputs": [
        {
          "output_type": "execute_result",
          "data": {
            "text/plain": [
              "<matplotlib.axes._subplots.AxesSubplot at 0x7fb33a6e4190>"
            ]
          },
          "metadata": {},
          "execution_count": 142
        },
        {
          "output_type": "display_data",
          "data": {
            "text/plain": [
              "<Figure size 432x288 with 1 Axes>"
            ],
            "image/png": "[encoded data removed]"
          },
          "metadata": {
            "needs_background": "light"
          }
        }
      ]
    },
    {
      "cell_type": "code",
      "source": [
        "df.dtypes"
      ],
      "metadata": {
        "colab": {
          "base_uri": "https://localhost:8080/"
        },
        "id": "gv1riflii-u9",
        "outputId": "c6c2c1ba-e424-4cef-ca03-99972e9dba8a"
      },
      "id": "gv1riflii-u9",
      "execution_count": null,
      "outputs": [
        {
          "output_type": "execute_result",
          "data": {
            "text/plain": [
              "City                             int64\n",
              "Product Type                    object\n",
              "Trip or Order Status            object\n",
              "Request Time                    object\n",
              "Begin Trip Time                 object\n",
              "Begin Trip Lat                 float64\n",
              "Begin Trip Lng                 float64\n",
              "Dropoff Time                    object\n",
              "Dropoff Lat                    float64\n",
              "Dropoff Lng                    float64\n",
              "Distance (miles)               float64\n",
              "Fare Amount                    float64\n",
              "Date                            object\n",
              "Time                            object\n",
              "Date_Time               datetime64[ns]\n",
              "month                            int64\n",
              "dtype: object"
            ]
          },
          "metadata": {},
          "execution_count": 143
        }
      ]
    },
    {
      "cell_type": "code",
      "source": [
        "df.head()"
      ],
      "metadata": {
        "colab": {
          "base_uri": "https://localhost:8080/",
          "height": 652
        },
        "id": "GBZzI928luOu",
        "outputId": "92dbd5f2-1e7d-4195-9d68-4623b25df3af"
      },
      "id": "GBZzI928luOu",
      "execution_count": null,
      "outputs": [
        {
          "output_type": "execute_result",
          "data": {
            "text/plain": [
              "   City Product Type Trip or Order Status                   Request Time  \\\n",
              "1   458          VIP            COMPLETED  2021-01-13 20:21:05 +0000 UTC   \n",
              "2   458          VIP            COMPLETED  2021-01-03 00:23:22 +0000 UTC   \n",
              "3   458          VIP            COMPLETED  2020-12-11 23:16:33 +0000 UTC   \n",
              "4   458          VIP            COMPLETED  2020-12-11 00:35:46 +0000 UTC   \n",
              "5   458          VIP            COMPLETED  2020-12-10 11:42:15 +0000 UTC   \n",
              "\n",
              "                 Begin Trip Time  Begin Trip Lat  Begin Trip Lng  \\\n",
              "1  2021-01-13 20:27:29 +0000 UTC      -23.559298      -46.666454   \n",
              "2  2021-01-03 00:33:00 +0000 UTC      -23.626593      -46.659410   \n",
              "3  2020-12-11 23:27:32 +0000 UTC      -23.559410      -46.666435   \n",
              "4  2020-12-11 00:46:46 +0000 UTC      -23.584846      -46.663590   \n",
              "5  2020-12-10 11:46:20 +0000 UTC      -23.559372      -46.666473   \n",
              "\n",
              "                    Dropoff Time  Dropoff Lat  Dropoff Lng  Distance (miles)  \\\n",
              "1  2021-01-13 20:54:50 +0000 UTC   -23.599585   -46.715717              5.31   \n",
              "2  2021-01-03 00:50:56 +0000 UTC   -23.559273   -46.666595              5.90   \n",
              "3  2020-12-12 00:32:47 +0000 UTC   -23.425755   -46.481190             19.74   \n",
              "4  2020-12-11 00:57:57 +0000 UTC   -23.559261   -46.666510              2.54   \n",
              "5  2020-12-10 12:06:15 +0000 UTC   -23.624500   -46.701077              6.17   \n",
              "\n",
              "   Fare Amount        Date      Time           Date_Time  month  \n",
              "1        20.86  2021-01-13  20:27:29 2021-01-13 20:27:29      1  \n",
              "2        34.23  2021-01-03  00:33:00 2021-01-03 00:33:00      1  \n",
              "3        58.77  2020-12-11  23:27:32 2020-12-11 23:27:32     12  \n",
              "4        12.63  2020-12-11  00:46:46 2020-12-11 00:46:46     12  \n",
              "5        21.25  2020-12-10  11:46:20 2020-12-10 11:46:20     12  "
            ],
            "text/html": [
              "\n",
              "  <div id=\"df-ad038958-cc8d-4f14-b6e7-36afffd41c9a\">\n",
              "    <div class=\"colab-df-container\">\n",
              "      <div>\n",
              "<style scoped>\n",
              "    .dataframe tbody tr th:only-of-type {\n",
              "        vertical-align: middle;\n",
              "    }\n",
              "\n",
              "    .dataframe tbody tr th {\n",
              "        vertical-align: top;\n",
              "    }\n",
              "\n",
              "    .dataframe thead th {\n",
              "        text-align: right;\n",
              "    }\n",
              "</style>\n",
              "<table border=\"1\" class=\"dataframe\">\n",
              "  <thead>\n",
              "    <tr style=\"text-align: right;\">\n",
              "      <th></th>\n",
              "      <th>City</th>\n",
              "      <th>Product Type</th>\n",
              "      <th>Trip or Order Status</th>\n",
              "      <th>Request Time</th>\n",
              "      <th>Begin Trip Time</th>\n",
              "      <th>Begin Trip Lat</th>\n",
              "      <th>Begin Trip Lng</th>\n",
              "      <th>Dropoff Time</th>\n",
              "      <th>Dropoff Lat</th>\n",
              "      <th>Dropoff Lng</th>\n",
              "      <th>Distance (miles)</th>\n",
              "      <th>Fare Amount</th>\n",
              "      <th>Date</th>\n",
              "      <th>Time</th>\n",
              "      <th>Date_Time</th>\n",
              "      <th>month</th>\n",
              "    </tr>\n",
              "  </thead>\n",
              "  <tbody>\n",
              "    <tr>\n",
              "      <th>1</th>\n",
              "      <td>458</td>\n",
              "      <td>VIP</td>\n",
              "      <td>COMPLETED</td>\n",
              "      <td>2021-01-13 20:21:05 +0000 UTC</td>\n",
              "      <td>2021-01-13 20:27:29 +0000 UTC</td>\n",
              "      <td>-23.559298</td>\n",
              "      <td>-46.666454</td>\n",
              "      <td>2021-01-13 20:54:50 +0000 UTC</td>\n",
              "      <td>-23.599585</td>\n",
              "      <td>-46.715717</td>\n",
              "      <td>5.31</td>\n",
              "      <td>20.86</td>\n",
              "      <td>2021-01-13</td>\n",
              "      <td>20:27:29</td>\n",
              "      <td>2021-01-13 20:27:29</td>\n",
              "      <td>1</td>\n",
              "    </tr>\n",
              "    <tr>\n",
              "      <th>2</th>\n",
              "      <td>458</td>\n",
              "      <td>VIP</td>\n",
              "      <td>COMPLETED</td>\n",
              "      <td>2021-01-03 00:23:22 +0000 UTC</td>\n",
              "      <td>2021-01-03 00:33:00 +0000 UTC</td>\n",
              "      <td>-23.626593</td>\n",
              "      <td>-46.659410</td>\n",
              "      <td>2021-01-03 00:50:56 +0000 UTC</td>\n",
              "      <td>-23.559273</td>\n",
              "      <td>-46.666595</td>\n",
              "      <td>5.90</td>\n",
              "      <td>34.23</td>\n",
              "      <td>2021-01-03</td>\n",
              "      <td>00:33:00</td>\n",
              "      <td>2021-01-03 00:33:00</td>\n",
              "      <td>1</td>\n",
              "    </tr>\n",
              "    <tr>\n",
              "      <th>3</th>\n",
              "      <td>458</td>\n",
              "      <td>VIP</td>\n",
              "      <td>COMPLETED</td>\n",
              "      <td>2020-12-11 23:16:33 +0000 UTC</td>\n",
              "      <td>2020-12-11 23:27:32 +0000 UTC</td>\n",
              "      <td>-23.559410</td>\n",
              "      <td>-46.666435</td>\n",
              "      <td>2020-12-12 00:32:47 +0000 UTC</td>\n",
              "      <td>-23.425755</td>\n",
              "      <td>-46.481190</td>\n",
              "      <td>19.74</td>\n",
              "      <td>58.77</td>\n",
              "      <td>2020-12-11</td>\n",
              "      <td>23:27:32</td>\n",
              "      <td>2020-12-11 23:27:32</td>\n",
              "      <td>12</td>\n",
              "    </tr>\n",
              "    <tr>\n",
              "      <th>4</th>\n",
              "      <td>458</td>\n",
              "      <td>VIP</td>\n",
              "      <td>COMPLETED</td>\n",
              "      <td>2020-12-11 00:35:46 +0000 UTC</td>\n",
              "      <td>2020-12-11 00:46:46 +0000 UTC</td>\n",
              "      <td>-23.584846</td>\n",
              "      <td>-46.663590</td>\n",
              "      <td>2020-12-11 00:57:57 +0000 UTC</td>\n",
              "      <td>-23.559261</td>\n",
              "      <td>-46.666510</td>\n",
              "      <td>2.54</td>\n",
              "      <td>12.63</td>\n",
              "      <td>2020-12-11</td>\n",
              "      <td>00:46:46</td>\n",
              "      <td>2020-12-11 00:46:46</td>\n",
              "      <td>12</td>\n",
              "    </tr>\n",
              "    <tr>\n",
              "      <th>5</th>\n",
              "      <td>458</td>\n",
              "      <td>VIP</td>\n",
              "      <td>COMPLETED</td>\n",
              "      <td>2020-12-10 11:42:15 +0000 UTC</td>\n",
              "      <td>2020-12-10 11:46:20 +0000 UTC</td>\n",
              "      <td>-23.559372</td>\n",
              "      <td>-46.666473</td>\n",
              "      <td>2020-12-10 12:06:15 +0000 UTC</td>\n",
              "      <td>-23.624500</td>\n",
              "      <td>-46.701077</td>\n",
              "      <td>6.17</td>\n",
              "      <td>21.25</td>\n",
              "      <td>2020-12-10</td>\n",
              "      <td>11:46:20</td>\n",
              "      <td>2020-12-10 11:46:20</td>\n",
              "      <td>12</td>\n",
              "    </tr>\n",
              "  </tbody>\n",
              "</table>\n",
              "</div>\n",
              "      <button class=\"colab-df-convert\" onclick=\"convertToInteractive('df-ad038958-cc8d-4f14-b6e7-36afffd41c9a')\"\n",
              "              title=\"Convert this dataframe to an interactive table.\"\n",
              "              style=\"display:none;\">\n",
              "        \n",
              "  <svg xmlns=\"http://www.w3.org/2000/svg\" height=\"24px\"viewBox=\"0 0 24 24\"\n",
              "       width=\"24px\">\n",
              "    <path d=\"M0 0h24v24H0V0z\" fill=\"none\"/>\n",
              "    <path d=\"M18.56 5.44l.94 2.06.94-2.06 2.06-.94-2.06-.94-.94-2.06-.94 2.06-2.06.94zm-11 1L8.5 8.5l.94-2.06 2.06-.94-2.06-.94L8.5 2.5l-.94 2.06-2.06.94zm10 10l.94 2.06.94-2.06 2.06-.94-2.06-.94-.94-2.06-.94 2.06-2.06.94z\"/><path d=\"M17.41 7.96l-1.37-1.37c-.4-.4-.92-.59-1.43-.59-.52 0-1.04.2-1.43.59L10.3 9.45l-7.72 7.72c-.78.78-.78 2.05 0 2.83L4 21.41c.39.39.9.59 1.41.59.51 0 1.02-.2 1.41-.59l7.78-7.78 2.81-2.81c.8-.78.8-2.07 0-2.86zM5.41 20L4 18.59l7.72-7.72 1.47 1.35L5.41 20z\"/>\n",
              "  </svg>\n",
              "      </button>\n",
              "      \n",
              "  <style>\n",
              "    .colab-df-container {\n",
              "      display:flex;\n",
              "      flex-wrap:wrap;\n",
              "      gap: 12px;\n",
              "    }\n",
              "\n",
              "    .colab-df-convert {\n",
              "      background-color: #E8F0FE;\n",
              "      border: none;\n",
              "      border-radius: 50%;\n",
              "      cursor: pointer;\n",
              "      display: none;\n",
              "      fill: #1967D2;\n",
              "      height: 32px;\n",
              "      padding: 0 0 0 0;\n",
              "      width: 32px;\n",
              "    }\n",
              "\n",
              "    .colab-df-convert:hover {\n",
              "      background-color: #E2EBFA;\n",
              "      box-shadow: 0px 1px 2px rgba(60, 64, 67, 0.3), 0px 1px 3px 1px rgba(60, 64, 67, 0.15);\n",
              "      fill: #174EA6;\n",
              "    }\n",
              "\n",
              "    [theme=dark] .colab-df-convert {\n",
              "      background-color: #3B4455;\n",
              "      fill: #D2E3FC;\n",
              "    }\n",
              "\n",
              "    [theme=dark] .colab-df-convert:hover {\n",
              "      background-color: #434B5C;\n",
              "      box-shadow: 0px 1px 3px 1px rgba(0, 0, 0, 0.15);\n",
              "      filter: drop-shadow(0px 1px 2px rgba(0, 0, 0, 0.3));\n",
              "      fill: #FFFFFF;\n",
              "    }\n",
              "  </style>\n",
              "\n",
              "      <script>\n",
              "        const buttonEl =\n",
              "          document.querySelector('#df-ad038958-cc8d-4f14-b6e7-36afffd41c9a button.colab-df-convert');\n",
              "        buttonEl.style.display =\n",
              "          google.colab.kernel.accessAllowed ? 'block' : 'none';\n",
              "\n",
              "        async function convertToInteractive(key) {\n",
              "          const element = document.querySelector('#df-ad038958-cc8d-4f14-b6e7-36afffd41c9a');\n",
              "          const dataTable =\n",
              "            await google.colab.kernel.invokeFunction('convertToInteractive',\n",
              "                                                     [key], {});\n",
              "          if (!dataTable) return;\n",
              "\n",
              "          const docLinkHtml = 'Like what you see? Visit the ' +\n",
              "            '<a target=\"_blank\" href=https://colab.research.google.com/notebooks/data_table.ipynb>data table notebook</a>'\n",
              "            + ' to learn more about interactive tables.';\n",
              "          element.innerHTML = '';\n",
              "          dataTable['output_type'] = 'display_data';\n",
              "          await google.colab.output.renderOutput(dataTable, element);\n",
              "          const docLink = document.createElement('div');\n",
              "          docLink.innerHTML = docLinkHtml;\n",
              "          element.appendChild(docLink);\n",
              "        }\n",
              "      </script>\n",
              "    </div>\n",
              "  </div>\n",
              "  "
            ]
          },
          "metadata": {},
          "execution_count": 144
        }
      ]
    },
    {
      "cell_type": "code",
      "source": [
        "from sklearn.preprocessing import LabelEncoder\n",
        "le = LabelEncoder()\n",
        "df[\"Product Type\"] = le.fit_transform(df[\"Product Type\"])"
      ],
      "metadata": {
        "id": "hfUD562FkzTF"
      },
      "id": "hfUD562FkzTF",
      "execution_count": null,
      "outputs": []
    },
    {
      "cell_type": "code",
      "source": [
        "df[\"Trip or Order Status\"] = le.fit_transform(df[\"Trip or Order Status\"])"
      ],
      "metadata": {
        "id": "CRj0bAO8mBEu"
      },
      "id": "CRj0bAO8mBEu",
      "execution_count": null,
      "outputs": []
    },
    {
      "cell_type": "code",
      "source": [
        "df.dtypes"
      ],
      "metadata": {
        "colab": {
          "base_uri": "https://localhost:8080/"
        },
        "id": "PX32TvHBl1Yo",
        "outputId": "c1c80aed-88d8-4457-f96d-2fe91127f549"
      },
      "id": "PX32TvHBl1Yo",
      "execution_count": null,
      "outputs": [
        {
          "output_type": "execute_result",
          "data": {
            "text/plain": [
              "City                             int64\n",
              "Product Type                     int64\n",
              "Trip or Order Status             int64\n",
              "Request Time                    object\n",
              "Begin Trip Time                 object\n",
              "Begin Trip Lat                 float64\n",
              "Begin Trip Lng                 float64\n",
              "Dropoff Time                    object\n",
              "Dropoff Lat                    float64\n",
              "Dropoff Lng                    float64\n",
              "Distance (miles)               float64\n",
              "Fare Amount                    float64\n",
              "Date                            object\n",
              "Time                            object\n",
              "Date_Time               datetime64[ns]\n",
              "month                            int64\n",
              "dtype: object"
            ]
          },
          "metadata": {},
          "execution_count": 147
        }
      ]
    },
    {
      "cell_type": "code",
      "source": [
        "plt.plot(df['Dropoff Lng'],df['Fare Amount'],'r+')"
      ],
      "metadata": {
        "colab": {
          "base_uri": "https://localhost:8080/",
          "height": 287
        },
        "id": "gfOEGrS1mrjH",
        "outputId": "6b8e9fc4-734b-4c91-d578-0b2a0e7150ff"
      },
      "id": "gfOEGrS1mrjH",
      "execution_count": null,
      "outputs": [
        {
          "output_type": "execute_result",
          "data": {
            "text/plain": [
              "[<matplotlib.lines.Line2D at 0x7fb33a3bf210>]"
            ]
          },
          "metadata": {},
          "execution_count": 148
        },
        {
          "output_type": "display_data",
          "data": {
            "text/plain": [
              "<Figure size 432x288 with 1 Axes>"
            ],
            "image/png": "[encoded data removed]"
          },
          "metadata": {
            "needs_background": "light"
          }
        }
      ]
    },
    {
      "cell_type": "code",
      "source": [
        "print(np.where((df['Dropoff Lng']>-46.0)))"
      ],
      "metadata": {
        "colab": {
          "base_uri": "https://localhost:8080/"
        },
        "id": "tMbx7uvnY_6i",
        "outputId": "073dea69-82aa-4627-9771-d423d8d196e7"
      },
      "id": "tMbx7uvnY_6i",
      "execution_count": null,
      "outputs": [
        {
          "output_type": "stream",
          "name": "stdout",
          "text": [
            "(array([358, 360, 537, 538]),)\n"
          ]
        }
      ]
    },
    {
      "cell_type": "code",
      "source": [
        "plt.plot(df['Dropoff Lat'],df['Fare Amount'],'r+')"
      ],
      "metadata": {
        "colab": {
          "base_uri": "https://localhost:8080/",
          "height": 287
        },
        "id": "GWz3fDIcm8Lr",
        "outputId": "c10f8027-69a2-42a7-8374-3224552e0b1f"
      },
      "id": "GWz3fDIcm8Lr",
      "execution_count": null,
      "outputs": [
        {
          "output_type": "execute_result",
          "data": {
            "text/plain": [
              "[<matplotlib.lines.Line2D at 0x7fb33a3b31d0>]"
            ]
          },
          "metadata": {},
          "execution_count": 150
        },
        {
          "output_type": "display_data",
          "data": {
            "text/plain": [
              "<Figure size 432x288 with 1 Axes>"
            ],
            "image/png": "[encoded data removed]"
          },
          "metadata": {
            "needs_background": "light"
          }
        }
      ]
    },
    {
      "cell_type": "code",
      "source": [
        "print(np.where((df['Dropoff Lat']>-23.4)))"
      ],
      "metadata": {
        "colab": {
          "base_uri": "https://localhost:8080/"
        },
        "id": "fyVce2jzYky0",
        "outputId": "90623f84-5245-43e1-f416-b0d27d001294"
      },
      "id": "fyVce2jzYky0",
      "execution_count": null,
      "outputs": [
        {
          "output_type": "stream",
          "name": "stdout",
          "text": [
            "(array([537, 538]),)\n"
          ]
        }
      ]
    },
    {
      "cell_type": "code",
      "source": [
        "print(np.where((df['Dropoff Lat']<-23.7)))"
      ],
      "metadata": {
        "colab": {
          "base_uri": "https://localhost:8080/"
        },
        "id": "lFT-r4cL__5C",
        "outputId": "ce094e03-a202-4827-d99f-c20b882c1c18"
      },
      "id": "lFT-r4cL__5C",
      "execution_count": null,
      "outputs": [
        {
          "output_type": "stream",
          "name": "stdout",
          "text": [
            "(array([390, 402, 403, 404]),)\n"
          ]
        }
      ]
    },
    {
      "cell_type": "code",
      "source": [
        "plt.plot(df['Distance (miles)'],df['Fare Amount'],'r+')"
      ],
      "metadata": {
        "colab": {
          "base_uri": "https://localhost:8080/",
          "height": 287
        },
        "id": "B8g3n23foGSU",
        "outputId": "ac155819-c090-45e3-b5d6-6b351c95ce39"
      },
      "id": "B8g3n23foGSU",
      "execution_count": null,
      "outputs": [
        {
          "output_type": "execute_result",
          "data": {
            "text/plain": [
              "[<matplotlib.lines.Line2D at 0x7fb33a31d190>]"
            ]
          },
          "metadata": {},
          "execution_count": 153
        },
        {
          "output_type": "display_data",
          "data": {
            "text/plain": [
              "<Figure size 432x288 with 1 Axes>"
            ],
            "image/png": "[encoded data removed]"
          },
          "metadata": {
            "needs_background": "light"
          }
        }
      ]
    },
    {
      "cell_type": "code",
      "source": [
        "print(np.where((df['Fare Amount']> 45)))"
      ],
      "metadata": {
        "id": "-7Kj1j8CAHKf"
      },
      "id": "-7Kj1j8CAHKf",
      "execution_count": null,
      "outputs": []
    },
    {
      "cell_type": "code",
      "source": [
        "df[\"Product Type\"].head()"
      ],
      "metadata": {
        "colab": {
          "base_uri": "https://localhost:8080/"
        },
        "id": "csbg1ySxl4Wm",
        "outputId": "cf3e0f8b-9153-4358-e640-bb5737707825"
      },
      "id": "csbg1ySxl4Wm",
      "execution_count": null,
      "outputs": [
        {
          "output_type": "execute_result",
          "data": {
            "text/plain": [
              "1    8\n",
              "2    8\n",
              "3    8\n",
              "4    8\n",
              "5    8\n",
              "Name: Product Type, dtype: int64"
            ]
          },
          "metadata": {},
          "execution_count": 155
        }
      ]
    },
    {
      "cell_type": "code",
      "source": [
        "sns.boxplot(x=\"City\",y=\"Fare Amount\",data=df,palette=\"Set3\")"
      ],
      "metadata": {
        "colab": {
          "base_uri": "https://localhost:8080/",
          "height": 301
        },
        "id": "NyOJiVi7i0RL",
        "outputId": "1b9b0446-c8a1-4e00-883d-df038e838d2c"
      },
      "id": "NyOJiVi7i0RL",
      "execution_count": null,
      "outputs": [
        {
          "output_type": "execute_result",
          "data": {
            "text/plain": [
              "<matplotlib.axes._subplots.AxesSubplot at 0x7fb33a2d86d0>"
            ]
          },
          "metadata": {},
          "execution_count": 156
        },
        {
          "output_type": "display_data",
          "data": {
            "text/plain": [
              "<Figure size 432x288 with 1 Axes>"
            ],
            "image/png": "[encoded data removed]"
          },
          "metadata": {
            "needs_background": "light"
          }
        }
      ]
    },
    {
      "cell_type": "code",
      "source": [
        "print(np.where(df['Fare Amount']>50))"
      ],
      "metadata": {
        "colab": {
          "base_uri": "https://localhost:8080/"
        },
        "id": "fphhrK4-YHp6",
        "outputId": "7509bcf1-dce1-4228-8812-f7e354cc8db4"
      },
      "id": "fphhrK4-YHp6",
      "execution_count": null,
      "outputs": [
        {
          "output_type": "stream",
          "name": "stdout",
          "text": [
            "(array([  2,  96, 113, 181, 210]),)\n"
          ]
        }
      ]
    },
    {
      "cell_type": "markdown",
      "source": [
        "Z- Score is also called a standard score. This value/score helps to understand that how far is the data point from the mean. And after setting up a threshold value one can utilize z score values of data points to define the outliers."
      ],
      "metadata": {
        "id": "dnxvTNhgBSTv"
      },
      "id": "dnxvTNhgBSTv"
    },
    {
      "cell_type": "code",
      "source": [
        "z = np.abs(stats.zscore(df['Fare Amount']))\n",
        "print(z)"
      ],
      "metadata": {
        "colab": {
          "base_uri": "https://localhost:8080/"
        },
        "id": "9T7MRKALBJp8",
        "outputId": "e977b393-a3cb-4e8a-a15b-8d8adb89b65c"
      },
      "id": "9T7MRKALBJp8",
      "execution_count": null,
      "outputs": [
        {
          "output_type": "stream",
          "name": "stdout",
          "text": [
            "[0.37520209 1.45185325 3.42799532 0.28753831 0.40660777 1.37052059\n",
            " 1.3045992  0.37692371 1.3045992  1.3045992  0.70144908 0.70869654\n",
            " 0.70869654 0.71594401 0.78761338 1.3045992  0.76023407 0.50404591\n",
            " 1.3045992  0.41466051 0.33654894 0.58054692 0.4734455  0.33332785\n",
            " 0.46056112 0.67154287 1.3045992  1.3045992  1.3045992  1.41239483\n",
            " 1.3045992  1.3045992  0.26568484 1.43413722 0.35829134 1.09672747\n",
            " 1.24248204 1.3045992  0.17952054 0.28984306 1.3045992  0.91554085\n",
            " 0.633695   1.3045992  0.86883497 2.00749222 1.3045992  0.89379846\n",
            " 1.91408045 1.3045992  1.13618589 1.13377007 1.3045992  0.68040088\n",
            " 0.64185881 1.3045992  1.3045992  0.42754489 1.3045992  0.42512907\n",
            " 0.51370919 0.51209864 0.313196   1.3045992  0.31158545 0.42512907\n",
            " 0.51693029 0.57179998 0.32930148 0.37922846 0.73918588 0.85756113\n",
            " 0.37037044 0.26901701 0.51140444 0.68362198 0.64266408 0.42271324\n",
            " 0.83903984 1.58552871 0.44284509 1.3045992  1.3045992  0.88252462\n",
            " 1.3045992  1.3045992  1.3045992  1.2529506  0.03951396 0.06678219\n",
            " 1.3045992  0.58146327 1.2714719  1.50419605 1.74980458 1.42447394\n",
            " 2.8031028  0.09899315 1.3045992  1.3045992  0.24324824 0.13614682\n",
            " 1.3045992  0.70789127 1.3045992  1.3045992  0.22461587 0.1707736\n",
            " 2.39966059 1.3045992  0.78600283 0.69098052 0.71594401 2.88201964\n",
            " 0.04987144 1.37052059 0.19562601 0.66923812 0.63944299 0.30514326\n",
            " 0.25924265 0.27695867 0.22864224 0.14489376 0.68292778 0.68373305\n",
            " 0.27212703 0.25280046 0.03709813 0.74573914 0.27695867 0.29225888\n",
            " 0.26487957 1.3045992  0.28823251 0.26487957 0.73285476 0.71755455\n",
            " 0.61850587 0.71663821 0.21736841 0.03859761 0.42926651 0.32366456\n",
            " 0.74573914 0.24313717 0.02249213 0.73929695 0.71835983 0.19734763\n",
            " 0.26165847 0.77392372 0.73527058 0.4211027  0.3099749  0.29547997\n",
            " 0.36473353 0.72388567 1.3045992  0.20620565 0.01927104 0.43237653\n",
            " 0.1675525  0.73849167 0.2231164  0.06528272 0.33735421 0.6853436\n",
            " 0.31641709 0.49932533 0.33252257 0.69500688 0.77311845 0.21425839\n",
            " 0.20701092 1.66686137 0.08541457 0.29881214 0.48966205 0.22220005\n",
            " 0.20045766 6.3777135  1.67813521 0.40741304 0.29720159 0.8309871\n",
            " 0.32044346 0.03951396 0.21023202 0.4695302  0.76173354 0.03387704\n",
            " 1.00170516 0.66199066 0.28581669 0.54925231 0.14408849 1.3045992\n",
            " 0.67084867 0.55558343 0.19332126 1.79651046 0.37048152 0.69259106\n",
            " 0.39141864 0.69017524 0.34862805 2.16613117 0.67245922 2.29336444\n",
            " 3.76057343 1.3045992  1.3045992  0.67406976 0.66923812 0.4211027\n",
            " 1.3045992  1.48889585 0.33021782 0.21656313 0.37359154 1.3045992\n",
            " 1.3045992  1.3045992  1.3045992  1.75302568 0.43559763 0.67245922\n",
            " 1.54687557 1.27871937 0.87286134 0.73274368 0.98248966 1.57264433\n",
            " 0.54511487 0.6636012  0.57007836 0.81338214 1.38179442 1.3045992\n",
            " 0.7416017  1.40917373 1.3045992  1.3045992  0.75701297 0.95499927\n",
            " 0.26579591 1.3045992  1.3045992  1.3045992  1.3045992  1.37374168\n",
            " 1.08303782 0.14419956 0.01616101 0.51773556 0.56122035 0.74401752\n",
            " 0.21264784 0.14500483 0.61920007 0.67245922 1.69182486 0.6304739\n",
            " 1.50097496 0.98248966 0.60873151 2.09929344 1.3045992  1.79328937\n",
            " 1.3045992  0.57663163 0.6636012  0.37278627 1.51305406 1.72242527\n",
            " 1.3045992  0.1497254  1.3045992  1.32784107 1.3045992  1.13699117\n",
            " 0.79474977 1.3045992  0.60551041 1.3045992  1.3045992  0.45734002\n",
            " 0.7409075  0.34379641 1.33992018 0.43157126 1.3045992  1.3045992\n",
            " 0.28270666 0.66440648 0.66440648 0.76978628 0.80521833 2.02681879\n",
            " 0.42846123 0.72641257 0.39705555 0.39855503 0.6636012  1.28677211\n",
            " 0.74482279 0.67004339 0.39383446 0.6636012  0.38095008 0.80682888\n",
            " 1.3045992  0.66521175 0.6636012  0.66521175 1.3045992  2.20961596\n",
            " 1.3045992  1.00009461 1.49211694 1.3045992  0.66521175 1.79167882\n",
            " 1.71598308 0.63208445 1.09753275 0.66521175 0.6636012  0.66440648\n",
            " 1.57747597 0.89299318 0.66440648 0.66440648 0.66521175 0.31883292\n",
            " 1.3045992  0.98248966 0.99445769 0.64910627 0.66118538 0.6636012\n",
            " 0.6636012  0.66440648 0.66440648 1.45668489 1.274693   0.66440648\n",
            " 0.72963366 0.77956064 0.66521175 0.66440648 1.49614331 1.01378426\n",
            " 0.65474319 0.66440648 0.6636012  0.98248966 1.3045992  1.3045992\n",
            " 0.39383446 1.3045992  0.66279593 0.44687146 0.63852664 1.3045992\n",
            " 1.3045992  0.59354238 0.66187958 1.69424068 0.58871073 1.48084311\n",
            " 1.23523458 1.3045992  0.60562149 0.95822037 1.3045992  0.66440648\n",
            " 0.66440648 0.66279593 0.12073554 1.67008247 0.66440648 1.27952464\n",
            " 0.71100129 0.82132381 0.39463973 0.50565645 0.06275583 1.3045992\n",
            " 0.3648446  0.59032128 1.3045992  0.63139025 1.3045992  0.41316103\n",
            " 0.60401094 0.66521175 0.49610424 0.59756875 1.32784107 0.66440648\n",
            " 0.19734763 0.51451447 0.51945718 0.66440648 0.6636012  0.66440648\n",
            " 0.7409075  0.6450799  1.3045992  0.74654441 0.6636012  0.59434765\n",
            " 1.3045992  0.89218791 1.3045992  0.01213464 0.19251599 1.3045992\n",
            " 0.53395211 1.43816359 0.66521175 2.52689386 1.13860171 0.66440648\n",
            " 0.58629491 0.6636012  0.13292572 0.66440648 0.66440648 0.73677005\n",
            " 0.66440648 0.66440648 0.66440648 0.66440648 0.66521175 0.66440648\n",
            " 1.3045992  1.3045992  0.66440648 0.66521175 1.31334614 0.66440648\n",
            " 1.20785527 0.66440648 1.42930558 0.66521175 1.16034411 0.60642676\n",
            " 1.3045992  0.66521175 2.21605815 0.16019396 0.65141102 0.42754489\n",
            " 1.03230556 0.66440648 0.06125635 1.31576197 0.47838821 1.32300943\n",
            " 1.16598103 0.66521175 1.22959766 0.63058498 0.66440648 0.65060575\n",
            " 0.66521175 0.66440648 0.81004998 1.3045992  0.14661538 0.11107226\n",
            " 0.69731163 0.6707376  0.75045971 0.69489581 0.69086944 0.72227512\n",
            " 0.62886336 0.6304739  0.71019602 0.76253882 0.64738465 0.72549622\n",
            " 0.69972746 0.78830758 0.62242116 0.76414937 0.72871732 0.72388567\n",
            " 1.3045992  0.75851245 0.71905403 1.3045992  0.58054692 0.57974165\n",
            " 0.54511487 0.62886336 1.01781063 0.59343131 0.62403171 0.65060575\n",
            " 0.07564021 0.61114733 0.74643334 0.65946376 1.3045992  0.93003578\n",
            " 1.3045992  1.3045992  0.89379846 0.25602155 0.19654236 0.63450027\n",
            " 1.3045992  0.54269905 0.37289734 0.45825637 0.64657938 0.69247999\n",
            " 0.73999115 1.3045992  1.3045992  0.57410473 0.56846782 0.57249418\n",
            " 0.61678425 1.3045992  1.662835   1.06612707 1.3045992  0.68120616\n",
            " 1.3045992  1.09753275 1.06532179 0.31641709 0.5065728  0.68845362\n",
            " 0.57824217 0.62816915 0.94130962 0.39694448 0.5781311  0.17560524\n",
            " 0.67326449 0.09185676 0.08380402 1.3045992  0.7409075 ]\n"
          ]
        }
      ]
    },
    {
      "cell_type": "code",
      "source": [
        "# Z Score Normalization\n",
        "z = np.abs(stats.zscore(df['Fare Amount']))\n",
        "threshold = 3\n",
        " \n",
        "# Position of the outlier\n",
        "outlier = np.where(z > threshold)\n",
        "print(outlier)"
      ],
      "metadata": {
        "colab": {
          "base_uri": "https://localhost:8080/"
        },
        "id": "Xrm70sGvBGWP",
        "outputId": "682ad7f5-33fa-4cb5-f719-807398875c27"
      },
      "id": "Xrm70sGvBGWP",
      "execution_count": null,
      "outputs": [
        {
          "output_type": "stream",
          "name": "stdout",
          "text": [
            "(array([  2, 181, 210]),)\n"
          ]
        }
      ]
    },
    {
      "cell_type": "code",
      "source": [
        "df.shape"
      ],
      "metadata": {
        "colab": {
          "base_uri": "https://localhost:8080/"
        },
        "id": "v7e7gdisFGWL",
        "outputId": "b752c81e-cc1d-4e14-e460-13d5d6d07cf3"
      },
      "id": "v7e7gdisFGWL",
      "execution_count": null,
      "outputs": [
        {
          "output_type": "execute_result",
          "data": {
            "text/plain": [
              "(551, 16)"
            ]
          },
          "metadata": {},
          "execution_count": 160
        }
      ]
    },
    {
      "cell_type": "markdown",
      "source": [
        "IQR (Inter Quartile Range) Inter Quartile Range approach to finding the outliers is the most commonly used and most trusted approach used in the research field."
      ],
      "metadata": {
        "id": "lF6YpVy2CQOG"
      },
      "id": "lF6YpVy2CQOG"
    },
    {
      "cell_type": "code",
      "source": [
        "# IQR\n",
        "Q1 = np.percentile(df['Fare Amount'], 25,\n",
        "\t\t\t\tinterpolation = 'midpoint')\n",
        "\n",
        "Q3 = np.percentile(df['Fare Amount'], 75,\n",
        "\t\t\t\tinterpolation = 'midpoint')\n",
        "IQR = Q3 - Q1\n",
        "IQR"
      ],
      "metadata": {
        "colab": {
          "base_uri": "https://localhost:8080/"
        },
        "id": "-urzmLovCS54",
        "outputId": "e17e3ecc-882a-4210-9312-85413c763fdc"
      },
      "id": "-urzmLovCS54",
      "execution_count": null,
      "outputs": [
        {
          "output_type": "execute_result",
          "data": {
            "text/plain": [
              "16.735"
            ]
          },
          "metadata": {},
          "execution_count": 161
        }
      ]
    },
    {
      "cell_type": "code",
      "source": [
        "upper = Q3 +1.5*IQR\n",
        "\n",
        "lower = Q1 - 1.5*IQR"
      ],
      "metadata": {
        "id": "Kg5vVzm1Cgr_"
      },
      "id": "Kg5vVzm1Cgr_",
      "execution_count": null,
      "outputs": []
    },
    {
      "cell_type": "code",
      "source": [
        "# Above Upper bound\n",
        "upper = df['Fare Amount'] >= (Q3+1.5*IQR)\n",
        "\n",
        "print(\"Upper bound:\",upper)\n",
        "print(np.where(upper))\n",
        "\n",
        "# Below Lower bound\n",
        "lower = df['Fare Amount'] <= (Q1-1.5*IQR)\n",
        "print(\"Lower bound:\", lower)\n",
        "print(np.where(lower))\n"
      ],
      "metadata": {
        "colab": {
          "base_uri": "https://localhost:8080/"
        },
        "id": "BkIDz2hhCmDv",
        "outputId": "5eb65732-233b-4b6e-cc47-1f27f05ec522"
      },
      "id": "BkIDz2hhCmDv",
      "execution_count": null,
      "outputs": [
        {
          "output_type": "stream",
          "name": "stdout",
          "text": [
            "Upper bound: 1      False\n",
            "2      False\n",
            "3       True\n",
            "4      False\n",
            "5      False\n",
            "       ...  \n",
            "549    False\n",
            "550    False\n",
            "551    False\n",
            "552    False\n",
            "553    False\n",
            "Name: Fare Amount, Length: 551, dtype: bool\n",
            "(array([  2,  96, 113, 181, 210]),)\n",
            "Lower bound: 1      False\n",
            "2      False\n",
            "3      False\n",
            "4      False\n",
            "5      False\n",
            "       ...  \n",
            "549    False\n",
            "550    False\n",
            "551    False\n",
            "552    False\n",
            "553    False\n",
            "Name: Fare Amount, Length: 551, dtype: bool\n",
            "(array([], dtype=int64),)\n"
          ]
        }
      ]
    },
    {
      "cell_type": "code",
      "source": [
        "df.drop([3,98,115,184,213], axis=0, inplace=True)"
      ],
      "metadata": {
        "id": "gOl0sg7xFipC"
      },
      "id": "gOl0sg7xFipC",
      "execution_count": null,
      "outputs": []
    },
    {
      "cell_type": "code",
      "source": [
        "df.shape"
      ],
      "metadata": {
        "colab": {
          "base_uri": "https://localhost:8080/"
        },
        "id": "12wN289vFv76",
        "outputId": "d5589e3b-a24f-4bfd-b340-daa7a203da36"
      },
      "id": "12wN289vFv76",
      "execution_count": null,
      "outputs": [
        {
          "output_type": "execute_result",
          "data": {
            "text/plain": [
              "(546, 16)"
            ]
          },
          "metadata": {},
          "execution_count": 165
        }
      ]
    },
    {
      "cell_type": "code",
      "source": [
        "df.head()"
      ],
      "metadata": {
        "colab": {
          "base_uri": "https://localhost:8080/",
          "height": 669
        },
        "id": "US3fOUS6i8K6",
        "outputId": "5f15dc7e-de44-45ba-af60-b86050bf9814"
      },
      "id": "US3fOUS6i8K6",
      "execution_count": null,
      "outputs": [
        {
          "output_type": "execute_result",
          "data": {
            "text/plain": [
              "   City  Product Type  Trip or Order Status                   Request Time  \\\n",
              "1   458             8                     1  2021-01-13 20:21:05 +0000 UTC   \n",
              "2   458             8                     1  2021-01-03 00:23:22 +0000 UTC   \n",
              "4   458             8                     1  2020-12-11 00:35:46 +0000 UTC   \n",
              "5   458             8                     1  2020-12-10 11:42:15 +0000 UTC   \n",
              "7   458             7                     1  2020-12-07 23:48:41 +0000 UTC   \n",
              "\n",
              "                 Begin Trip Time  Begin Trip Lat  Begin Trip Lng  \\\n",
              "1  2021-01-13 20:27:29 +0000 UTC      -23.559298      -46.666454   \n",
              "2  2021-01-03 00:33:00 +0000 UTC      -23.626593      -46.659410   \n",
              "4  2020-12-11 00:46:46 +0000 UTC      -23.584846      -46.663590   \n",
              "5  2020-12-10 11:46:20 +0000 UTC      -23.559372      -46.666473   \n",
              "7  2020-12-07 23:57:30 +0000 UTC      -23.627161      -46.664190   \n",
              "\n",
              "                    Dropoff Time  Dropoff Lat  Dropoff Lng  Distance (miles)  \\\n",
              "1  2021-01-13 20:54:50 +0000 UTC   -23.599585   -46.715717              5.31   \n",
              "2  2021-01-03 00:50:56 +0000 UTC   -23.559273   -46.666595              5.90   \n",
              "4  2020-12-11 00:57:57 +0000 UTC   -23.559261   -46.666510              2.54   \n",
              "5  2020-12-10 12:06:15 +0000 UTC   -23.624500   -46.701077              6.17   \n",
              "7  2020-12-08 00:18:11 +0000 UTC   -23.559366   -46.666637              6.71   \n",
              "\n",
              "   Fare Amount        Date      Time           Date_Time  month  \n",
              "1        20.86  2021-01-13  20:27:29 2021-01-13 20:27:29      1  \n",
              "2        34.23  2021-01-03  00:33:00 2021-01-03 00:33:00      1  \n",
              "4        12.63  2020-12-11  00:46:46 2020-12-11 00:46:46     12  \n",
              "5        21.25  2020-12-10  11:46:20 2020-12-10 11:46:20     12  \n",
              "7        33.22  2020-12-07  23:57:30 2020-12-07 23:57:30     12  "
            ],
            "text/html": [
              "\n",
              "  <div id=\"df-e10c4054-a75d-4428-ae09-862150fb03ca\">\n",
              "    <div class=\"colab-df-container\">\n",
              "      <div>\n",
              "<style scoped>\n",
              "    .dataframe tbody tr th:only-of-type {\n",
              "        vertical-align: middle;\n",
              "    }\n",
              "\n",
              "    .dataframe tbody tr th {\n",
              "        vertical-align: top;\n",
              "    }\n",
              "\n",
              "    .dataframe thead th {\n",
              "        text-align: right;\n",
              "    }\n",
              "</style>\n",
              "<table border=\"1\" class=\"dataframe\">\n",
              "  <thead>\n",
              "    <tr style=\"text-align: right;\">\n",
              "      <th></th>\n",
              "      <th>City</th>\n",
              "      <th>Product Type</th>\n",
              "      <th>Trip or Order Status</th>\n",
              "      <th>Request Time</th>\n",
              "      <th>Begin Trip Time</th>\n",
              "      <th>Begin Trip Lat</th>\n",
              "      <th>Begin Trip Lng</th>\n",
              "      <th>Dropoff Time</th>\n",
              "      <th>Dropoff Lat</th>\n",
              "      <th>Dropoff Lng</th>\n",
              "      <th>Distance (miles)</th>\n",
              "      <th>Fare Amount</th>\n",
              "      <th>Date</th>\n",
              "      <th>Time</th>\n",
              "      <th>Date_Time</th>\n",
              "      <th>month</th>\n",
              "    </tr>\n",
              "  </thead>\n",
              "  <tbody>\n",
              "    <tr>\n",
              "      <th>1</th>\n",
              "      <td>458</td>\n",
              "      <td>8</td>\n",
              "      <td>1</td>\n",
              "      <td>2021-01-13 20:21:05 +0000 UTC</td>\n",
              "      <td>2021-01-13 20:27:29 +0000 UTC</td>\n",
              "      <td>-23.559298</td>\n",
              "      <td>-46.666454</td>\n",
              "      <td>2021-01-13 20:54:50 +0000 UTC</td>\n",
              "      <td>-23.599585</td>\n",
              "      <td>-46.715717</td>\n",
              "      <td>5.31</td>\n",
              "      <td>20.86</td>\n",
              "      <td>2021-01-13</td>\n",
              "      <td>20:27:29</td>\n",
              "      <td>2021-01-13 20:27:29</td>\n",
              "      <td>1</td>\n",
              "    </tr>\n",
              "    <tr>\n",
              "      <th>2</th>\n",
              "      <td>458</td>\n",
              "      <td>8</td>\n",
              "      <td>1</td>\n",
              "      <td>2021-01-03 00:23:22 +0000 UTC</td>\n",
              "      <td>2021-01-03 00:33:00 +0000 UTC</td>\n",
              "      <td>-23.626593</td>\n",
              "      <td>-46.659410</td>\n",
              "      <td>2021-01-03 00:50:56 +0000 UTC</td>\n",
              "      <td>-23.559273</td>\n",
              "      <td>-46.666595</td>\n",
              "      <td>5.90</td>\n",
              "      <td>34.23</td>\n",
              "      <td>2021-01-03</td>\n",
              "      <td>00:33:00</td>\n",
              "      <td>2021-01-03 00:33:00</td>\n",
              "      <td>1</td>\n",
              "    </tr>\n",
              "    <tr>\n",
              "      <th>4</th>\n",
              "      <td>458</td>\n",
              "      <td>8</td>\n",
              "      <td>1</td>\n",
              "      <td>2020-12-11 00:35:46 +0000 UTC</td>\n",
              "      <td>2020-12-11 00:46:46 +0000 UTC</td>\n",
              "      <td>-23.584846</td>\n",
              "      <td>-46.663590</td>\n",
              "      <td>2020-12-11 00:57:57 +0000 UTC</td>\n",
              "      <td>-23.559261</td>\n",
              "      <td>-46.666510</td>\n",
              "      <td>2.54</td>\n",
              "      <td>12.63</td>\n",
              "      <td>2020-12-11</td>\n",
              "      <td>00:46:46</td>\n",
              "      <td>2020-12-11 00:46:46</td>\n",
              "      <td>12</td>\n",
              "    </tr>\n",
              "    <tr>\n",
              "      <th>5</th>\n",
              "      <td>458</td>\n",
              "      <td>8</td>\n",
              "      <td>1</td>\n",
              "      <td>2020-12-10 11:42:15 +0000 UTC</td>\n",
              "      <td>2020-12-10 11:46:20 +0000 UTC</td>\n",
              "      <td>-23.559372</td>\n",
              "      <td>-46.666473</td>\n",
              "      <td>2020-12-10 12:06:15 +0000 UTC</td>\n",
              "      <td>-23.624500</td>\n",
              "      <td>-46.701077</td>\n",
              "      <td>6.17</td>\n",
              "      <td>21.25</td>\n",
              "      <td>2020-12-10</td>\n",
              "      <td>11:46:20</td>\n",
              "      <td>2020-12-10 11:46:20</td>\n",
              "      <td>12</td>\n",
              "    </tr>\n",
              "    <tr>\n",
              "      <th>7</th>\n",
              "      <td>458</td>\n",
              "      <td>7</td>\n",
              "      <td>1</td>\n",
              "      <td>2020-12-07 23:48:41 +0000 UTC</td>\n",
              "      <td>2020-12-07 23:57:30 +0000 UTC</td>\n",
              "      <td>-23.627161</td>\n",
              "      <td>-46.664190</td>\n",
              "      <td>2020-12-08 00:18:11 +0000 UTC</td>\n",
              "      <td>-23.559366</td>\n",
              "      <td>-46.666637</td>\n",
              "      <td>6.71</td>\n",
              "      <td>33.22</td>\n",
              "      <td>2020-12-07</td>\n",
              "      <td>23:57:30</td>\n",
              "      <td>2020-12-07 23:57:30</td>\n",
              "      <td>12</td>\n",
              "    </tr>\n",
              "  </tbody>\n",
              "</table>\n",
              "</div>\n",
              "      <button class=\"colab-df-convert\" onclick=\"convertToInteractive('df-e10c4054-a75d-4428-ae09-862150fb03ca')\"\n",
              "              title=\"Convert this dataframe to an interactive table.\"\n",
              "              style=\"display:none;\">\n",
              "        \n",
              "  <svg xmlns=\"http://www.w3.org/2000/svg\" height=\"24px\"viewBox=\"0 0 24 24\"\n",
              "       width=\"24px\">\n",
              "    <path d=\"M0 0h24v24H0V0z\" fill=\"none\"/>\n",
              "    <path d=\"M18.56 5.44l.94 2.06.94-2.06 2.06-.94-2.06-.94-.94-2.06-.94 2.06-2.06.94zm-11 1L8.5 8.5l.94-2.06 2.06-.94-2.06-.94L8.5 2.5l-.94 2.06-2.06.94zm10 10l.94 2.06.94-2.06 2.06-.94-2.06-.94-.94-2.06-.94 2.06-2.06.94z\"/><path d=\"M17.41 7.96l-1.37-1.37c-.4-.4-.92-.59-1.43-.59-.52 0-1.04.2-1.43.59L10.3 9.45l-7.72 7.72c-.78.78-.78 2.05 0 2.83L4 21.41c.39.39.9.59 1.41.59.51 0 1.02-.2 1.41-.59l7.78-7.78 2.81-2.81c.8-.78.8-2.07 0-2.86zM5.41 20L4 18.59l7.72-7.72 1.47 1.35L5.41 20z\"/>\n",
              "  </svg>\n",
              "      </button>\n",
              "      \n",
              "  <style>\n",
              "    .colab-df-container {\n",
              "      display:flex;\n",
              "      flex-wrap:wrap;\n",
              "      gap: 12px;\n",
              "    }\n",
              "\n",
              "    .colab-df-convert {\n",
              "      background-color: #E8F0FE;\n",
              "      border: none;\n",
              "      border-radius: 50%;\n",
              "      cursor: pointer;\n",
              "      display: none;\n",
              "      fill: #1967D2;\n",
              "      height: 32px;\n",
              "      padding: 0 0 0 0;\n",
              "      width: 32px;\n",
              "    }\n",
              "\n",
              "    .colab-df-convert:hover {\n",
              "      background-color: #E2EBFA;\n",
              "      box-shadow: 0px 1px 2px rgba(60, 64, 67, 0.3), 0px 1px 3px 1px rgba(60, 64, 67, 0.15);\n",
              "      fill: #174EA6;\n",
              "    }\n",
              "\n",
              "    [theme=dark] .colab-df-convert {\n",
              "      background-color: #3B4455;\n",
              "      fill: #D2E3FC;\n",
              "    }\n",
              "\n",
              "    [theme=dark] .colab-df-convert:hover {\n",
              "      background-color: #434B5C;\n",
              "      box-shadow: 0px 1px 3px 1px rgba(0, 0, 0, 0.15);\n",
              "      filter: drop-shadow(0px 1px 2px rgba(0, 0, 0, 0.3));\n",
              "      fill: #FFFFFF;\n",
              "    }\n",
              "  </style>\n",
              "\n",
              "      <script>\n",
              "        const buttonEl =\n",
              "          document.querySelector('#df-e10c4054-a75d-4428-ae09-862150fb03ca button.colab-df-convert');\n",
              "        buttonEl.style.display =\n",
              "          google.colab.kernel.accessAllowed ? 'block' : 'none';\n",
              "\n",
              "        async function convertToInteractive(key) {\n",
              "          const element = document.querySelector('#df-e10c4054-a75d-4428-ae09-862150fb03ca');\n",
              "          const dataTable =\n",
              "            await google.colab.kernel.invokeFunction('convertToInteractive',\n",
              "                                                     [key], {});\n",
              "          if (!dataTable) return;\n",
              "\n",
              "          const docLinkHtml = 'Like what you see? Visit the ' +\n",
              "            '<a target=\"_blank\" href=https://colab.research.google.com/notebooks/data_table.ipynb>data table notebook</a>'\n",
              "            + ' to learn more about interactive tables.';\n",
              "          element.innerHTML = '';\n",
              "          dataTable['output_type'] = 'display_data';\n",
              "          await google.colab.output.renderOutput(dataTable, element);\n",
              "          const docLink = document.createElement('div');\n",
              "          docLink.innerHTML = docLinkHtml;\n",
              "          element.appendChild(docLink);\n",
              "        }\n",
              "      </script>\n",
              "    </div>\n",
              "  </div>\n",
              "  "
            ]
          },
          "metadata": {},
          "execution_count": 166
        }
      ]
    },
    {
      "cell_type": "code",
      "source": [
        "pd.unique(df[\"City\"]),pd.unique(df[\"Trip or Order Status\"])"
      ],
      "metadata": {
        "colab": {
          "base_uri": "https://localhost:8080/"
        },
        "id": "GRAwIMivkyL7",
        "outputId": "4fae79aa-bdac-4eb2-c86a-e61211c01f5a"
      },
      "id": "GRAwIMivkyL7",
      "execution_count": null,
      "outputs": [
        {
          "output_type": "execute_result",
          "data": {
            "text/plain": [
              "(array([ 458, 1449,  296]), array([1, 0, 2, 3]))"
            ]
          },
          "metadata": {},
          "execution_count": 167
        }
      ]
    },
    {
      "cell_type": "code",
      "source": [
        "x = pd.unique(df[\"City\"])\n",
        "labels = ['458','1449','296']\n",
        "colors = ['tab:blue', 'tab:cyan', 'tab:gray']\n",
        "\n",
        "fig, ax = plt.subplots()\n",
        "ax.pie(x, labels = labels, colors = colors, autopct='%.0f%%')\n",
        "ax.set_title('Unique city')\n",
        "plt.show()"
      ],
      "metadata": {
        "colab": {
          "base_uri": "https://localhost:8080/",
          "height": 264
        },
        "id": "9bybdvpQL35t",
        "outputId": "aabbfacf-cabd-4043-b4e4-ead5cbf44364"
      },
      "id": "9bybdvpQL35t",
      "execution_count": null,
      "outputs": [
        {
          "output_type": "display_data",
          "data": {
            "text/plain": [
              "<Figure size 432x288 with 1 Axes>"
            ],
            "image/png": "[encoded data removed]"
          },
          "metadata": {}
        }
      ]
    },
    {
      "cell_type": "code",
      "source": [
        "df.corr(method= \"pearson\")"
      ],
      "metadata": {
        "colab": {
          "base_uri": "https://localhost:8080/",
          "height": 459
        },
        "id": "HIC8xfmLsGMq",
        "outputId": "3b4bdba0-d4e8-49bb-8e26-09938e38c028"
      },
      "id": "HIC8xfmLsGMq",
      "execution_count": null,
      "outputs": [
        {
          "output_type": "execute_result",
          "data": {
            "text/plain": [
              "                          City  Product Type  Trip or Order Status  \\\n",
              "City                  1.000000      0.148665              0.105019   \n",
              "Product Type          0.148665      1.000000              0.197434   \n",
              "Trip or Order Status  0.105019      0.197434              1.000000   \n",
              "Begin Trip Lat       -0.436053      0.038252              0.023668   \n",
              "Begin Trip Lng        0.231157      0.118592              0.002095   \n",
              "Dropoff Lat          -0.415538      0.156612             -0.000870   \n",
              "Dropoff Lng           0.229809      0.085699              0.009309   \n",
              "Distance (miles)     -0.086688     -0.143179              0.331780   \n",
              "Fare Amount          -0.090487     -0.026650              0.422894   \n",
              "month                 0.022418      0.111524              0.336494   \n",
              "\n",
              "                      Begin Trip Lat  Begin Trip Lng  Dropoff Lat  \\\n",
              "City                       -0.436053        0.231157    -0.415538   \n",
              "Product Type                0.038252        0.118592     0.156612   \n",
              "Trip or Order Status        0.023668        0.002095    -0.000870   \n",
              "Begin Trip Lat              1.000000        0.501481     0.828064   \n",
              "Begin Trip Lng              0.501481        1.000000     0.516048   \n",
              "Dropoff Lat                 0.828064        0.516048     1.000000   \n",
              "Dropoff Lng                 0.480301        0.985719     0.482162   \n",
              "Distance (miles)           -0.052677       -0.028444    -0.160153   \n",
              "Fare Amount                -0.085201       -0.038505    -0.167849   \n",
              "month                       0.012435        0.076998     0.031867   \n",
              "\n",
              "                      Dropoff Lng  Distance (miles)  Fare Amount     month  \n",
              "City                     0.229809         -0.086688    -0.090487  0.022418  \n",
              "Product Type             0.085699         -0.143179    -0.026650  0.111524  \n",
              "Trip or Order Status     0.009309          0.331780     0.422894  0.336494  \n",
              "Begin Trip Lat           0.480301         -0.052677    -0.085201  0.012435  \n",
              "Begin Trip Lng           0.985719         -0.028444    -0.038505  0.076998  \n",
              "Dropoff Lat              0.482162         -0.160153    -0.167849  0.031867  \n",
              "Dropoff Lng              1.000000          0.002330    -0.009786  0.078381  \n",
              "Distance (miles)         0.002330          1.000000     0.875710  0.136153  \n",
              "Fare Amount             -0.009786          0.875710     1.000000  0.224243  \n",
              "month                    0.078381          0.136153     0.224243  1.000000  "
            ],
            "text/html": [
              "\n",
              "  <div id=\"df-9c2c3fcf-bad9-46cb-88dc-993f36168e92\">\n",
              "    <div class=\"colab-df-container\">\n",
              "      <div>\n",
              "<style scoped>\n",
              "    .dataframe tbody tr th:only-of-type {\n",
              "        vertical-align: middle;\n",
              "    }\n",
              "\n",
              "    .dataframe tbody tr th {\n",
              "        vertical-align: top;\n",
              "    }\n",
              "\n",
              "    .dataframe thead th {\n",
              "        text-align: right;\n",
              "    }\n",
              "</style>\n",
              "<table border=\"1\" class=\"dataframe\">\n",
              "  <thead>\n",
              "    <tr style=\"text-align: right;\">\n",
              "      <th></th>\n",
              "      <th>City</th>\n",
              "      <th>Product Type</th>\n",
              "      <th>Trip or Order Status</th>\n",
              "      <th>Begin Trip Lat</th>\n",
              "      <th>Begin Trip Lng</th>\n",
              "      <th>Dropoff Lat</th>\n",
              "      <th>Dropoff Lng</th>\n",
              "      <th>Distance (miles)</th>\n",
              "      <th>Fare Amount</th>\n",
              "      <th>month</th>\n",
              "    </tr>\n",
              "  </thead>\n",
              "  <tbody>\n",
              "    <tr>\n",
              "      <th>City</th>\n",
              "      <td>1.000000</td>\n",
              "      <td>0.148665</td>\n",
              "      <td>0.105019</td>\n",
              "      <td>-0.436053</td>\n",
              "      <td>0.231157</td>\n",
              "      <td>-0.415538</td>\n",
              "      <td>0.229809</td>\n",
              "      <td>-0.086688</td>\n",
              "      <td>-0.090487</td>\n",
              "      <td>0.022418</td>\n",
              "    </tr>\n",
              "    <tr>\n",
              "      <th>Product Type</th>\n",
              "      <td>0.148665</td>\n",
              "      <td>1.000000</td>\n",
              "      <td>0.197434</td>\n",
              "      <td>0.038252</td>\n",
              "      <td>0.118592</td>\n",
              "      <td>0.156612</td>\n",
              "      <td>0.085699</td>\n",
              "      <td>-0.143179</td>\n",
              "      <td>-0.026650</td>\n",
              "      <td>0.111524</td>\n",
              "    </tr>\n",
              "    <tr>\n",
              "      <th>Trip or Order Status</th>\n",
              "      <td>0.105019</td>\n",
              "      <td>0.197434</td>\n",
              "      <td>1.000000</td>\n",
              "      <td>0.023668</td>\n",
              "      <td>0.002095</td>\n",
              "      <td>-0.000870</td>\n",
              "      <td>0.009309</td>\n",
              "      <td>0.331780</td>\n",
              "      <td>0.422894</td>\n",
              "      <td>0.336494</td>\n",
              "    </tr>\n",
              "    <tr>\n",
              "      <th>Begin Trip Lat</th>\n",
              "      <td>-0.436053</td>\n",
              "      <td>0.038252</td>\n",
              "      <td>0.023668</td>\n",
              "      <td>1.000000</td>\n",
              "      <td>0.501481</td>\n",
              "      <td>0.828064</td>\n",
              "      <td>0.480301</td>\n",
              "      <td>-0.052677</td>\n",
              "      <td>-0.085201</td>\n",
              "      <td>0.012435</td>\n",
              "    </tr>\n",
              "    <tr>\n",
              "      <th>Begin Trip Lng</th>\n",
              "      <td>0.231157</td>\n",
              "      <td>0.118592</td>\n",
              "      <td>0.002095</td>\n",
              "      <td>0.501481</td>\n",
              "      <td>1.000000</td>\n",
              "      <td>0.516048</td>\n",
              "      <td>0.985719</td>\n",
              "      <td>-0.028444</td>\n",
              "      <td>-0.038505</td>\n",
              "      <td>0.076998</td>\n",
              "    </tr>\n",
              "    <tr>\n",
              "      <th>Dropoff Lat</th>\n",
              "      <td>-0.415538</td>\n",
              "      <td>0.156612</td>\n",
              "      <td>-0.000870</td>\n",
              "      <td>0.828064</td>\n",
              "      <td>0.516048</td>\n",
              "      <td>1.000000</td>\n",
              "      <td>0.482162</td>\n",
              "      <td>-0.160153</td>\n",
              "      <td>-0.167849</td>\n",
              "      <td>0.031867</td>\n",
              "    </tr>\n",
              "    <tr>\n",
              "      <th>Dropoff Lng</th>\n",
              "      <td>0.229809</td>\n",
              "      <td>0.085699</td>\n",
              "      <td>0.009309</td>\n",
              "      <td>0.480301</td>\n",
              "      <td>0.985719</td>\n",
              "      <td>0.482162</td>\n",
              "      <td>1.000000</td>\n",
              "      <td>0.002330</td>\n",
              "      <td>-0.009786</td>\n",
              "      <td>0.078381</td>\n",
              "    </tr>\n",
              "    <tr>\n",
              "      <th>Distance (miles)</th>\n",
              "      <td>-0.086688</td>\n",
              "      <td>-0.143179</td>\n",
              "      <td>0.331780</td>\n",
              "      <td>-0.052677</td>\n",
              "      <td>-0.028444</td>\n",
              "      <td>-0.160153</td>\n",
              "      <td>0.002330</td>\n",
              "      <td>1.000000</td>\n",
              "      <td>0.875710</td>\n",
              "      <td>0.136153</td>\n",
              "    </tr>\n",
              "    <tr>\n",
              "      <th>Fare Amount</th>\n",
              "      <td>-0.090487</td>\n",
              "      <td>-0.026650</td>\n",
              "      <td>0.422894</td>\n",
              "      <td>-0.085201</td>\n",
              "      <td>-0.038505</td>\n",
              "      <td>-0.167849</td>\n",
              "      <td>-0.009786</td>\n",
              "      <td>0.875710</td>\n",
              "      <td>1.000000</td>\n",
              "      <td>0.224243</td>\n",
              "    </tr>\n",
              "    <tr>\n",
              "      <th>month</th>\n",
              "      <td>0.022418</td>\n",
              "      <td>0.111524</td>\n",
              "      <td>0.336494</td>\n",
              "      <td>0.012435</td>\n",
              "      <td>0.076998</td>\n",
              "      <td>0.031867</td>\n",
              "      <td>0.078381</td>\n",
              "      <td>0.136153</td>\n",
              "      <td>0.224243</td>\n",
              "      <td>1.000000</td>\n",
              "    </tr>\n",
              "  </tbody>\n",
              "</table>\n",
              "</div>\n",
              "      <button class=\"colab-df-convert\" onclick=\"convertToInteractive('df-9c2c3fcf-bad9-46cb-88dc-993f36168e92')\"\n",
              "              title=\"Convert this dataframe to an interactive table.\"\n",
              "              style=\"display:none;\">\n",
              "        \n",
              "  <svg xmlns=\"http://www.w3.org/2000/svg\" height=\"24px\"viewBox=\"0 0 24 24\"\n",
              "       width=\"24px\">\n",
              "    <path d=\"M0 0h24v24H0V0z\" fill=\"none\"/>\n",
              "    <path d=\"M18.56 5.44l.94 2.06.94-2.06 2.06-.94-2.06-.94-.94-2.06-.94 2.06-2.06.94zm-11 1L8.5 8.5l.94-2.06 2.06-.94-2.06-.94L8.5 2.5l-.94 2.06-2.06.94zm10 10l.94 2.06.94-2.06 2.06-.94-2.06-.94-.94-2.06-.94 2.06-2.06.94z\"/><path d=\"M17.41 7.96l-1.37-1.37c-.4-.4-.92-.59-1.43-.59-.52 0-1.04.2-1.43.59L10.3 9.45l-7.72 7.72c-.78.78-.78 2.05 0 2.83L4 21.41c.39.39.9.59 1.41.59.51 0 1.02-.2 1.41-.59l7.78-7.78 2.81-2.81c.8-.78.8-2.07 0-2.86zM5.41 20L4 18.59l7.72-7.72 1.47 1.35L5.41 20z\"/>\n",
              "  </svg>\n",
              "      </button>\n",
              "      \n",
              "  <style>\n",
              "    .colab-df-container {\n",
              "      display:flex;\n",
              "      flex-wrap:wrap;\n",
              "      gap: 12px;\n",
              "    }\n",
              "\n",
              "    .colab-df-convert {\n",
              "      background-color: #E8F0FE;\n",
              "      border: none;\n",
              "      border-radius: 50%;\n",
              "      cursor: pointer;\n",
              "      display: none;\n",
              "      fill: #1967D2;\n",
              "      height: 32px;\n",
              "      padding: 0 0 0 0;\n",
              "      width: 32px;\n",
              "    }\n",
              "\n",
              "    .colab-df-convert:hover {\n",
              "      background-color: #E2EBFA;\n",
              "      box-shadow: 0px 1px 2px rgba(60, 64, 67, 0.3), 0px 1px 3px 1px rgba(60, 64, 67, 0.15);\n",
              "      fill: #174EA6;\n",
              "    }\n",
              "\n",
              "    [theme=dark] .colab-df-convert {\n",
              "      background-color: #3B4455;\n",
              "      fill: #D2E3FC;\n",
              "    }\n",
              "\n",
              "    [theme=dark] .colab-df-convert:hover {\n",
              "      background-color: #434B5C;\n",
              "      box-shadow: 0px 1px 3px 1px rgba(0, 0, 0, 0.15);\n",
              "      filter: drop-shadow(0px 1px 2px rgba(0, 0, 0, 0.3));\n",
              "      fill: #FFFFFF;\n",
              "    }\n",
              "  </style>\n",
              "\n",
              "      <script>\n",
              "        const buttonEl =\n",
              "          document.querySelector('#df-9c2c3fcf-bad9-46cb-88dc-993f36168e92 button.colab-df-convert');\n",
              "        buttonEl.style.display =\n",
              "          google.colab.kernel.accessAllowed ? 'block' : 'none';\n",
              "\n",
              "        async function convertToInteractive(key) {\n",
              "          const element = document.querySelector('#df-9c2c3fcf-bad9-46cb-88dc-993f36168e92');\n",
              "          const dataTable =\n",
              "            await google.colab.kernel.invokeFunction('convertToInteractive',\n",
              "                                                     [key], {});\n",
              "          if (!dataTable) return;\n",
              "\n",
              "          const docLinkHtml = 'Like what you see? Visit the ' +\n",
              "            '<a target=\"_blank\" href=https://colab.research.google.com/notebooks/data_table.ipynb>data table notebook</a>'\n",
              "            + ' to learn more about interactive tables.';\n",
              "          element.innerHTML = '';\n",
              "          dataTable['output_type'] = 'display_data';\n",
              "          await google.colab.output.renderOutput(dataTable, element);\n",
              "          const docLink = document.createElement('div');\n",
              "          docLink.innerHTML = docLinkHtml;\n",
              "          element.appendChild(docLink);\n",
              "        }\n",
              "      </script>\n",
              "    </div>\n",
              "  </div>\n",
              "  "
            ]
          },
          "metadata": {},
          "execution_count": 169
        }
      ]
    },
    {
      "cell_type": "code",
      "source": [
        "fig, ax = plt.subplots(figsize=(10,10)) \n",
        "sns.heatmap(df.corr(), cmap=\"YlGnBu\", annot=True, linewidths=.5, ax=ax)        # Sample figsize in inches\n"
      ],
      "metadata": {
        "colab": {
          "base_uri": "https://localhost:8080/",
          "height": 701
        },
        "id": "ZT-4CsWntmMc",
        "outputId": "1bcb060e-416c-4ce9-bf03-f1d3a5e88d79"
      },
      "id": "ZT-4CsWntmMc",
      "execution_count": null,
      "outputs": [
        {
          "output_type": "execute_result",
          "data": {
            "text/plain": [
              "<matplotlib.axes._subplots.AxesSubplot at 0x7fb3b1907e90>"
            ]
          },
          "metadata": {},
          "execution_count": 170
        },
        {
          "output_type": "display_data",
          "data": {
            "text/plain": [
              "<Figure size 720x720 with 2 Axes>"
            ],
            "image/png": "[encoded data removed]"
          },
          "metadata": {
            "needs_background": "light"
          }
        }
      ]
    },
    {
      "cell_type": "markdown",
      "source": [
        "## Simple Linear Regression Model"
      ],
      "metadata": {
        "id": "ltysNoThyQjS"
      },
      "id": "ltysNoThyQjS"
    },
    {
      "cell_type": "code",
      "source": [
        "df_new = df[['Distance (miles)','Trip or Order Status', 'month']].copy()"
      ],
      "metadata": {
        "id": "bXO_-9iLxHxT"
      },
      "id": "bXO_-9iLxHxT",
      "execution_count": null,
      "outputs": []
    },
    {
      "cell_type": "code",
      "source": [
        "df_new.head()"
      ],
      "metadata": {
        "colab": {
          "base_uri": "https://localhost:8080/",
          "height": 206
        },
        "id": "D8ixKMB9xqqB",
        "outputId": "af60d115-e663-4a93-b279-1934f47afe8b"
      },
      "id": "D8ixKMB9xqqB",
      "execution_count": null,
      "outputs": [
        {
          "output_type": "execute_result",
          "data": {
            "text/plain": [
              "   Distance (miles)  Trip or Order Status  month\n",
              "1              5.31                     1      1\n",
              "2              5.90                     1      1\n",
              "4              2.54                     1     12\n",
              "5              6.17                     1     12\n",
              "7              6.71                     1     12"
            ],
            "text/html": [
              "\n",
              "  <div id=\"df-7e192c33-44ba-4c3d-bf57-2b5d3f62cea3\">\n",
              "    <div class=\"colab-df-container\">\n",
              "      <div>\n",
              "<style scoped>\n",
              "    .dataframe tbody tr th:only-of-type {\n",
              "        vertical-align: middle;\n",
              "    }\n",
              "\n",
              "    .dataframe tbody tr th {\n",
              "        vertical-align: top;\n",
              "    }\n",
              "\n",
              "    .dataframe thead th {\n",
              "        text-align: right;\n",
              "    }\n",
              "</style>\n",
              "<table border=\"1\" class=\"dataframe\">\n",
              "  <thead>\n",
              "    <tr style=\"text-align: right;\">\n",
              "      <th></th>\n",
              "      <th>Distance (miles)</th>\n",
              "      <th>Trip or Order Status</th>\n",
              "      <th>month</th>\n",
              "    </tr>\n",
              "  </thead>\n",
              "  <tbody>\n",
              "    <tr>\n",
              "      <th>1</th>\n",
              "      <td>5.31</td>\n",
              "      <td>1</td>\n",
              "      <td>1</td>\n",
              "    </tr>\n",
              "    <tr>\n",
              "      <th>2</th>\n",
              "      <td>5.90</td>\n",
              "      <td>1</td>\n",
              "      <td>1</td>\n",
              "    </tr>\n",
              "    <tr>\n",
              "      <th>4</th>\n",
              "      <td>2.54</td>\n",
              "      <td>1</td>\n",
              "      <td>12</td>\n",
              "    </tr>\n",
              "    <tr>\n",
              "      <th>5</th>\n",
              "      <td>6.17</td>\n",
              "      <td>1</td>\n",
              "      <td>12</td>\n",
              "    </tr>\n",
              "    <tr>\n",
              "      <th>7</th>\n",
              "      <td>6.71</td>\n",
              "      <td>1</td>\n",
              "      <td>12</td>\n",
              "    </tr>\n",
              "  </tbody>\n",
              "</table>\n",
              "</div>\n",
              "      <button class=\"colab-df-convert\" onclick=\"convertToInteractive('df-7e192c33-44ba-4c3d-bf57-2b5d3f62cea3')\"\n",
              "              title=\"Convert this dataframe to an interactive table.\"\n",
              "              style=\"display:none;\">\n",
              "        \n",
              "  <svg xmlns=\"http://www.w3.org/2000/svg\" height=\"24px\"viewBox=\"0 0 24 24\"\n",
              "       width=\"24px\">\n",
              "    <path d=\"M0 0h24v24H0V0z\" fill=\"none\"/>\n",
              "    <path d=\"M18.56 5.44l.94 2.06.94-2.06 2.06-.94-2.06-.94-.94-2.06-.94 2.06-2.06.94zm-11 1L8.5 8.5l.94-2.06 2.06-.94-2.06-.94L8.5 2.5l-.94 2.06-2.06.94zm10 10l.94 2.06.94-2.06 2.06-.94-2.06-.94-.94-2.06-.94 2.06-2.06.94z\"/><path d=\"M17.41 7.96l-1.37-1.37c-.4-.4-.92-.59-1.43-.59-.52 0-1.04.2-1.43.59L10.3 9.45l-7.72 7.72c-.78.78-.78 2.05 0 2.83L4 21.41c.39.39.9.59 1.41.59.51 0 1.02-.2 1.41-.59l7.78-7.78 2.81-2.81c.8-.78.8-2.07 0-2.86zM5.41 20L4 18.59l7.72-7.72 1.47 1.35L5.41 20z\"/>\n",
              "  </svg>\n",
              "      </button>\n",
              "      \n",
              "  <style>\n",
              "    .colab-df-container {\n",
              "      display:flex;\n",
              "      flex-wrap:wrap;\n",
              "      gap: 12px;\n",
              "    }\n",
              "\n",
              "    .colab-df-convert {\n",
              "      background-color: #E8F0FE;\n",
              "      border: none;\n",
              "      border-radius: 50%;\n",
              "      cursor: pointer;\n",
              "      display: none;\n",
              "      fill: #1967D2;\n",
              "      height: 32px;\n",
              "      padding: 0 0 0 0;\n",
              "      width: 32px;\n",
              "    }\n",
              "\n",
              "    .colab-df-convert:hover {\n",
              "      background-color: #E2EBFA;\n",
              "      box-shadow: 0px 1px 2px rgba(60, 64, 67, 0.3), 0px 1px 3px 1px rgba(60, 64, 67, 0.15);\n",
              "      fill: #174EA6;\n",
              "    }\n",
              "\n",
              "    [theme=dark] .colab-df-convert {\n",
              "      background-color: #3B4455;\n",
              "      fill: #D2E3FC;\n",
              "    }\n",
              "\n",
              "    [theme=dark] .colab-df-convert:hover {\n",
              "      background-color: #434B5C;\n",
              "      box-shadow: 0px 1px 3px 1px rgba(0, 0, 0, 0.15);\n",
              "      filter: drop-shadow(0px 1px 2px rgba(0, 0, 0, 0.3));\n",
              "      fill: #FFFFFF;\n",
              "    }\n",
              "  </style>\n",
              "\n",
              "      <script>\n",
              "        const buttonEl =\n",
              "          document.querySelector('#df-7e192c33-44ba-4c3d-bf57-2b5d3f62cea3 button.colab-df-convert');\n",
              "        buttonEl.style.display =\n",
              "          google.colab.kernel.accessAllowed ? 'block' : 'none';\n",
              "\n",
              "        async function convertToInteractive(key) {\n",
              "          const element = document.querySelector('#df-7e192c33-44ba-4c3d-bf57-2b5d3f62cea3');\n",
              "          const dataTable =\n",
              "            await google.colab.kernel.invokeFunction('convertToInteractive',\n",
              "                                                     [key], {});\n",
              "          if (!dataTable) return;\n",
              "\n",
              "          const docLinkHtml = 'Like what you see? Visit the ' +\n",
              "            '<a target=\"_blank\" href=https://colab.research.google.com/notebooks/data_table.ipynb>data table notebook</a>'\n",
              "            + ' to learn more about interactive tables.';\n",
              "          element.innerHTML = '';\n",
              "          dataTable['output_type'] = 'display_data';\n",
              "          await google.colab.output.renderOutput(dataTable, element);\n",
              "          const docLink = document.createElement('div');\n",
              "          docLink.innerHTML = docLinkHtml;\n",
              "          element.appendChild(docLink);\n",
              "        }\n",
              "      </script>\n",
              "    </div>\n",
              "  </div>\n",
              "  "
            ]
          },
          "metadata": {},
          "execution_count": 172
        }
      ]
    },
    {
      "cell_type": "code",
      "source": [
        "y = df['Fare Amount']"
      ],
      "metadata": {
        "id": "W3HQbfy9x4d9"
      },
      "id": "W3HQbfy9x4d9",
      "execution_count": null,
      "outputs": []
    },
    {
      "cell_type": "code",
      "source": [
        "from sklearn.linear_model import LinearRegression\n",
        "\n",
        "model = LinearRegression()"
      ],
      "metadata": {
        "id": "m1TqiNsGq0RV"
      },
      "id": "m1TqiNsGq0RV",
      "execution_count": null,
      "outputs": []
    },
    {
      "cell_type": "code",
      "source": [
        "history = model.fit(df_new,y)"
      ],
      "metadata": {
        "id": "78Np9Q76v-d_"
      },
      "id": "78Np9Q76v-d_",
      "execution_count": null,
      "outputs": []
    },
    {
      "cell_type": "code",
      "source": [
        "history.score(df_new,y)"
      ],
      "metadata": {
        "colab": {
          "base_uri": "https://localhost:8080/"
        },
        "id": "or1m8VVwwm6p",
        "outputId": "858730e6-a6b2-4293-9b5f-936eb062e321"
      },
      "id": "or1m8VVwwm6p",
      "execution_count": null,
      "outputs": [
        {
          "output_type": "execute_result",
          "data": {
            "text/plain": [
              "0.7908456577190438"
            ]
          },
          "metadata": {},
          "execution_count": 176
        }
      ]
    },
    {
      "cell_type": "markdown",
      "source": [
        "#ANN Model for Prediction\n",
        "\n",
        "1.   List item\n",
        "2.   List item\n",
        "\n"
      ],
      "metadata": {
        "id": "OQ8djrmByUgg"
      },
      "id": "OQ8djrmByUgg"
    },
    {
      "cell_type": "code",
      "source": [
        "df_new.shape"
      ],
      "metadata": {
        "colab": {
          "base_uri": "https://localhost:8080/"
        },
        "id": "OW_qcFHB4m0E",
        "outputId": "27480e2e-322c-4197-b949-e2ec60179b6a"
      },
      "id": "OW_qcFHB4m0E",
      "execution_count": null,
      "outputs": [
        {
          "output_type": "execute_result",
          "data": {
            "text/plain": [
              "(546, 3)"
            ]
          },
          "metadata": {},
          "execution_count": 177
        }
      ]
    },
    {
      "cell_type": "code",
      "source": [
        "from sklearn.model_selection import train_test_split\n",
        "X_train, X_test, Y_train, Y_test = train_test_split(df_new, y, test_size = 0.2, random_state = 0)"
      ],
      "metadata": {
        "id": "jF5JKcFKyFN0"
      },
      "id": "jF5JKcFKyFN0",
      "execution_count": null,
      "outputs": []
    },
    {
      "cell_type": "code",
      "source": [
        "from sklearn.preprocessing import MinMaxScaler\n",
        "scaler = MinMaxScaler()\n",
        "X_scaled = scaler.fit_transform(df_new)"
      ],
      "metadata": {
        "id": "WugNoMXv6doi"
      },
      "id": "WugNoMXv6doi",
      "execution_count": null,
      "outputs": []
    },
    {
      "cell_type": "code",
      "source": [
        "from sklearn.preprocessing import StandardScaler\n",
        "sc = StandardScaler()\n",
        "X_train = sc.fit_transform(X_train)\n",
        "X_test = sc.transform(X_test)"
      ],
      "metadata": {
        "id": "6Fim6Hlm0Qeq"
      },
      "id": "6Fim6Hlm0Qeq",
      "execution_count": null,
      "outputs": []
    },
    {
      "cell_type": "code",
      "source": [
        "y= y.values.reshape(-1,1)"
      ],
      "metadata": {
        "id": "HD29355b6qTd"
      },
      "id": "HD29355b6qTd",
      "execution_count": null,
      "outputs": []
    },
    {
      "cell_type": "code",
      "source": [
        "y_scaled = scaler.fit_transform(y)"
      ],
      "metadata": {
        "id": "K8dgD8dp6yG7"
      },
      "id": "K8dgD8dp6yG7",
      "execution_count": null,
      "outputs": []
    },
    {
      "cell_type": "code",
      "source": [
        "X_scaled.shape"
      ],
      "metadata": {
        "colab": {
          "base_uri": "https://localhost:8080/"
        },
        "id": "vRAga5NC684h",
        "outputId": "07b0e3fc-c8b5-4f0c-b433-ef8aa1ce15f7"
      },
      "id": "vRAga5NC684h",
      "execution_count": null,
      "outputs": [
        {
          "output_type": "execute_result",
          "data": {
            "text/plain": [
              "(546, 3)"
            ]
          },
          "metadata": {},
          "execution_count": 183
        }
      ]
    },
    {
      "cell_type": "code",
      "source": [
        "from sklearn.model_selection import train_test_split\n",
        "X_train, X_test, y_train, y_test = train_test_split(X_scaled, y_scaled, test_size= 0.25)"
      ],
      "metadata": {
        "id": "Y2PUzI1P7Mw1"
      },
      "id": "Y2PUzI1P7Mw1",
      "execution_count": null,
      "outputs": []
    },
    {
      "cell_type": "code",
      "source": [
        "X_train.shape"
      ],
      "metadata": {
        "colab": {
          "base_uri": "https://localhost:8080/"
        },
        "id": "kUpPjPgL2IV7",
        "outputId": "64c0b4c5-3b5b-4256-b26d-9969cd33efe3"
      },
      "id": "kUpPjPgL2IV7",
      "execution_count": null,
      "outputs": [
        {
          "output_type": "execute_result",
          "data": {
            "text/plain": [
              "(409, 3)"
            ]
          },
          "metadata": {},
          "execution_count": 185
        }
      ]
    },
    {
      "cell_type": "code",
      "source": [
        "y_test.shape"
      ],
      "metadata": {
        "colab": {
          "base_uri": "https://localhost:8080/"
        },
        "id": "WeXcuA4l7Ppa",
        "outputId": "a870923c-5b0f-4d01-d5a9-22a37cad8aeb"
      },
      "id": "WeXcuA4l7Ppa",
      "execution_count": null,
      "outputs": [
        {
          "output_type": "execute_result",
          "data": {
            "text/plain": [
              "(137, 1)"
            ]
          },
          "metadata": {},
          "execution_count": 186
        }
      ]
    },
    {
      "cell_type": "code",
      "source": [
        "import tensorflow.keras\n",
        "from keras.models import Sequential\n",
        "from keras.layers import Dense\n",
        "from sklearn.preprocessing import MinMaxScaler\n",
        "\n",
        "model = Sequential()\n",
        "model.add(Dense(25, input_dim=3, activation='relu'))\n",
        "model.add(Dense(25, activation='relu'))\n",
        "model.add(Dense(1, activation='linear'))\n",
        "model.summary()"
      ],
      "metadata": {
        "colab": {
          "base_uri": "https://localhost:8080/"
        },
        "id": "NPz3WTqK7gaI",
        "outputId": "a42fe588-2ae8-4afa-8f5c-45f09b298d64"
      },
      "id": "NPz3WTqK7gaI",
      "execution_count": null,
      "outputs": [
        {
          "output_type": "stream",
          "name": "stdout",
          "text": [
            "Model: \"sequential_4\"\n",
            "_________________________________________________________________\n",
            " Layer (type)                Output Shape              Param #   \n",
            "=================================================================\n",
            " dense_28 (Dense)            (None, 25)                100       \n",
            "                                                                 \n",
            " dense_29 (Dense)            (None, 25)                650       \n",
            "                                                                 \n",
            " dense_30 (Dense)            (None, 1)                 26        \n",
            "                                                                 \n",
            "=================================================================\n",
            "Total params: 776\n",
            "Trainable params: 776\n",
            "Non-trainable params: 0\n",
            "_________________________________________________________________\n"
          ]
        }
      ]
    },
    {
      "cell_type": "code",
      "source": [
        "model.compile(optimizer='adam', loss='mean_squared_error')\n"
      ],
      "metadata": {
        "id": "k1-vgSPq73vR"
      },
      "id": "k1-vgSPq73vR",
      "execution_count": null,
      "outputs": []
    },
    {
      "cell_type": "code",
      "source": [
        "epochs_hist = model.fit(X_train, y_train, epochs=20, batch_size=25,  verbose=1, validation_split=0.2)"
      ],
      "metadata": {
        "colab": {
          "base_uri": "https://localhost:8080/"
        },
        "id": "sB9nC-mZ8Th5",
        "outputId": "665de407-4d46-4bd7-8835-f955ea3ede18"
      },
      "id": "sB9nC-mZ8Th5",
      "execution_count": null,
      "outputs": [
        {
          "output_type": "stream",
          "name": "stdout",
          "text": [
            "Epoch 1/20\n",
            "14/14 [==============================] - 1s 13ms/step - loss: 0.2612 - val_loss: 0.1733\n",
            "Epoch 2/20\n",
            "14/14 [==============================] - 0s 6ms/step - loss: 0.0954 - val_loss: 0.0567\n",
            "Epoch 3/20\n",
            "14/14 [==============================] - 0s 5ms/step - loss: 0.0417 - val_loss: 0.0298\n",
            "Epoch 4/20\n",
            "14/14 [==============================] - 0s 4ms/step - loss: 0.0300 - val_loss: 0.0229\n",
            "Epoch 5/20\n",
            "14/14 [==============================] - 0s 4ms/step - loss: 0.0205 - val_loss: 0.0191\n",
            "Epoch 6/20\n",
            "14/14 [==============================] - 0s 5ms/step - loss: 0.0149 - val_loss: 0.0166\n",
            "Epoch 7/20\n",
            "14/14 [==============================] - 0s 4ms/step - loss: 0.0122 - val_loss: 0.0151\n",
            "Epoch 8/20\n",
            "14/14 [==============================] - 0s 4ms/step - loss: 0.0110 - val_loss: 0.0144\n",
            "Epoch 9/20\n",
            "14/14 [==============================] - 0s 4ms/step - loss: 0.0105 - val_loss: 0.0142\n",
            "Epoch 10/20\n",
            "14/14 [==============================] - 0s 6ms/step - loss: 0.0103 - val_loss: 0.0135\n",
            "Epoch 11/20\n",
            "14/14 [==============================] - 0s 6ms/step - loss: 0.0100 - val_loss: 0.0133\n",
            "Epoch 12/20\n",
            "14/14 [==============================] - 0s 4ms/step - loss: 0.0099 - val_loss: 0.0130\n",
            "Epoch 13/20\n",
            "14/14 [==============================] - 0s 7ms/step - loss: 0.0097 - val_loss: 0.0131\n",
            "Epoch 14/20\n",
            "14/14 [==============================] - 0s 5ms/step - loss: 0.0096 - val_loss: 0.0124\n",
            "Epoch 15/20\n",
            "14/14 [==============================] - 0s 5ms/step - loss: 0.0094 - val_loss: 0.0124\n",
            "Epoch 16/20\n",
            "14/14 [==============================] - 0s 5ms/step - loss: 0.0094 - val_loss: 0.0122\n",
            "Epoch 17/20\n",
            "14/14 [==============================] - 0s 7ms/step - loss: 0.0092 - val_loss: 0.0121\n",
            "Epoch 18/20\n",
            "14/14 [==============================] - 0s 6ms/step - loss: 0.0092 - val_loss: 0.0118\n",
            "Epoch 19/20\n",
            "14/14 [==============================] - 0s 5ms/step - loss: 0.0091 - val_loss: 0.0118\n",
            "Epoch 20/20\n",
            "14/14 [==============================] - 0s 5ms/step - loss: 0.0092 - val_loss: 0.0117\n"
          ]
        }
      ]
    },
    {
      "cell_type": "code",
      "source": [
        "print(epochs_hist.history.keys())"
      ],
      "metadata": {
        "colab": {
          "base_uri": "https://localhost:8080/"
        },
        "id": "XebHVvHO8Vx0",
        "outputId": "3eee8b3d-fd63-4bd8-d0ae-d463441e4993"
      },
      "id": "XebHVvHO8Vx0",
      "execution_count": null,
      "outputs": [
        {
          "output_type": "stream",
          "name": "stdout",
          "text": [
            "dict_keys(['loss', 'val_loss'])\n"
          ]
        }
      ]
    },
    {
      "cell_type": "code",
      "source": [
        "plt.plot(epochs_hist.history['loss'])\n",
        "plt.plot(epochs_hist.history['val_loss'])\n",
        "\n",
        "plt.title('Model Loss Progression During Training/Validation')\n",
        "plt.ylabel('Training and Validation Losses')\n",
        "plt.xlabel('Epoch Number')\n",
        "plt.legend(['Training Loss', 'Validation Loss'])"
      ],
      "metadata": {
        "colab": {
          "base_uri": "https://localhost:8080/",
          "height": 313
        },
        "id": "vuNPSJJ08okM",
        "outputId": "5fdba2ba-c7cc-4e94-df38-2b4d34bf313f"
      },
      "id": "vuNPSJJ08okM",
      "execution_count": null,
      "outputs": [
        {
          "output_type": "execute_result",
          "data": {
            "text/plain": [
              "<matplotlib.legend.Legend at 0x7fb332e80110>"
            ]
          },
          "metadata": {},
          "execution_count": 191
        },
        {
          "output_type": "display_data",
          "data": {
            "text/plain": [
              "<Figure size 432x288 with 1 Axes>"
            ],
            "image/png": "[encoded data removed]"
          },
          "metadata": {
            "needs_background": "light"
          }
        }
      ]
    },
    {
      "cell_type": "code",
      "source": [
        ""
      ],
      "metadata": {
        "id": "yJYdaL6I8sEh"
      },
      "id": "yJYdaL6I8sEh",
      "execution_count": null,
      "outputs": []
    }
  ],
  "metadata": {
    "kernelspec": {
      "display_name": "Python 3 (ipykernel)",
      "language": "python",
      "name": "python3"
    },
    "language_info": {
      "codemirror_mode": {
        "name": "ipython",
        "version": 3
      },
      "file_extension": ".py",
      "mimetype": "text/x-python",
      "name": "python",
      "nbconvert_exporter": "python",
      "pygments_lexer": "ipython3",
      "version": "3.9.7"
    },
    "colab": {
      "name": "uber_data Anylysis_Data_2_form.ipynb",
      "provenance": [],
      "collapsed_sections": []
    }
  },
  "nbformat": 4,
  "nbformat_minor": 5
}