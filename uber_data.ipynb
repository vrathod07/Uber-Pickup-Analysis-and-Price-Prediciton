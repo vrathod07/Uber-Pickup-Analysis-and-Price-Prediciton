{
  "metadata": {
    "kernelspec": {
      "language": "python",
      "display_name": "Python 3",
      "name": "python3"
    },
    "language_info": {
      "name": "python",
      "version": "3.7.12",
      "mimetype": "text/x-python",
      "codemirror_mode": {
        "name": "ipython",
        "version": 3
      },
      "pygments_lexer": "ipython3",
      "nbconvert_exporter": "python",
      "file_extension": ".py"
    },
    "colab": {
      "name": "uber_data.ipynb",
      "provenance": []
    }
  },
  "nbformat_minor": 0,
  "nbformat": 4,
  "cells": [
    {
      "cell_type": "code",
      "source": [
        "import pandas as pd\n",
        "import numpy as np\n",
        "import matplotlib.pyplot as plt\n",
        "import seaborn as sns\n",
        "import os"
      ],
      "metadata": {
        "execution": {
          "iopub.status.busy": "2022-05-03T05:42:17.93531Z",
          "iopub.execute_input": "2022-05-03T05:42:17.935736Z",
          "iopub.status.idle": "2022-05-03T05:42:19.242897Z",
          "shell.execute_reply.started": "2022-05-03T05:42:17.935701Z",
          "shell.execute_reply": "2022-05-03T05:42:19.241869Z"
        },
        "trusted": true,
        "id": "8vKk72HoATdL"
      },
      "execution_count": null,
      "outputs": []
    },
    {
      "cell_type": "code",
      "source": [
        "files=os.listdir(r'../input/uber-pickups-in-new-york-city')"
      ],
      "metadata": {
        "execution": {
          "iopub.status.busy": "2022-05-03T05:42:49.16633Z",
          "iopub.execute_input": "2022-05-03T05:42:49.167189Z",
          "iopub.status.idle": "2022-05-03T05:42:49.172744Z",
          "shell.execute_reply.started": "2022-05-03T05:42:49.167149Z",
          "shell.execute_reply": "2022-05-03T05:42:49.172026Z"
        },
        "trusted": true,
        "id": "_ccnrlcDATdM"
      },
      "execution_count": null,
      "outputs": []
    },
    {
      "cell_type": "code",
      "source": [
        "files"
      ],
      "metadata": {
        "execution": {
          "iopub.status.busy": "2022-05-03T05:42:49.615351Z",
          "iopub.execute_input": "2022-05-03T05:42:49.616573Z",
          "iopub.status.idle": "2022-05-03T05:42:49.623202Z",
          "shell.execute_reply.started": "2022-05-03T05:42:49.616504Z",
          "shell.execute_reply": "2022-05-03T05:42:49.6224Z"
        },
        "trusted": true,
        "id": "kTPcEbeQATdN"
      },
      "execution_count": null,
      "outputs": []
    },
    {
      "cell_type": "code",
      "source": [
        "files.remove('uber-raw-data-janjune-15.csv')"
      ],
      "metadata": {
        "execution": {
          "iopub.status.busy": "2022-05-03T05:42:50.642193Z",
          "iopub.execute_input": "2022-05-03T05:42:50.64261Z",
          "iopub.status.idle": "2022-05-03T05:42:50.647088Z",
          "shell.execute_reply.started": "2022-05-03T05:42:50.642566Z",
          "shell.execute_reply": "2022-05-03T05:42:50.646098Z"
        },
        "trusted": true,
        "id": "778i21ODATdN"
      },
      "execution_count": null,
      "outputs": []
    },
    {
      "cell_type": "code",
      "source": [
        "apr=pd.read_csv(r'../input/uber-pickups-in-new-york-city/uber-raw-data-apr14.csv')\n",
        "apr_data=pd.DataFrame(apr)\n",
        "apr_data.head()"
      ],
      "metadata": {
        "execution": {
          "iopub.status.busy": "2022-05-03T05:42:51.099847Z",
          "iopub.execute_input": "2022-05-03T05:42:51.100346Z",
          "iopub.status.idle": "2022-05-03T05:42:51.612955Z",
          "shell.execute_reply.started": "2022-05-03T05:42:51.1003Z",
          "shell.execute_reply": "2022-05-03T05:42:51.611845Z"
        },
        "trusted": true,
        "id": "Ab44lsd_ATdN"
      },
      "execution_count": null,
      "outputs": []
    },
    {
      "cell_type": "code",
      "source": [
        "aug=pd.read_csv(r'../input/uber-pickups-in-new-york-city/uber-raw-data-aug14.csv')\n",
        "aug_data=pd.DataFrame(aug)\n",
        "aug_data.head()"
      ],
      "metadata": {
        "execution": {
          "iopub.status.busy": "2022-05-03T05:42:52.474501Z",
          "iopub.execute_input": "2022-05-03T05:42:52.47477Z",
          "iopub.status.idle": "2022-05-03T05:42:53.194876Z",
          "shell.execute_reply.started": "2022-05-03T05:42:52.474739Z",
          "shell.execute_reply": "2022-05-03T05:42:53.194232Z"
        },
        "trusted": true,
        "id": "od4cSeXvATdO"
      },
      "execution_count": null,
      "outputs": []
    },
    {
      "cell_type": "code",
      "source": [
        "july=pd.read_csv(r'../input/uber-pickups-in-new-york-city/uber-raw-data-jul14.csv')\n",
        "july_data=pd.DataFrame(july)\n",
        "july_data.head()"
      ],
      "metadata": {
        "execution": {
          "iopub.status.busy": "2022-05-03T05:42:53.196477Z",
          "iopub.execute_input": "2022-05-03T05:42:53.196855Z",
          "iopub.status.idle": "2022-05-03T05:42:53.88869Z",
          "shell.execute_reply.started": "2022-05-03T05:42:53.196818Z",
          "shell.execute_reply": "2022-05-03T05:42:53.887695Z"
        },
        "trusted": true,
        "id": "UgilfVnSATdP"
      },
      "execution_count": null,
      "outputs": []
    },
    {
      "cell_type": "code",
      "source": [
        "jun=pd.read_csv(r'../input/uber-pickups-in-new-york-city/uber-raw-data-jun14.csv')\n",
        "jun_data=pd.DataFrame(jun)\n",
        "jun_data.head()"
      ],
      "metadata": {
        "execution": {
          "iopub.status.busy": "2022-05-03T05:42:53.890207Z",
          "iopub.execute_input": "2022-05-03T05:42:53.890578Z",
          "iopub.status.idle": "2022-05-03T05:42:54.48055Z",
          "shell.execute_reply.started": "2022-05-03T05:42:53.890541Z",
          "shell.execute_reply": "2022-05-03T05:42:54.479516Z"
        },
        "trusted": true,
        "id": "YLoT-3xfATdP"
      },
      "execution_count": null,
      "outputs": []
    },
    {
      "cell_type": "code",
      "source": [
        "may=pd.read_csv(r'../input/uber-pickups-in-new-york-city/uber-raw-data-may14.csv')\n",
        "may_data=pd.DataFrame(may)\n",
        "may_data.head()"
      ],
      "metadata": {
        "execution": {
          "iopub.status.busy": "2022-05-03T05:42:54.48207Z",
          "iopub.execute_input": "2022-05-03T05:42:54.482424Z",
          "iopub.status.idle": "2022-05-03T05:42:55.065071Z",
          "shell.execute_reply.started": "2022-05-03T05:42:54.48239Z",
          "shell.execute_reply": "2022-05-03T05:42:55.064005Z"
        },
        "trusted": true,
        "id": "zs5wSwCDATdQ"
      },
      "execution_count": null,
      "outputs": []
    },
    {
      "cell_type": "code",
      "source": [
        "sep=pd.read_csv(r'../input/uber-pickups-in-new-york-city/uber-raw-data-sep14.csv')\n",
        "sep_data=pd.DataFrame(sep)\n",
        "sep_data.head()"
      ],
      "metadata": {
        "execution": {
          "iopub.status.busy": "2022-05-03T05:42:55.067164Z",
          "iopub.execute_input": "2022-05-03T05:42:55.067759Z",
          "iopub.status.idle": "2022-05-03T05:42:55.941138Z",
          "shell.execute_reply.started": "2022-05-03T05:42:55.067711Z",
          "shell.execute_reply": "2022-05-03T05:42:55.940418Z"
        },
        "trusted": true,
        "id": "I0-vG3tzATdQ"
      },
      "execution_count": null,
      "outputs": []
    },
    {
      "cell_type": "code",
      "source": [
        "final=pd.concat([apr_data,aug_data,july_data,jun_data,may_data,sep_data])\n",
        "final.shape"
      ],
      "metadata": {
        "execution": {
          "iopub.status.busy": "2022-05-03T05:42:55.943028Z",
          "iopub.execute_input": "2022-05-03T05:42:55.943295Z",
          "iopub.status.idle": "2022-05-03T05:42:56.231032Z",
          "shell.execute_reply.started": "2022-05-03T05:42:55.943257Z",
          "shell.execute_reply": "2022-05-03T05:42:56.230208Z"
        },
        "trusted": true,
        "id": "wpqNgA3yATdR"
      },
      "execution_count": null,
      "outputs": []
    },
    {
      "cell_type": "code",
      "source": [
        "df=final.copy()\n",
        "df.head()"
      ],
      "metadata": {
        "execution": {
          "iopub.status.busy": "2022-05-03T05:42:56.232319Z",
          "iopub.execute_input": "2022-05-03T05:42:56.232617Z",
          "iopub.status.idle": "2022-05-03T05:42:56.596527Z",
          "shell.execute_reply.started": "2022-05-03T05:42:56.232581Z",
          "shell.execute_reply": "2022-05-03T05:42:56.59539Z"
        },
        "trusted": true,
        "id": "1USfVn6sATdR"
      },
      "execution_count": null,
      "outputs": []
    },
    {
      "cell_type": "code",
      "source": [
        "df.dtypes"
      ],
      "metadata": {
        "execution": {
          "iopub.status.busy": "2022-05-03T05:42:56.598615Z",
          "iopub.execute_input": "2022-05-03T05:42:56.599462Z",
          "iopub.status.idle": "2022-05-03T05:42:56.607268Z",
          "shell.execute_reply.started": "2022-05-03T05:42:56.599399Z",
          "shell.execute_reply": "2022-05-03T05:42:56.606444Z"
        },
        "trusted": true,
        "id": "0vhzCIzhATdS"
      },
      "execution_count": null,
      "outputs": []
    },
    {
      "cell_type": "markdown",
      "source": [
        ""
      ],
      "metadata": {
        "id": "jvjgCMH9ATdS"
      }
    },
    {
      "cell_type": "markdown",
      "source": [
        "pre-processing"
      ],
      "metadata": {
        "id": "DFHLijouATdU"
      }
    },
    {
      "cell_type": "code",
      "source": [
        "df['Date/Time']=pd.to_datetime(df['Date/Time'])"
      ],
      "metadata": {
        "execution": {
          "iopub.status.busy": "2022-05-03T05:42:57.986928Z",
          "iopub.execute_input": "2022-05-03T05:42:57.987285Z"
        },
        "trusted": true,
        "id": "DuJJScsnATdU"
      },
      "execution_count": null,
      "outputs": []
    },
    {
      "cell_type": "code",
      "source": [
        "df.dtypes"
      ],
      "metadata": {
        "trusted": true,
        "id": "2AAs61D0ATdU"
      },
      "execution_count": null,
      "outputs": []
    },
    {
      "cell_type": "code",
      "source": [
        "df.head()"
      ],
      "metadata": {
        "trusted": true,
        "id": "kT_S7XJxATdV"
      },
      "execution_count": null,
      "outputs": []
    },
    {
      "cell_type": "markdown",
      "source": [
        "SPLITTING DATA WITH ADDITIONAL COLUMNS"
      ],
      "metadata": {
        "id": "4-LgbQC9ATdV"
      }
    },
    {
      "cell_type": "code",
      "source": [
        "df['weekday']=df['Date/Time'].dt.day_name()"
      ],
      "metadata": {
        "trusted": true,
        "id": "px4PoaH9ATdV"
      },
      "execution_count": null,
      "outputs": []
    },
    {
      "cell_type": "code",
      "source": [
        "df['day']=df['Date/Time'].dt.day"
      ],
      "metadata": {
        "trusted": true,
        "id": "EQM-mSMXATdW"
      },
      "execution_count": null,
      "outputs": []
    },
    {
      "cell_type": "code",
      "source": [
        "df['minute']=df['Date/Time'].dt.minute"
      ],
      "metadata": {
        "trusted": true,
        "id": "fOHyN7AwATdW"
      },
      "execution_count": null,
      "outputs": []
    },
    {
      "cell_type": "code",
      "source": [
        "df['month']=df['Date/Time'].dt.month"
      ],
      "metadata": {
        "trusted": true,
        "id": "JrUNgIe7ATdW"
      },
      "execution_count": null,
      "outputs": []
    },
    {
      "cell_type": "code",
      "source": [
        "df['hour']=df['Date/Time'].dt.hour"
      ],
      "metadata": {
        "trusted": true,
        "id": "41yQr-nQATdX"
      },
      "execution_count": null,
      "outputs": []
    },
    {
      "cell_type": "code",
      "source": [
        "df.head()"
      ],
      "metadata": {
        "trusted": true,
        "id": "D5l6ZwvKATdX"
      },
      "execution_count": null,
      "outputs": []
    },
    {
      "cell_type": "markdown",
      "source": [
        "ANALYSIS OF JOURNEY BY WEEKDAYS"
      ],
      "metadata": {
        "id": "K_VZWGK9ATdX"
      }
    },
    {
      "cell_type": "code",
      "source": [
        "import plotly.express as px"
      ],
      "metadata": {
        "trusted": true,
        "id": "k5ijVzoDATdY"
      },
      "execution_count": null,
      "outputs": []
    },
    {
      "cell_type": "code",
      "source": [
        "px.bar(x=df['weekday'].value_counts().index,\n",
        "      y=df['weekday'].value_counts())"
      ],
      "metadata": {
        "trusted": true,
        "id": "0xnYCEmfATdY"
      },
      "execution_count": null,
      "outputs": []
    },
    {
      "cell_type": "code",
      "source": [
        "df['weekday'].value_counts()"
      ],
      "metadata": {
        "trusted": true,
        "id": "JWF27bplATdY"
      },
      "execution_count": null,
      "outputs": []
    },
    {
      "cell_type": "markdown",
      "source": [
        "ANALYSIS OF JOURNEY BY HOURS"
      ],
      "metadata": {
        "id": "1i_PEpXbATdY"
      }
    },
    {
      "cell_type": "code",
      "source": [
        "plt.hist(df['hour'])"
      ],
      "metadata": {
        "trusted": true,
        "id": "Ovxf7H7yATdZ"
      },
      "execution_count": null,
      "outputs": []
    },
    {
      "cell_type": "code",
      "source": [
        "df['hour'].unique()"
      ],
      "metadata": {
        "trusted": true,
        "id": "gxviIfptATdZ"
      },
      "execution_count": null,
      "outputs": []
    },
    {
      "cell_type": "code",
      "source": [
        "df['month'].unique()"
      ],
      "metadata": {
        "trusted": true,
        "id": "ovJKafNiATdZ"
      },
      "execution_count": null,
      "outputs": []
    },
    {
      "cell_type": "markdown",
      "source": [
        "ANALYSING RIDES IN EACH MONTH AT EACH HOUR"
      ],
      "metadata": {
        "id": "rAGHEBYDATdZ"
      }
    },
    {
      "cell_type": "code",
      "source": [
        "plt.figure(figsize=(40,20))\n",
        "for i, month in enumerate(df['month'].unique()):\n",
        "    plt.subplot(3,2,i+1)\n",
        "    df[df['month']==month]['hour'].hist()"
      ],
      "metadata": {
        "trusted": true,
        "id": "nqbm9hiQATdZ"
      },
      "execution_count": null,
      "outputs": []
    },
    {
      "cell_type": "markdown",
      "source": [
        "ANALYSING WHICH MONTH HAS MAXIMUM RIDES"
      ],
      "metadata": {
        "id": "1Kdw9bhAATda"
      }
    },
    {
      "cell_type": "code",
      "source": [
        "df.groupby('month')['hour'].count()"
      ],
      "metadata": {
        "trusted": true,
        "id": "N6KDGSMhATda"
      },
      "execution_count": null,
      "outputs": []
    },
    {
      "cell_type": "code",
      "source": [
        "px.bar(x=df.groupby('month')['hour'].count().index,\n",
        "      y=df.groupby('month')['hour'].count())"
      ],
      "metadata": {
        "trusted": true,
        "id": "syJ41IhNATda"
      },
      "execution_count": null,
      "outputs": []
    },
    {
      "cell_type": "markdown",
      "source": [
        "ANALYSING JOURNEY OF EACH DAY"
      ],
      "metadata": {
        "id": "1dGVhfYeATda"
      }
    },
    {
      "cell_type": "code",
      "source": [
        "plt.figure(figsize=(10,8))\n",
        "plt.hist(df['day'],bins=30,rwidth=.8)\n",
        "plt.xlabel('date of the month')\n",
        "plt.ylabel('total journeys')\n",
        "plt.title('journeys by month day')"
      ],
      "metadata": {
        "trusted": true,
        "id": "zFU92_ICATda"
      },
      "execution_count": null,
      "outputs": []
    },
    {
      "cell_type": "markdown",
      "source": [
        "ANALYSING TOTAL RIDES MONTH WISE"
      ],
      "metadata": {
        "id": "RheYutbVATda"
      }
    },
    {
      "cell_type": "code",
      "source": [
        "plt.figure(figsize=(20,8))\n",
        "for i, month in enumerate(df['month'].unique(),1):\n",
        "    plt.subplot(3,2,i)\n",
        "    df_out=df[df['month']==month]\n",
        "    plt.hist(df_out['day'])\n",
        "    plt.xlabel('days in month')\n",
        "    plt.ylabel('total_rides')"
      ],
      "metadata": {
        "trusted": true,
        "id": "75qwzGhCATdb"
      },
      "execution_count": null,
      "outputs": []
    },
    {
      "cell_type": "markdown",
      "source": [
        "ANALYSING RUSH IN EACH HOUR"
      ],
      "metadata": {
        "id": "ICS0noAOATdb"
      }
    },
    {
      "cell_type": "code",
      "source": [
        "ax=sns.pointplot(x='hour',y='Lat',data=df,hue='weekday')\n",
        "ax.set_title('hoursoffday vs latitude of passenger')"
      ],
      "metadata": {
        "trusted": true,
        "id": "nif1ie6aATdb"
      },
      "execution_count": null,
      "outputs": []
    },
    {
      "cell_type": "markdown",
      "source": [
        "ANALYSE WHICH BASE NUMBER GETS POPULAR BY MONTH NAME"
      ],
      "metadata": {
        "id": "hRhcr4MRATdb"
      }
    },
    {
      "cell_type": "code",
      "source": [
        "base=df.groupby(['Base','month'])['Date/Time'].count().reset_index()\n",
        "base"
      ],
      "metadata": {
        "trusted": true,
        "id": "BEWjJ4m4ATdb"
      },
      "execution_count": null,
      "outputs": []
    },
    {
      "cell_type": "code",
      "source": [
        "plt.figure(figsize=(10,6))\n",
        "sns.lineplot(x='month',y='Date/Time',hue='Base',data=base)"
      ],
      "metadata": {
        "trusted": true,
        "id": "Tf5pNCeuATdc"
      },
      "execution_count": null,
      "outputs": []
    },
    {
      "cell_type": "markdown",
      "source": [
        "HEATMAP BETWEEN WEEKDAY AND HOURS"
      ],
      "metadata": {
        "id": "E8RqHZf0ATdc"
      }
    },
    {
      "cell_type": "code",
      "source": [
        "def count_rows(rows):\n",
        "    return len(rows)"
      ],
      "metadata": {
        "execution": {
          "iopub.status.busy": "2022-05-03T04:35:52.724753Z",
          "iopub.execute_input": "2022-05-03T04:35:52.725004Z",
          "iopub.status.idle": "2022-05-03T04:35:52.730431Z",
          "shell.execute_reply.started": "2022-05-03T04:35:52.724973Z",
          "shell.execute_reply": "2022-05-03T04:35:52.72941Z"
        },
        "trusted": true,
        "id": "-okZCWOxATdc"
      },
      "execution_count": null,
      "outputs": []
    },
    {
      "cell_type": "code",
      "source": [
        "by_cross=df.groupby(['weekday','hour']).apply(count_rows)\n",
        "by_cross"
      ],
      "metadata": {
        "execution": {
          "iopub.status.busy": "2022-05-03T04:35:52.731732Z",
          "iopub.execute_input": "2022-05-03T04:35:52.732034Z",
          "iopub.status.idle": "2022-05-03T04:35:53.820333Z",
          "shell.execute_reply.started": "2022-05-03T04:35:52.731967Z",
          "shell.execute_reply": "2022-05-03T04:35:53.819279Z"
        },
        "trusted": true,
        "id": "K6Myc7r9ATdc"
      },
      "execution_count": null,
      "outputs": []
    },
    {
      "cell_type": "code",
      "source": [
        "pivot=by_cross.unstack()\n",
        "pivot"
      ],
      "metadata": {
        "execution": {
          "iopub.status.busy": "2022-05-03T04:35:53.821615Z",
          "iopub.execute_input": "2022-05-03T04:35:53.82187Z",
          "iopub.status.idle": "2022-05-03T04:35:53.846531Z",
          "shell.execute_reply.started": "2022-05-03T04:35:53.821838Z",
          "shell.execute_reply": "2022-05-03T04:35:53.845524Z"
        },
        "trusted": true,
        "id": "9Bo1BxdOATdc"
      },
      "execution_count": null,
      "outputs": []
    },
    {
      "cell_type": "code",
      "source": [
        "plt.figure(figsize=(10,6))\n",
        "sns.heatmap(pivot)"
      ],
      "metadata": {
        "execution": {
          "iopub.status.busy": "2022-05-03T04:35:53.848019Z",
          "iopub.execute_input": "2022-05-03T04:35:53.848376Z",
          "iopub.status.idle": "2022-05-03T04:35:54.282906Z",
          "shell.execute_reply.started": "2022-05-03T04:35:53.848337Z",
          "shell.execute_reply": "2022-05-03T04:35:54.282025Z"
        },
        "trusted": true,
        "id": "IwtVQtsJATdc"
      },
      "execution_count": null,
      "outputs": []
    },
    {
      "cell_type": "code",
      "source": [
        "def heatmap(col1,col2):\n",
        "    by_cross=df.groupby([col1,col2]).apply(count_rows)\n",
        "    pivot=by_cross.unstack()\n",
        "    plt.figure(figsize=(10,6))\n",
        "    return sns.heatmap(pivot)"
      ],
      "metadata": {
        "execution": {
          "iopub.status.busy": "2022-05-03T04:35:54.2864Z",
          "iopub.execute_input": "2022-05-03T04:35:54.286675Z",
          "iopub.status.idle": "2022-05-03T04:35:54.293028Z",
          "shell.execute_reply.started": "2022-05-03T04:35:54.28664Z",
          "shell.execute_reply": "2022-05-03T04:35:54.292058Z"
        },
        "trusted": true,
        "id": "mpFjhzWdATdd"
      },
      "execution_count": null,
      "outputs": []
    },
    {
      "cell_type": "code",
      "source": [
        "heatmap('day','hour')"
      ],
      "metadata": {
        "execution": {
          "iopub.status.busy": "2022-05-03T04:35:54.294827Z",
          "iopub.execute_input": "2022-05-03T04:35:54.295095Z",
          "iopub.status.idle": "2022-05-03T04:35:55.683154Z",
          "shell.execute_reply.started": "2022-05-03T04:35:54.295061Z",
          "shell.execute_reply": "2022-05-03T04:35:55.682257Z"
        },
        "trusted": true,
        "id": "27BKRlGSATdd"
      },
      "execution_count": null,
      "outputs": []
    },
    {
      "cell_type": "code",
      "source": [
        "heatmap('month','hour')"
      ],
      "metadata": {
        "execution": {
          "iopub.status.busy": "2022-05-03T04:35:55.684539Z",
          "iopub.execute_input": "2022-05-03T04:35:55.684784Z",
          "iopub.status.idle": "2022-05-03T04:35:56.775495Z",
          "shell.execute_reply.started": "2022-05-03T04:35:55.684753Z",
          "shell.execute_reply": "2022-05-03T04:35:56.774632Z"
        },
        "trusted": true,
        "id": "2sQMlNkvATdd"
      },
      "execution_count": null,
      "outputs": []
    },
    {
      "cell_type": "markdown",
      "source": [
        ""
      ],
      "metadata": {
        "id": "dlmrNy-BATdd"
      }
    },
    {
      "cell_type": "markdown",
      "source": [
        "ANALYSING RUSH AT EACH LOCATION"
      ],
      "metadata": {
        "id": "YlR9RfQPATdd"
      }
    },
    {
      "cell_type": "code",
      "source": [
        "plt.plot(df['Lon'],df['Lat'],'r+')"
      ],
      "metadata": {
        "execution": {
          "iopub.status.busy": "2022-05-03T04:35:56.777327Z",
          "iopub.execute_input": "2022-05-03T04:35:56.777852Z",
          "iopub.status.idle": "2022-05-03T04:36:02.16005Z",
          "shell.execute_reply.started": "2022-05-03T04:35:56.777801Z",
          "shell.execute_reply": "2022-05-03T04:36:02.159115Z"
        },
        "trusted": true,
        "id": "GFYOOlYDATdd"
      },
      "execution_count": null,
      "outputs": []
    },
    {
      "cell_type": "code",
      "source": [
        "plt.figure(figsize=(12,6))\n",
        "plt.plot(df['Lon'],df['Lat'],'r+')\n",
        "plt.xlim(-74.2,-73.7)\n",
        "plt.ylim(40.6,41)"
      ],
      "metadata": {
        "execution": {
          "iopub.status.busy": "2022-05-03T04:36:02.161573Z",
          "iopub.execute_input": "2022-05-03T04:36:02.162521Z",
          "iopub.status.idle": "2022-05-03T04:36:07.767891Z",
          "shell.execute_reply.started": "2022-05-03T04:36:02.162472Z",
          "shell.execute_reply": "2022-05-03T04:36:07.767111Z"
        },
        "trusted": true,
        "id": "2y_RPBiPATdd"
      },
      "execution_count": null,
      "outputs": []
    }
  ]
}
